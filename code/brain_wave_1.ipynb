{
 "cells": [
  {
   "cell_type": "code",
   "execution_count": 1,
   "metadata": {},
   "outputs": [
    {
     "data": {
      "text/html": [
       "<div>\n",
       "<style scoped>\n",
       "    .dataframe tbody tr th:only-of-type {\n",
       "        vertical-align: middle;\n",
       "    }\n",
       "\n",
       "    .dataframe tbody tr th {\n",
       "        vertical-align: top;\n",
       "    }\n",
       "\n",
       "    .dataframe thead th {\n",
       "        text-align: right;\n",
       "    }\n",
       "</style>\n",
       "<table border=\"1\" class=\"dataframe\">\n",
       "  <thead>\n",
       "    <tr style=\"text-align: right;\">\n",
       "      <th></th>\n",
       "      <th>Complaint-ID</th>\n",
       "      <th>Date-received</th>\n",
       "      <th>Transaction-Type</th>\n",
       "      <th>Complaint-reason</th>\n",
       "      <th>Company-response</th>\n",
       "      <th>Date-sent-to-company</th>\n",
       "      <th>Complaint-Status</th>\n",
       "      <th>Consumer-disputes</th>\n",
       "      <th>Consumer-complaint-summary</th>\n",
       "    </tr>\n",
       "  </thead>\n",
       "  <tbody>\n",
       "    <tr>\n",
       "      <th>0</th>\n",
       "      <td>Tr-1</td>\n",
       "      <td>11/11/2015</td>\n",
       "      <td>Mortgage</td>\n",
       "      <td>Loan servicing, payments, escrow account</td>\n",
       "      <td>NaN</td>\n",
       "      <td>11/11/2015</td>\n",
       "      <td>Closed with explanation</td>\n",
       "      <td>Yes</td>\n",
       "      <td>Seterus, Inc a déposé un faux rapport auprès d...</td>\n",
       "    </tr>\n",
       "    <tr>\n",
       "      <th>1</th>\n",
       "      <td>Tr-2</td>\n",
       "      <td>7/7/2015</td>\n",
       "      <td>Credit reporting</td>\n",
       "      <td>Incorrect information on credit report</td>\n",
       "      <td>Company chooses not to provide a public response</td>\n",
       "      <td>7/7/2015</td>\n",
       "      <td>Closed with non-monetary relief</td>\n",
       "      <td>No</td>\n",
       "      <td>XX / XX / XXXX La requête en faillite n ° XXXX...</td>\n",
       "    </tr>\n",
       "    <tr>\n",
       "      <th>2</th>\n",
       "      <td>Tr-3</td>\n",
       "      <td>5/7/2015</td>\n",
       "      <td>Bank account or service</td>\n",
       "      <td>Using a debit or ATM card</td>\n",
       "      <td>NaN</td>\n",
       "      <td>5/7/2015</td>\n",
       "      <td>Closed with explanation</td>\n",
       "      <td>No</td>\n",
       "      <td>El XXXX / XXXX / 15, estaba preparando el vuel...</td>\n",
       "    </tr>\n",
       "    <tr>\n",
       "      <th>3</th>\n",
       "      <td>Tr-4</td>\n",
       "      <td>11/12/2016</td>\n",
       "      <td>Debt collection</td>\n",
       "      <td>Cont'd attempts collect debt not owed</td>\n",
       "      <td>Company believes it acted appropriately as aut...</td>\n",
       "      <td>11/12/2016</td>\n",
       "      <td>Closed with explanation</td>\n",
       "      <td>No</td>\n",
       "      <td>The loan was paid in XXXX XXXX. In XXXX, 4 yea...</td>\n",
       "    </tr>\n",
       "    <tr>\n",
       "      <th>4</th>\n",
       "      <td>Tr-5</td>\n",
       "      <td>9/29/2016</td>\n",
       "      <td>Credit card</td>\n",
       "      <td>Payoff process</td>\n",
       "      <td>Company has responded to the consumer and the ...</td>\n",
       "      <td>9/29/2016</td>\n",
       "      <td>Closed with explanation</td>\n",
       "      <td>No</td>\n",
       "      <td>J'ai obtenu un compte de crédit de soins pour ...</td>\n",
       "    </tr>\n",
       "    <tr>\n",
       "      <th>5</th>\n",
       "      <td>Tr-6</td>\n",
       "      <td>8/2/2016</td>\n",
       "      <td>Mortgage</td>\n",
       "      <td>Loan modification,collection,foreclosure</td>\n",
       "      <td>NaN</td>\n",
       "      <td>8/3/2016</td>\n",
       "      <td>Closed with explanation</td>\n",
       "      <td>Yes</td>\n",
       "      <td>The owner of my original mortgage filed for ba...</td>\n",
       "    </tr>\n",
       "    <tr>\n",
       "      <th>6</th>\n",
       "      <td>Tr-7</td>\n",
       "      <td>3/26/2017</td>\n",
       "      <td>Credit reporting</td>\n",
       "      <td>Incorrect information on credit report</td>\n",
       "      <td>NaN</td>\n",
       "      <td>3/26/2017</td>\n",
       "      <td>Closed with explanation</td>\n",
       "      <td>No</td>\n",
       "      <td>J'ai été victime d'une fraude d'identité et j'...</td>\n",
       "    </tr>\n",
       "    <tr>\n",
       "      <th>7</th>\n",
       "      <td>Tr-8</td>\n",
       "      <td>10/15/2016</td>\n",
       "      <td>Bank account or service</td>\n",
       "      <td>Problems caused by my funds being low</td>\n",
       "      <td>Company has responded to the consumer and the ...</td>\n",
       "      <td>10/15/2016</td>\n",
       "      <td>Closed with explanation</td>\n",
       "      <td>No</td>\n",
       "      <td>Je suis en train de faire faillite et, par con...</td>\n",
       "    </tr>\n",
       "    <tr>\n",
       "      <th>8</th>\n",
       "      <td>Tr-9</td>\n",
       "      <td>1/18/2016</td>\n",
       "      <td>Debt collection</td>\n",
       "      <td>Cont'd attempts collect debt not owed</td>\n",
       "      <td>NaN</td>\n",
       "      <td>1/18/2016</td>\n",
       "      <td>Closed with explanation</td>\n",
       "      <td>Yes</td>\n",
       "      <td>Una agencia de cobranza me hizo adulterar de q...</td>\n",
       "    </tr>\n",
       "    <tr>\n",
       "      <th>9</th>\n",
       "      <td>Tr-10</td>\n",
       "      <td>8/17/2015</td>\n",
       "      <td>Credit reporting</td>\n",
       "      <td>Incorrect information on credit report</td>\n",
       "      <td>Company chooses not to provide a public response</td>\n",
       "      <td>8/17/2015</td>\n",
       "      <td>Closed with non-monetary relief</td>\n",
       "      <td>No</td>\n",
       "      <td>Le XXXX / XXXX / 2015, j'ai reçu une réponse d...</td>\n",
       "    </tr>\n",
       "  </tbody>\n",
       "</table>\n",
       "</div>"
      ],
      "text/plain": [
       "  Complaint-ID Date-received         Transaction-Type  \\\n",
       "0         Tr-1    11/11/2015                 Mortgage   \n",
       "1         Tr-2      7/7/2015         Credit reporting   \n",
       "2         Tr-3      5/7/2015  Bank account or service   \n",
       "3         Tr-4    11/12/2016          Debt collection   \n",
       "4         Tr-5     9/29/2016              Credit card   \n",
       "5         Tr-6      8/2/2016                 Mortgage   \n",
       "6         Tr-7     3/26/2017         Credit reporting   \n",
       "7         Tr-8    10/15/2016  Bank account or service   \n",
       "8         Tr-9     1/18/2016          Debt collection   \n",
       "9        Tr-10     8/17/2015         Credit reporting   \n",
       "\n",
       "                           Complaint-reason  \\\n",
       "0  Loan servicing, payments, escrow account   \n",
       "1    Incorrect information on credit report   \n",
       "2                 Using a debit or ATM card   \n",
       "3     Cont'd attempts collect debt not owed   \n",
       "4                            Payoff process   \n",
       "5  Loan modification,collection,foreclosure   \n",
       "6    Incorrect information on credit report   \n",
       "7     Problems caused by my funds being low   \n",
       "8     Cont'd attempts collect debt not owed   \n",
       "9    Incorrect information on credit report   \n",
       "\n",
       "                                    Company-response Date-sent-to-company  \\\n",
       "0                                                NaN           11/11/2015   \n",
       "1   Company chooses not to provide a public response             7/7/2015   \n",
       "2                                                NaN             5/7/2015   \n",
       "3  Company believes it acted appropriately as aut...           11/12/2016   \n",
       "4  Company has responded to the consumer and the ...            9/29/2016   \n",
       "5                                                NaN             8/3/2016   \n",
       "6                                                NaN            3/26/2017   \n",
       "7  Company has responded to the consumer and the ...           10/15/2016   \n",
       "8                                                NaN            1/18/2016   \n",
       "9   Company chooses not to provide a public response            8/17/2015   \n",
       "\n",
       "                  Complaint-Status Consumer-disputes  \\\n",
       "0          Closed with explanation               Yes   \n",
       "1  Closed with non-monetary relief                No   \n",
       "2          Closed with explanation                No   \n",
       "3          Closed with explanation                No   \n",
       "4          Closed with explanation                No   \n",
       "5          Closed with explanation               Yes   \n",
       "6          Closed with explanation                No   \n",
       "7          Closed with explanation                No   \n",
       "8          Closed with explanation               Yes   \n",
       "9  Closed with non-monetary relief                No   \n",
       "\n",
       "                          Consumer-complaint-summary  \n",
       "0  Seterus, Inc a déposé un faux rapport auprès d...  \n",
       "1  XX / XX / XXXX La requête en faillite n ° XXXX...  \n",
       "2  El XXXX / XXXX / 15, estaba preparando el vuel...  \n",
       "3  The loan was paid in XXXX XXXX. In XXXX, 4 yea...  \n",
       "4  J'ai obtenu un compte de crédit de soins pour ...  \n",
       "5  The owner of my original mortgage filed for ba...  \n",
       "6  J'ai été victime d'une fraude d'identité et j'...  \n",
       "7  Je suis en train de faire faillite et, par con...  \n",
       "8  Una agencia de cobranza me hizo adulterar de q...  \n",
       "9  Le XXXX / XXXX / 2015, j'ai reçu une réponse d...  "
      ]
     },
     "execution_count": 1,
     "metadata": {},
     "output_type": "execute_result"
    }
   ],
   "source": [
    "import numpy as np\n",
    "import pandas as pd\n",
    "import matplotlib.pyplot as plt\n",
    "import seaborn as sns\n",
    "%matplotlib inline\n",
    "from sklearn.model_selection import train_test_split\n",
    "\n",
    "df=pd.read_csv('train_brainwave1.csv')\n",
    "#test_data=pd.read_csv('test_brainwave1.csv')\n",
    "df.head(10)"
   ]
  },
  {
   "cell_type": "code",
   "execution_count": 2,
   "metadata": {},
   "outputs": [
    {
     "data": {
      "text/plain": [
       "Complaint-ID                      0\n",
       "Date-received                     0\n",
       "Transaction-Type                  0\n",
       "Complaint-reason                  0\n",
       "Company-response              22506\n",
       "Date-sent-to-company              0\n",
       "Complaint-Status                  0\n",
       "Consumer-disputes              7698\n",
       "Consumer-complaint-summary        0\n",
       "dtype: int64"
      ]
     },
     "execution_count": 2,
     "metadata": {},
     "output_type": "execute_result"
    }
   ],
   "source": [
    "df.isnull().sum()"
   ]
  },
  {
   "cell_type": "code",
   "execution_count": 3,
   "metadata": {},
   "outputs": [
    {
     "data": {
      "text/plain": [
       "array(['Closed with explanation', 'Closed with non-monetary relief',\n",
       "       'Closed', 'Closed with monetary relief', 'Untimely response'],\n",
       "      dtype=object)"
      ]
     },
     "execution_count": 3,
     "metadata": {},
     "output_type": "execute_result"
    }
   ],
   "source": [
    "df[\"Complaint-Status\"].unique()"
   ]
  },
  {
   "cell_type": "markdown",
   "metadata": {},
   "source": [
    "# replacing nans for Closed with non monetary relief"
   ]
  },
  {
   "cell_type": "code",
   "execution_count": 4,
   "metadata": {},
   "outputs": [],
   "source": [
    "df[\"Complaint-Status\"].unique()\n",
    "ls=[]\n",
    "count=-1\n",
    "for i in df[\"Complaint-Status\"]:\n",
    "    count+=1\n",
    "    if i == \"Closed with non-monetary relief\":\n",
    "        ls.append(count)"
   ]
  },
  {
   "cell_type": "code",
   "execution_count": 5,
   "metadata": {},
   "outputs": [
    {
     "data": {
      "text/plain": [
       "'Company has responded to the consumer and the CFPB and chooses not to provide a public response'"
      ]
     },
     "execution_count": 5,
     "metadata": {},
     "output_type": "execute_result"
    }
   ],
   "source": [
    "c=0\n",
    "s=\"nan\"\n",
    "rep_s=\"Company has responded to the consumer and the CFPB and chooses not to provide a public response\"\n",
    "for i in ls:\n",
    "    if s == str(df[\"Company-response\"].iloc[i]):\n",
    "        df[\"Company-response\"].iloc[i]=rep_s\n",
    "        \n",
    "        \n",
    "df[\"Company-response\"].iloc[6054]"
   ]
  },
  {
   "cell_type": "markdown",
   "metadata": {},
   "source": [
    "# replacing nans for Closed with explanation"
   ]
  },
  {
   "cell_type": "code",
   "execution_count": 6,
   "metadata": {},
   "outputs": [],
   "source": [
    "ls=[]\n",
    "count=-1\n",
    "for i in df[\"Complaint-Status\"]:\n",
    "    count+=1\n",
    "    if i == \"Closed with explanation\":\n",
    "        ls.append(count)"
   ]
  },
  {
   "cell_type": "code",
   "execution_count": 7,
   "metadata": {},
   "outputs": [
    {
     "name": "stdout",
     "output_type": "stream",
     "text": [
      "18696\n"
     ]
    }
   ],
   "source": [
    "ls1=[]\n",
    "count=0\n",
    "for i in ls:\n",
    "    ls1.append(df[\"Company-response\"].iloc[i])\n",
    "for i in ls1:\n",
    "    if \"nan\"==str(i):\n",
    "        count+=1\n",
    "print(count)"
   ]
  },
  {
   "cell_type": "code",
   "execution_count": 8,
   "metadata": {},
   "outputs": [],
   "source": [
    "s=\"nan\"\n",
    "rep_s=\"Company has responded to the consumer and the CFPB and chooses not to provide a public response\"\n",
    "rep_s2=\"Company chooses not to provide a public response\"\n",
    "c=0\n",
    "for i in ls:\n",
    "    if s == str(df[\"Company-response\"].iloc[i]):\n",
    "        c+=1\n",
    "        if c<=9348: ## half the number of nans\n",
    "            df[\"Company-response\"].iloc[i]=rep_s\n",
    "        else:\n",
    "            df[\"Company-response\"].iloc[i]=rep_s2"
   ]
  },
  {
   "cell_type": "markdown",
   "metadata": {},
   "source": [
    "# replacing nans for Closed with monetary relief"
   ]
  },
  {
   "cell_type": "code",
   "execution_count": 9,
   "metadata": {},
   "outputs": [],
   "source": [
    "ls=[]\n",
    "count=-1\n",
    "for i in df[\"Complaint-Status\"]:\n",
    "    count+=1\n",
    "    if i == \"Closed with monetary relief\":\n",
    "        ls.append(count)"
   ]
  },
  {
   "cell_type": "code",
   "execution_count": 10,
   "metadata": {},
   "outputs": [],
   "source": [
    "c=0\n",
    "s=\"nan\"\n",
    "rep_s=\"Company has responded to the consumer and the CFPB and chooses not to provide a public response\"\n",
    "for i in ls:\n",
    "    if s == str(df[\"Company-response\"].iloc[i]):\n",
    "        c+=1"
   ]
  },
  {
   "cell_type": "code",
   "execution_count": 11,
   "metadata": {},
   "outputs": [],
   "source": [
    "c=0\n",
    "s=\"nan\"\n",
    "rep_s=\"Company has responded to the consumer and the CFPB and chooses not to provide a public response\"\n",
    "for i in ls:\n",
    "    if s == str(df[\"Company-response\"].iloc[i]):  ## nans replaced\n",
    "        df[\"Company-response\"].iloc[i]=rep_s"
   ]
  },
  {
   "cell_type": "markdown",
   "metadata": {},
   "source": [
    "# replacing nans for Closed"
   ]
  },
  {
   "cell_type": "code",
   "execution_count": 12,
   "metadata": {},
   "outputs": [],
   "source": [
    "ls=[]\n",
    "count=-1\n",
    "for i in df[\"Complaint-Status\"]:\n",
    "    count+=1\n",
    "    if i == \"Closed\":\n",
    "        ls.append(count)"
   ]
  },
  {
   "cell_type": "code",
   "execution_count": 13,
   "metadata": {},
   "outputs": [],
   "source": [
    "c=0\n",
    "s=\"nan\"\n",
    "rep_s=\"Company can't verify or dispute the facts in the complaint\"\n",
    "for i in ls:\n",
    "    if s == str(df[\"Company-response\"].iloc[i]):  ## nans replaced\n",
    "        df[\"Company-response\"].iloc[i]=rep_s"
   ]
  },
  {
   "cell_type": "markdown",
   "metadata": {},
   "source": [
    "# replacing nans for Untimely Response"
   ]
  },
  {
   "cell_type": "code",
   "execution_count": 14,
   "metadata": {},
   "outputs": [],
   "source": [
    "ls=[]\n",
    "count=-1\n",
    "for i in df[\"Complaint-Status\"]:\n",
    "    count+=1\n",
    "    if i == \"Untimely response\":\n",
    "        ls.append(count)"
   ]
  },
  {
   "cell_type": "code",
   "execution_count": 15,
   "metadata": {},
   "outputs": [],
   "source": [
    "c=0\n",
    "s=\"nan\"\n",
    "rep_s=\"Company believes complaint caused principally by actions of third party outside the control or direction of the companyt\"\n",
    "for i in ls:\n",
    "    if s == str(df[\"Company-response\"].iloc[i]):  ## nans replaced\n",
    "        df[\"Company-response\"].iloc[i]=rep_s\n",
    "        c+=1\n"
   ]
  },
  {
   "cell_type": "markdown",
   "metadata": {},
   "source": [
    "# replacing nans for Consumer Disputes"
   ]
  },
  {
   "cell_type": "code",
   "execution_count": 16,
   "metadata": {},
   "outputs": [],
   "source": [
    "ls=[]\n",
    "count=-1\n",
    "for i in df[\"Consumer-disputes\"]:\n",
    "    count+=1\n",
    "    if str(i)==\"nan\":\n",
    "        ls.append(count)"
   ]
  },
  {
   "cell_type": "code",
   "execution_count": 17,
   "metadata": {},
   "outputs": [],
   "source": [
    "c=0\n",
    "s=\"nan\"\n",
    "rep_s=\"No\"\n",
    "for i in ls:\n",
    "    if s == str(df[\"Consumer-disputes\"].iloc[i]):  ## nans replaced\n",
    "        df[\"Consumer-disputes\"].iloc[i]=rep_s"
   ]
  },
  {
   "cell_type": "markdown",
   "metadata": {},
   "source": [
    "# Selecting only those rows whose complaint-summary is in english"
   ]
  },
  {
   "cell_type": "code",
   "execution_count": 18,
   "metadata": {},
   "outputs": [
    {
     "name": "stdout",
     "output_type": "stream",
     "text": [
      "27771\n"
     ]
    }
   ],
   "source": [
    "# Problem 1 : Translation APIs\n",
    "from langdetect import detect\n",
    "\n",
    "count=0\n",
    "ls=[]\n",
    "for i in range(0,43266):\n",
    "    \n",
    "    if detect(str(df[\"Consumer-complaint-summary\"][i]))=='en':\n",
    "        count+=1\n",
    "        ls.append(i)\n",
    "df = df.iloc[ls]        \n",
    "print(count)"
   ]
  },
  {
   "cell_type": "code",
   "execution_count": 19,
   "metadata": {},
   "outputs": [
    {
     "data": {
      "text/html": [
       "<div>\n",
       "<style scoped>\n",
       "    .dataframe tbody tr th:only-of-type {\n",
       "        vertical-align: middle;\n",
       "    }\n",
       "\n",
       "    .dataframe tbody tr th {\n",
       "        vertical-align: top;\n",
       "    }\n",
       "\n",
       "    .dataframe thead th {\n",
       "        text-align: right;\n",
       "    }\n",
       "</style>\n",
       "<table border=\"1\" class=\"dataframe\">\n",
       "  <thead>\n",
       "    <tr style=\"text-align: right;\">\n",
       "      <th></th>\n",
       "      <th>Complaint-Status</th>\n",
       "      <th>Consumer_complaint_summary</th>\n",
       "      <th>Company_response</th>\n",
       "      <th>Consumer_disputes</th>\n",
       "      <th>Transaction_Type</th>\n",
       "      <th>category_id</th>\n",
       "    </tr>\n",
       "  </thead>\n",
       "  <tbody>\n",
       "    <tr>\n",
       "      <th>3</th>\n",
       "      <td>Closed with explanation</td>\n",
       "      <td>The loan was paid in XXXX XXXX. In XXXX, 4 yea...</td>\n",
       "      <td>Company believes it acted appropriately as aut...</td>\n",
       "      <td>No</td>\n",
       "      <td>Debt collection</td>\n",
       "      <td>0</td>\n",
       "    </tr>\n",
       "    <tr>\n",
       "      <th>5</th>\n",
       "      <td>Closed with explanation</td>\n",
       "      <td>The owner of my original mortgage filed for ba...</td>\n",
       "      <td>Company has responded to the consumer and the ...</td>\n",
       "      <td>Yes</td>\n",
       "      <td>Mortgage</td>\n",
       "      <td>0</td>\n",
       "    </tr>\n",
       "    <tr>\n",
       "      <th>10</th>\n",
       "      <td>Closed with explanation</td>\n",
       "      <td>My mortgage provider, United Wholesale Mortgag...</td>\n",
       "      <td>Company has responded to the consumer and the ...</td>\n",
       "      <td>No</td>\n",
       "      <td>Mortgage</td>\n",
       "      <td>0</td>\n",
       "    </tr>\n",
       "    <tr>\n",
       "      <th>11</th>\n",
       "      <td>Closed with explanation</td>\n",
       "      <td>My boyfriend and I bought a XXXX sofa and we h...</td>\n",
       "      <td>Company has responded to the consumer and the ...</td>\n",
       "      <td>No</td>\n",
       "      <td>Credit card</td>\n",
       "      <td>0</td>\n",
       "    </tr>\n",
       "    <tr>\n",
       "      <th>13</th>\n",
       "      <td>Closed with explanation</td>\n",
       "      <td>Both accounts below are settled and closed. Yo...</td>\n",
       "      <td>Company chooses not to provide a public response</td>\n",
       "      <td>No</td>\n",
       "      <td>Credit reporting</td>\n",
       "      <td>0</td>\n",
       "    </tr>\n",
       "  </tbody>\n",
       "</table>\n",
       "</div>"
      ],
      "text/plain": [
       "           Complaint-Status  \\\n",
       "3   Closed with explanation   \n",
       "5   Closed with explanation   \n",
       "10  Closed with explanation   \n",
       "11  Closed with explanation   \n",
       "13  Closed with explanation   \n",
       "\n",
       "                           Consumer_complaint_summary  \\\n",
       "3   The loan was paid in XXXX XXXX. In XXXX, 4 yea...   \n",
       "5   The owner of my original mortgage filed for ba...   \n",
       "10  My mortgage provider, United Wholesale Mortgag...   \n",
       "11  My boyfriend and I bought a XXXX sofa and we h...   \n",
       "13  Both accounts below are settled and closed. Yo...   \n",
       "\n",
       "                                     Company_response Consumer_disputes  \\\n",
       "3   Company believes it acted appropriately as aut...                No   \n",
       "5   Company has responded to the consumer and the ...               Yes   \n",
       "10  Company has responded to the consumer and the ...                No   \n",
       "11  Company has responded to the consumer and the ...                No   \n",
       "13   Company chooses not to provide a public response                No   \n",
       "\n",
       "    Transaction_Type  category_id  \n",
       "3    Debt collection            0  \n",
       "5           Mortgage            0  \n",
       "10          Mortgage            0  \n",
       "11       Credit card            0  \n",
       "13  Credit reporting            0  "
      ]
     },
     "execution_count": 19,
     "metadata": {},
     "output_type": "execute_result"
    }
   ],
   "source": [
    "from io import StringIO\n",
    "col = ['Complaint-Status', 'Consumer-complaint-summary','Company-response','Consumer-disputes','Transaction-Type']\n",
    "df = df[col]\n",
    "df = df[pd.notnull(df['Consumer-complaint-summary'])]\n",
    "df.columns = ['Complaint-Status', 'Consumer_complaint_summary','Company_response','Consumer_disputes','Transaction_Type']\n",
    "df['category_id'] = df['Complaint-Status'].factorize()[0]\n",
    "category_id_df = df[['Complaint-Status', 'category_id']].drop_duplicates().sort_values('category_id')\n",
    "category_to_id = dict(category_id_df.values)\n",
    "id_to_category = dict(category_id_df[['category_id', 'Complaint-Status']].values)\n",
    "df.head()\n"
   ]
  },
  {
   "cell_type": "code",
   "execution_count": 20,
   "metadata": {},
   "outputs": [
    {
     "data": {
      "text/plain": [
       "Complaint-Status              0\n",
       "Consumer_complaint_summary    0\n",
       "Company_response              0\n",
       "Consumer_disputes             0\n",
       "Transaction_Type              0\n",
       "category_id                   0\n",
       "dtype: int64"
      ]
     },
     "execution_count": 20,
     "metadata": {},
     "output_type": "execute_result"
    }
   ],
   "source": [
    "df.isnull().sum()"
   ]
  },
  {
   "cell_type": "code",
   "execution_count": 21,
   "metadata": {},
   "outputs": [],
   "source": [
    "df = df.head(10000) # Problem 2 : Cell no.23  giving memory error with more than 20000 samples"
   ]
  },
  {
   "cell_type": "code",
   "execution_count": 22,
   "metadata": {},
   "outputs": [
    {
     "data": {
      "image/png": "[encoded data removed]",
      "text/plain": [
       "<Figure size 576x432 with 1 Axes>"
      ]
     },
     "metadata": {
      "needs_background": "light"
     },
     "output_type": "display_data"
    }
   ],
   "source": [
    "import matplotlib.pyplot as plt\n",
    "fig = plt.figure(figsize=(8,6))\n",
    "df.groupby('Complaint-Status').Consumer_complaint_summary.count().plot.bar(ylim=0)\n",
    "plt.show()"
   ]
  },
  {
   "cell_type": "markdown",
   "metadata": {},
   "source": [
    "# Considering only complaint- summary"
   ]
  },
  {
   "cell_type": "code",
   "execution_count": 23,
   "metadata": {},
   "outputs": [
    {
     "data": {
      "text/plain": [
       "(10000, 26766)"
      ]
     },
     "execution_count": 23,
     "metadata": {},
     "output_type": "execute_result"
    }
   ],
   "source": [
    "from sklearn.feature_extraction.text import TfidfVectorizer\n",
    "tfidf = TfidfVectorizer(sublinear_tf=True, min_df=5, norm='l2', encoding='latin-1', ngram_range=(1, 2), stop_words='english')\n",
    "features1 = tfidf.fit_transform(df.Consumer_complaint_summary).toarray()\n",
    "labels = df.category_id\n",
    "features1.shape"
   ]
  },
  {
   "cell_type": "code",
   "execution_count": 24,
   "metadata": {},
   "outputs": [
    {
     "name": "stdout",
     "output_type": "stream",
     "text": [
      "# 'Closed':\n",
      "  . Most correlated unigrams:\n",
      ". aargon\n",
      ". scottrade\n",
      "  . Most correlated bigrams:\n",
      ". receive automatic\n",
      ". automatic calls\n",
      "# 'Closed with explanation':\n",
      "  . Most correlated unigrams:\n",
      ". promotion\n",
      ". rushcard\n",
      "  . Most correlated bigrams:\n",
      ". jefferson capital\n",
      ". rush card\n",
      "# 'Closed with monetary relief':\n",
      "  . Most correlated unigrams:\n",
      ". overdraft\n",
      ". fee\n",
      "  . Most correlated bigrams:\n",
      ". late fee\n",
      ". charged late\n",
      "# 'Closed with non-monetary relief':\n",
      "  . Most correlated unigrams:\n",
      ". jefferson\n",
      ". experian\n",
      "  . Most correlated bigrams:\n",
      ". capital systems\n",
      ". jefferson capital\n",
      "# 'Untimely response':\n",
      "  . Most correlated unigrams:\n",
      ". payday\n",
      ". needing\n",
      "  . Most correlated bigrams:\n",
      ". called sister\n",
      ". received voice\n"
     ]
    }
   ],
   "source": [
    "from sklearn.feature_selection import chi2\n",
    "import numpy as np\n",
    "N = 2\n",
    "for comp_sts, category_id in sorted(category_to_id.items()):\n",
    "    features1_chi2 = chi2(features1, labels == category_id)\n",
    "    indices = np.argsort(features1_chi2[0])\n",
    "    feature_names = np.array(tfidf.get_feature_names())[indices]\n",
    "    unigrams = [v for v in feature_names if len(v.split(' ')) == 1]\n",
    "    bigrams = [v for v in feature_names if len(v.split(' ')) == 2]\n",
    "    print(\"# '{}':\".format(comp_sts))\n",
    "    print(\"  . Most correlated unigrams:\\n. {}\".format('\\n. '.join(unigrams[-N:])))\n",
    "    print(\"  . Most correlated bigrams:\\n. {}\".format('\\n. '.join(bigrams[-N:])))"
   ]
  },
  {
   "cell_type": "code",
   "execution_count": 26,
   "metadata": {},
   "outputs": [],
   "source": [
    "from sklearn.model_selection import train_test_split\n",
    "from sklearn.feature_extraction.text import CountVectorizer\n",
    "from sklearn.feature_extraction.text import TfidfTransformer\n",
    "from sklearn.naive_bayes import MultinomialNB\n",
    "X_train, X_test, y_train, y_test = train_test_split(df['Consumer_complaint_summary'], df['Complaint-Status'], random_state = 0)\n",
    "count_vect = CountVectorizer()\n",
    "X_train_counts = count_vect.fit_transform(X_train)\n",
    "tfidf_transformer = TfidfTransformer()\n",
    "X_train_tfidf = tfidf_transformer.fit_transform(X_train_counts)\n",
    "clf = MultinomialNB().fit(X_train_tfidf, y_train)"
   ]
  },
  {
   "cell_type": "code",
   "execution_count": null,
   "metadata": {},
   "outputs": [],
   "source": [
    "from sklearn.linear_model import LogisticRegression\n",
    "from sklearn.ensemble import RandomForestClassifier\n",
    "from sklearn.svm import LinearSVC\n",
    "from sklearn.model_selection import cross_val_score\n",
    "models = [\n",
    "    RandomForestClassifier(n_estimators=200, max_depth=3, random_state=0),\n",
    "    LinearSVC(),\n",
    "    MultinomialNB(),\n",
    "    LogisticRegression(random_state=0),\n",
    "]\n",
    "CV = 5\n",
    "cv_df = pd.DataFrame(index=range(CV * len(models)))\n",
    "entries = []\n",
    "for model in models:\n",
    "    model_name = model.__class__.__name__\n",
    "    accuracies = cross_val_score(model, features1, labels, scoring='accuracy', cv=CV)\n",
    "    for fold_idx, accuracy in enumerate(accuracies):\n",
    "        entries.append((model_name, fold_idx, accuracy))\n",
    "cv_df = pd.DataFrame(entries, columns=['model_name', 'fold_idx', 'accuracy'])\n",
    "import seaborn as sns\n",
    "sns.boxplot(x='model_name', y='accuracy', data=cv_df)\n",
    "sns.stripplot(x='model_name', y='accuracy', data=cv_df, \n",
    "              size=8, jitter=True, edgecolor=\"gray\", linewidth=2)\n",
    "plt.show()\n"
   ]
  },
  {
   "cell_type": "code",
   "execution_count": null,
   "metadata": {},
   "outputs": [],
   "source": [
    "cv_df.groupby('model_name').accuracy.mean()  # this gives accuracy of 80.03% with SVC with 10000 samples "
   ]
  },
  {
   "cell_type": "code",
   "execution_count": null,
   "metadata": {},
   "outputs": [],
   "source": [
    "model = LinearSVC()\n",
    "X_train, X_test, y_train, y_test, indices_train, indices_test = train_test_split(features1, labels, df.index, test_size=0.33, random_state=0)\n",
    "model.fit(X_train, y_train)\n",
    "y_pred = model.predict(X_test)\n",
    "from sklearn.metrics import confusion_matrix\n",
    "conf_mat = confusion_matrix(y_test, y_pred)\n",
    "fig, ax = plt.subplots(figsize=(10,10))\n",
    "sns.heatmap(conf_mat, annot=True, fmt='d',\n",
    "            xticklabels=category_id_df['Complaint-Status'].values, yticklabels=category_id_df['model.fit(features, labels)\n",
    "N = 2\n",
    "for Product, category_id in sorted(category_to_id.items()):\n",
    "  indices = np.argsort(model.coef_[category_id])\n",
    "  feature_names = np.array(tfidf.get_feature_names())[indices]\n",
    "  unigrams = [v for v in reversed(feature_names) if len(v.split(' ')) == 1][:N]\n",
    "  bigrams = [v for v in reversed(feature_names) if len(v.split(' ')) == 2][:N]\n",
    "  print(\"# '{}':\".format(Product))\n",
    "  print(\"  . Top unigrams:\\n       . {}\".format('\\n       . '.join(unigrams)))\n",
    "  print(\"  . Top bigrams:\\n       . {}\".format('\\n       . '.join(bigrams)))Complaint-Status'].values)\n",
    "plt.ylabel('Actual')\n",
    "plt.xlabel('Predicted')\n",
    "plt.show()"
   ]
  },
  {
   "cell_type": "code",
   "execution_count": null,
   "metadata": {},
   "outputs": [],
   "source": [
    "from sklearn import metrics\n",
    "print(metrics.classification_report(y_test, y_pred, target_names=df['Complaint-Status'].unique()))\n"
   ]
  },
  {
   "cell_type": "code",
   "execution_count": null,
   "metadata": {},
   "outputs": [],
   "source": [
    "# Applying the same tfidf procedure on only Company response gave 80% accuracy with 15000 samples. \n",
    "# Problem 3 : Not able to combine all features due to different dimensions "
   ]
  }
 ],
 "metadata": {
  "kernelspec": {
   "display_name": "Python 3",
   "language": "python",
   "name": "python3"
  },
  "language_info": {
   "codemirror_mode": {
    "name": "ipython",
    "version": 3
   },
   "file_extension": ".py",
   "mimetype": "text/x-python",
   "name": "python",
   "nbconvert_exporter": "python",
   "pygments_lexer": "ipython3",
   "version": "3.6.6"
  }
 },
 "nbformat": 4,
 "nbformat_minor": 2
}

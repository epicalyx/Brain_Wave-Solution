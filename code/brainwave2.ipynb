{
 "cells": [
  {
   "cell_type": "code",
   "execution_count": 1,
   "metadata": {},
   "outputs": [],
   "source": [
    "import nltk\n",
    "from nltk.tokenize import word_tokenize\n",
    "from nltk.corpus import stopwords\n",
    "from nltk.stem import WordNetLemmatizer\n",
    "from nltk.stem import PorterStemmer\n",
    "from collections import Counter\n",
    "from nltk.corpus import stopwords\n",
    "stop_words=set(stopwords.words('english'))\n",
    "lemm = WordNetLemmatizer()\n",
    "\n",
    "lines=100000"
   ]
  },
  {
   "cell_type": "code",
   "execution_count": 2,
   "metadata": {},
   "outputs": [],
   "source": [
    "\n",
    "def create_lexicon():\n",
    "    lexicon=[]\n",
    "    with open('pos.txt','r') as f:\n",
    "        contents = f.readlines()\n",
    "        #all_words=word_tokenize(contents)\n",
    "        for l in contents[:lines]:\n",
    "            all_words=word_tokenize(l)\n",
    "            lexicon+=list(all_words)\n",
    "\n",
    "                \n",
    "                    \n",
    "            \n",
    "    with open('neg.txt','r') as f:\n",
    "        contents = f.readlines()\n",
    "        for l in contents[:lines]:\n",
    "            all_words=word_tokenize(l)\n",
    "            lexicon += list(all_words)\n",
    "    \n",
    "    lexicon = [lemm.lemmatize(i,pos='n') for i in lexicon]\n",
    "    w_counts = Counter(lexicon)\n",
    "    l2 = []\n",
    "    for w in w_counts:\n",
    "        #print(w_counts[w])\n",
    "        if 1000 > w_counts[w] > 50:\n",
    "            l2.append(w)\n",
    "    return l2"
   ]
  },
  {
   "cell_type": "code",
   "execution_count": 3,
   "metadata": {},
   "outputs": [],
   "source": [
    "def make_features(sample,lexicon,char):\n",
    "    import numpy as np\n",
    "    featureset=[]\n",
    "    with open(sample,'r')as f:\n",
    "        contents=f.readlines()\n",
    "        \n",
    "        for l in contents[:lines]:\n",
    "            sam_words=word_tokenize(l)\n",
    "            sam_words=[lemm.lemmatize(i) for i in sam_words]\n",
    "            features=np.zeros(len(lexicon))\n",
    "            for word in sam_words:\n",
    "                if word.lower() in lexicon:\n",
    "                    index_value=lexicon.index(word.lower())\n",
    "                    features[index_value]+=1\n",
    "            features=list(features)\n",
    "            featureset.append([features,char])\n",
    "    return featureset"
   ]
  },
  {
   "cell_type": "code",
   "execution_count": 4,
   "metadata": {},
   "outputs": [],
   "source": [
    "import pandas as pd\n",
    "data=pd.read_csv(r\"C:\\Users\\PIYUSH\\Desktop\\news.csv\")"
   ]
  },
  {
   "cell_type": "code",
   "execution_count": 5,
   "metadata": {},
   "outputs": [
    {
     "data": {
      "text/plain": [
       "2873"
      ]
     },
     "execution_count": 5,
     "metadata": {},
     "output_type": "execute_result"
    }
   ],
   "source": [
    "len(data[\"headline\"].unique())"
   ]
  },
  {
   "cell_type": "code",
   "execution_count": 6,
   "metadata": {},
   "outputs": [],
   "source": [
    "news=data[\"text\"]\n",
    "headline=data[\"headline\"]"
   ]
  },
  {
   "cell_type": "code",
   "execution_count": 7,
   "metadata": {},
   "outputs": [],
   "source": [
    "lexicon=[]\n",
    "for i in headline:\n",
    "    all_words=word_tokenize(i)\n",
    "    lexicon+=list(all_words)\n",
    "head_lexicon=[]\n",
    "stop = set(stopwords.words('english'))\n",
    "head_lexicon+=[i for i in lexicon if i not in stop]\n",
    "head_lexicon = [lemm.lemmatize(i,pos='n') for i in head_lexicon]\n",
    "head_words=[word.lower() for word in head_lexicon if word.isalpha()]"
   ]
  },
  {
   "cell_type": "code",
   "execution_count": 8,
   "metadata": {},
   "outputs": [
    {
     "data": {
      "text/plain": [
       "32965"
      ]
     },
     "execution_count": 8,
     "metadata": {},
     "output_type": "execute_result"
    }
   ],
   "source": [
    "len(lexicon)"
   ]
  },
  {
   "cell_type": "code",
   "execution_count": 9,
   "metadata": {},
   "outputs": [],
   "source": [
    "head_lexicon=[]\n",
    "stop = set(stopwords.words('english'))\n",
    "head_lexicon+=[i for i in lexicon if i not in stop]"
   ]
  },
  {
   "cell_type": "code",
   "execution_count": 10,
   "metadata": {},
   "outputs": [
    {
     "data": {
      "text/plain": [
       "29547"
      ]
     },
     "execution_count": 10,
     "metadata": {},
     "output_type": "execute_result"
    }
   ],
   "source": [
    "len(head_lexicon)"
   ]
  },
  {
   "cell_type": "code",
   "execution_count": 11,
   "metadata": {},
   "outputs": [],
   "source": [
    "head_lexicon = [lemm.lemmatize(i,pos='n') for i in head_lexicon]"
   ]
  },
  {
   "cell_type": "code",
   "execution_count": 12,
   "metadata": {},
   "outputs": [],
   "source": [
    "head_words=[word.lower() for word in head_lexicon if word.isalpha()]"
   ]
  },
  {
   "cell_type": "code",
   "execution_count": 16,
   "metadata": {},
   "outputs": [
    {
     "data": {
      "text/plain": [
       "5396"
      ]
     },
     "execution_count": 16,
     "metadata": {},
     "output_type": "execute_result"
    }
   ],
   "source": [
    "len(set(head_words))"
   ]
  },
  {
   "cell_type": "code",
   "execution_count": 17,
   "metadata": {},
   "outputs": [],
   "source": [
    "from collections import Counter"
   ]
  },
  {
   "cell_type": "code",
   "execution_count": 19,
   "metadata": {},
   "outputs": [
    {
     "data": {
      "text/plain": [
       "5396"
      ]
     },
     "execution_count": 19,
     "metadata": {},
     "output_type": "execute_result"
    }
   ],
   "source": [
    "len(Counter(head_words))"
   ]
  }
 ],
 "metadata": {
  "kernelspec": {
   "display_name": "Python 3",
   "language": "python",
   "name": "python3"
  },
  "language_info": {
   "codemirror_mode": {
    "name": "ipython",
    "version": 3
   },
   "file_extension": ".py",
   "mimetype": "text/x-python",
   "name": "python",
   "nbconvert_exporter": "python",
   "pygments_lexer": "ipython3",
   "version": "3.6.6"
  }
 },
 "nbformat": 4,
 "nbformat_minor": 2
}

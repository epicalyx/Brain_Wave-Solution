{
  "nbformat": 4,
  "nbformat_minor": 0,
  "metadata": {
    "colab": {
      "name": "brain_wave_1_dnn.ipynb",
      "version": "0.3.2",
      "provenance": [],
      "collapsed_sections": []
    },
    "kernelspec": {
      "name": "python3",
      "display_name": "Python 3"
    },
    "accelerator": "GPU"
  },
  "cells": [
    {
      "metadata": {
        "id": "14UMYXXFwRn8",
        "colab_type": "code",
        "colab": {}
      },
      "cell_type": "code",
      "source": [
        "!pip install -U -q kaggle\n",
        "!mkdir -p ~/.kaggle"
      ],
      "execution_count": 0,
      "outputs": []
    },
    {
      "metadata": {
        "id": "xg9ZSXqoyBGk",
        "colab_type": "code",
        "outputId": "be2b72d3-8a17-4391-eeef-6ae091f0661c",
        "colab": {
          "resources": {
            "http://localhost:8080/nbextensions/google.colab/files.js": {
              "data": "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",
              "ok": true,
              "headers": [
                [
                  "content-type",
                  "application/javascript"
                ]
              ],
              "status": 200,
              "status_text": ""
            }
          },
          "base_uri": "https://localhost:8080/",
          "height": 91
        }
      },
      "cell_type": "code",
      "source": [
        "from google.colab import files\n",
        "files.upload()"
      ],
      "execution_count": 2,
      "outputs": [
        {
          "output_type": "display_data",
          "data": {
            "text/html": [
              "\n",
              "     <input type=\"file\" id=\"files-bf32713c-ada3-4faf-b018-44e77f46ce08\" name=\"files[]\" multiple disabled />\n",
              "     <output id=\"result-bf32713c-ada3-4faf-b018-44e77f46ce08\">\n",
              "      Upload widget is only available when the cell has been executed in the\n",
              "      current browser session. Please rerun this cell to enable.\n",
              "      </output>\n",
              "      <script src=\"/nbextensions/google.colab/files.js\"></script> "
            ],
            "text/plain": [
              "<IPython.core.display.HTML object>"
            ]
          },
          "metadata": {
            "tags": []
          }
        },
        {
          "output_type": "stream",
          "text": [
            "Saving kaggle.json to kaggle.json\n"
          ],
          "name": "stdout"
        },
        {
          "output_type": "execute_result",
          "data": {
            "text/plain": [
              "{'kaggle.json': b'{\"username\":\"epicalyx\",\"key\":\"d2e9f2d46c1176b6b93c1c5b50dc24d7\"}'}"
            ]
          },
          "metadata": {
            "tags": []
          },
          "execution_count": 2
        }
      ]
    },
    {
      "metadata": {
        "id": "KS-f3n-HyD9M",
        "colab_type": "code",
        "colab": {}
      },
      "cell_type": "code",
      "source": [
        "!cp kaggle.json ~/.kaggle/"
      ],
      "execution_count": 0,
      "outputs": []
    },
    {
      "metadata": {
        "id": "zDAWcDkWyJGa",
        "colab_type": "code",
        "colab": {}
      },
      "cell_type": "code",
      "source": [
        "!chmod 600 /root/.kaggle/kaggle.json"
      ],
      "execution_count": 0,
      "outputs": []
    },
    {
      "metadata": {
        "id": "NafK5wM0yNZ9",
        "colab_type": "code",
        "outputId": "9676e4a6-b84d-43ea-9143-6d01c17c9fcf",
        "colab": {
          "base_uri": "https://localhost:8080/",
          "height": 70
        }
      },
      "cell_type": "code",
      "source": [
        "!kaggle datasets download -d smohapat/sg-complaint"
      ],
      "execution_count": 5,
      "outputs": [
        {
          "output_type": "stream",
          "text": [
            "Downloading sg-complaint.zip to /content\n",
            "\r  0% 0.00/24.4M [00:00<?, ?B/s]\r 20% 5.00M/24.4M [00:00<00:00, 20.7MB/s]\r 37% 9.00M/24.4M [00:00<00:00, 21.8MB/s]\n",
            "\r100% 24.4M/24.4M [00:00<00:00, 49.8MB/s]\n"
          ],
          "name": "stdout"
        }
      ]
    },
    {
      "metadata": {
        "id": "-SKXnBcwyOVr",
        "colab_type": "code",
        "outputId": "b9909ffc-ddd8-4846-fbce-d40c3104504f",
        "colab": {
          "base_uri": "https://localhost:8080/",
          "height": 197
        }
      },
      "cell_type": "code",
      "source": [
        "import pandas as pd\n",
        "from zipfile import ZipFile\n",
        "zip_file = ZipFile('/content/sg-complaint.zip')\n",
        "fields= ['Complaint-Status','Consumer-complaint-summary'] \n",
        "data=pd.read_csv(zip_file.open('train.csv'),usecols=fields)\n",
        "data.head()"
      ],
      "execution_count": 6,
      "outputs": [
        {
          "output_type": "execute_result",
          "data": {
            "text/html": [
              "<div>\n",
              "<style scoped>\n",
              "    .dataframe tbody tr th:only-of-type {\n",
              "        vertical-align: middle;\n",
              "    }\n",
              "\n",
              "    .dataframe tbody tr th {\n",
              "        vertical-align: top;\n",
              "    }\n",
              "\n",
              "    .dataframe thead th {\n",
              "        text-align: right;\n",
              "    }\n",
              "</style>\n",
              "<table border=\"1\" class=\"dataframe\">\n",
              "  <thead>\n",
              "    <tr style=\"text-align: right;\">\n",
              "      <th></th>\n",
              "      <th>Complaint-Status</th>\n",
              "      <th>Consumer-complaint-summary</th>\n",
              "    </tr>\n",
              "  </thead>\n",
              "  <tbody>\n",
              "    <tr>\n",
              "      <th>0</th>\n",
              "      <td>Closed with explanation</td>\n",
              "      <td>Seterus, Inc a déposé un faux rapport auprès d...</td>\n",
              "    </tr>\n",
              "    <tr>\n",
              "      <th>1</th>\n",
              "      <td>Closed with non-monetary relief</td>\n",
              "      <td>XX / XX / XXXX La requête en faillite n ° XXXX...</td>\n",
              "    </tr>\n",
              "    <tr>\n",
              "      <th>2</th>\n",
              "      <td>Closed with explanation</td>\n",
              "      <td>El XXXX / XXXX / 15, estaba preparando el vuel...</td>\n",
              "    </tr>\n",
              "    <tr>\n",
              "      <th>3</th>\n",
              "      <td>Closed with explanation</td>\n",
              "      <td>The loan was paid in XXXX XXXX. In XXXX, 4 yea...</td>\n",
              "    </tr>\n",
              "    <tr>\n",
              "      <th>4</th>\n",
              "      <td>Closed with explanation</td>\n",
              "      <td>J'ai obtenu un compte de crédit de soins pour ...</td>\n",
              "    </tr>\n",
              "  </tbody>\n",
              "</table>\n",
              "</div>"
            ],
            "text/plain": [
              "                  Complaint-Status  \\\n",
              "0          Closed with explanation   \n",
              "1  Closed with non-monetary relief   \n",
              "2          Closed with explanation   \n",
              "3          Closed with explanation   \n",
              "4          Closed with explanation   \n",
              "\n",
              "                          Consumer-complaint-summary  \n",
              "0  Seterus, Inc a déposé un faux rapport auprès d...  \n",
              "1  XX / XX / XXXX La requête en faillite n ° XXXX...  \n",
              "2  El XXXX / XXXX / 15, estaba preparando el vuel...  \n",
              "3  The loan was paid in XXXX XXXX. In XXXX, 4 yea...  \n",
              "4  J'ai obtenu un compte de crédit de soins pour ...  "
            ]
          },
          "metadata": {
            "tags": []
          },
          "execution_count": 6
        }
      ]
    },
    {
      "metadata": {
        "id": "CvXmlrRKza0V",
        "colab_type": "code",
        "outputId": "fbc25c91-7332-4bf0-cbc6-8dd617585cca",
        "colab": {
          "base_uri": "https://localhost:8080/",
          "height": 34
        }
      },
      "cell_type": "code",
      "source": [
        "import os\n",
        "import numpy as np\n",
        "import pandas as pd\n",
        "import tensorflow as tf\n",
        "import tensorflow_hub as hub\n",
        "import json\n",
        "import pickle\n",
        "import urllib\n",
        "\n",
        "from sklearn.preprocessing import LabelBinarizer\n",
        "\n",
        "print(tf.__version__)"
      ],
      "execution_count": 9,
      "outputs": [
        {
          "output_type": "stream",
          "text": [
            "1.12.0\n"
          ],
          "name": "stdout"
        }
      ]
    },
    {
      "metadata": {
        "id": "7MPwum7hzj01",
        "colab_type": "code",
        "outputId": "0a8d971f-cf05-4b55-ad01-2575bad1d9d6",
        "colab": {
          "base_uri": "https://localhost:8080/",
          "height": 197
        }
      },
      "cell_type": "code",
      "source": [
        "data = data[pd.notnull(data['Consumer-complaint-summary'])]\n",
        "data.head()"
      ],
      "execution_count": 10,
      "outputs": [
        {
          "output_type": "execute_result",
          "data": {
            "text/html": [
              "<div>\n",
              "<style scoped>\n",
              "    .dataframe tbody tr th:only-of-type {\n",
              "        vertical-align: middle;\n",
              "    }\n",
              "\n",
              "    .dataframe tbody tr th {\n",
              "        vertical-align: top;\n",
              "    }\n",
              "\n",
              "    .dataframe thead th {\n",
              "        text-align: right;\n",
              "    }\n",
              "</style>\n",
              "<table border=\"1\" class=\"dataframe\">\n",
              "  <thead>\n",
              "    <tr style=\"text-align: right;\">\n",
              "      <th></th>\n",
              "      <th>Complaint-Status</th>\n",
              "      <th>Consumer-complaint-summary</th>\n",
              "    </tr>\n",
              "  </thead>\n",
              "  <tbody>\n",
              "    <tr>\n",
              "      <th>3</th>\n",
              "      <td>Closed with explanation</td>\n",
              "      <td>The loan was paid in XXXX XXXX. In XXXX, 4 yea...</td>\n",
              "    </tr>\n",
              "    <tr>\n",
              "      <th>5</th>\n",
              "      <td>Closed with explanation</td>\n",
              "      <td>The owner of my original mortgage filed for ba...</td>\n",
              "    </tr>\n",
              "    <tr>\n",
              "      <th>10</th>\n",
              "      <td>Closed with explanation</td>\n",
              "      <td>My mortgage provider, United Wholesale Mortgag...</td>\n",
              "    </tr>\n",
              "    <tr>\n",
              "      <th>11</th>\n",
              "      <td>Closed with explanation</td>\n",
              "      <td>My boyfriend and I bought a XXXX sofa and we h...</td>\n",
              "    </tr>\n",
              "    <tr>\n",
              "      <th>13</th>\n",
              "      <td>Closed with explanation</td>\n",
              "      <td>Both accounts below are settled and closed. Yo...</td>\n",
              "    </tr>\n",
              "  </tbody>\n",
              "</table>\n",
              "</div>"
            ],
            "text/plain": [
              "           Complaint-Status                         Consumer-complaint-summary\n",
              "3   Closed with explanation  The loan was paid in XXXX XXXX. In XXXX, 4 yea...\n",
              "5   Closed with explanation  The owner of my original mortgage filed for ba...\n",
              "10  Closed with explanation  My mortgage provider, United Wholesale Mortgag...\n",
              "11  Closed with explanation  My boyfriend and I bought a XXXX sofa and we h...\n",
              "13  Closed with explanation  Both accounts below are settled and closed. Yo..."
            ]
          },
          "metadata": {
            "tags": []
          },
          "execution_count": 10
        }
      ]
    },
    {
      "metadata": {
        "id": "OBK-GnwBzsMp",
        "colab_type": "code",
        "outputId": "9c04b37d-1cb7-46d8-8105-81597efc4dab",
        "colab": {
          "base_uri": "https://localhost:8080/",
          "height": 564
        }
      },
      "cell_type": "code",
      "source": [
        "pd.set_option('max_colwidth', 1000)\n",
        "data['Consumer-complaint-summary'] = data['Consumer-complaint-summary'].str.lower()\n",
        "data.head()"
      ],
      "execution_count": 11,
      "outputs": [
        {
          "output_type": "execute_result",
          "data": {
            "text/html": [
              "<div>\n",
              "<style scoped>\n",
              "    .dataframe tbody tr th:only-of-type {\n",
              "        vertical-align: middle;\n",
              "    }\n",
              "\n",
              "    .dataframe tbody tr th {\n",
              "        vertical-align: top;\n",
              "    }\n",
              "\n",
              "    .dataframe thead th {\n",
              "        text-align: right;\n",
              "    }\n",
              "</style>\n",
              "<table border=\"1\" class=\"dataframe\">\n",
              "  <thead>\n",
              "    <tr style=\"text-align: right;\">\n",
              "      <th></th>\n",
              "      <th>Complaint-Status</th>\n",
              "      <th>Consumer-complaint-summary</th>\n",
              "    </tr>\n",
              "  </thead>\n",
              "  <tbody>\n",
              "    <tr>\n",
              "      <th>3</th>\n",
              "      <td>Closed with explanation</td>\n",
              "      <td>the loan was paid in xxxx xxxx. in xxxx, 4 years after i moved from va (i moved in xxxx xx / xx / xxxx-6 months after paying the debt), a representative xxxx xxxx xxxx contacted me suddenly, indicating that my debt had not been paid and that i now owe them {$ 1100.00}. i explained that the debt was paid and, because so many years passed, i destroyed documents that i did not need to keep since the account was paid. in fact, if he owed the loan, xxxx xxxx xxxx had the right to cash the check in his possession, which he did not have because he had received it when the account was paid. that was something i asked them to provide me and they could not provide anything. despite my letter to them and the conversation on the phone, i was continually harassed and nothing was sent to me. then, in xxxx they contacted me through a collection letter for xxxx xxxx xxxx trying again to collect this debt. now there are two additional years, a total of 6 years after i paid the debt that xxxx xxxx x...</td>\n",
              "    </tr>\n",
              "    <tr>\n",
              "      <th>5</th>\n",
              "      <td>Closed with explanation</td>\n",
              "      <td>the owner of my original mortgage filed for bankruptcy. later, chase said he should pay them because they were the new owner of the debt. i went to the court and the property was not assigned to chase. my name and the original mortgage company were in writing. i contacted chase about it and they sent me a letter acknowledging that they did not have the power of attorney of my house but that they were trying to execute it. i presented the working document of the court xxxx xxxx. meanwhile, i was denied at least 4 times by a modification. now, chase has continuously filed a foreclosure on my house. they want me to modify my loan with them, but i declared bankruptcy and chase, by the way, did not reaffirm my debt and then tried to foreclose because they did not reaffirm the debt. i went back to court and now chase assigned an assignment to the deed, after they applied for a foreclosure. in ga, assignments must be made before foreclosure is filed. i retained a lawyer. he found out the ...</td>\n",
              "    </tr>\n",
              "    <tr>\n",
              "      <th>10</th>\n",
              "      <td>Closed with explanation</td>\n",
              "      <td>my mortgage provider, united wholesale mortgage, is holding me too much in my guarantee account. i have called them and i have written complaints and they have ignored me every time and / or they have turned me around. by telephone, they have said that they will solve the problem and i return the call and i receive the answer at all times. meanwhile, i am forced to pay money in a escrow account that has a lot more money than necessary to pay the required expenses. my next step is to file a class action lawsuit for respa infractions: payments from your clients' guarantee account should be an easy mathematical equation and, apparently, these guys can not do it right!</td>\n",
              "    </tr>\n",
              "    <tr>\n",
              "      <th>11</th>\n",
              "      <td>Closed with explanation</td>\n",
              "      <td>my boyfriend and i bought a xxxx sofa and we have a year to pay it without interest. before making the purchase, i asked him if he could establish automatic monthly payments and they told me he could. i just received the invoice (which is through td bank) and i connected online to set up the monthly payments and your system is designed so that it only allows me to make monthly payments for the minimum payment amount to expire, which does not will make pay. the sofa on time and then we would pay interest in an amount almost equal to the cost of the sofa itself. in addition, the loan is configured as a credit card so there are late fees if you do not pay monthly. i called the customer service, assuming there was a technical failure that would not allow me to enter a larger amount, and the associate told me that this is how the system is designed. she said that i can set recurring payments for the minimum amount and then call each month if i want to pay more than that. they promise an...</td>\n",
              "    </tr>\n",
              "    <tr>\n",
              "      <th>13</th>\n",
              "      <td>Closed with explanation</td>\n",
              "      <td>both accounts below are settled and closed. you must have a balance of zero on the credit report along with an amount due zero. please investigate and update the credit report. the accounts are shown in the transunion and xxxx credit reports.\\n\\naccount # 1 {$ 850.00} balancexxxx xxxx xxxx xxxx xxxx (agreed for settlement and account must be closed with a balance of zero).\\n\\n- - - - - - - - - - - - - - - - - - - - - - - - account # 2 (agreed for settlement and the account must be closed with a balance of zero).\\n{$ 620.00} balance xxxx xxxx xxxx once again, all accounts were settled and agreed by both parties. both accounts must close and show a zero balance ... .. please see the attached credit report karma (transunion and xxxx) shows this balance yet.</td>\n",
              "    </tr>\n",
              "  </tbody>\n",
              "</table>\n",
              "</div>"
            ],
            "text/plain": [
              "           Complaint-Status  \\\n",
              "3   Closed with explanation   \n",
              "5   Closed with explanation   \n",
              "10  Closed with explanation   \n",
              "11  Closed with explanation   \n",
              "13  Closed with explanation   \n",
              "\n",
              "                                                                                                                                                                                                                                                                                                                                                                                                                                                                                                                                                                                                                                                                                                                                                                                                                                                                                                                                                                                                                 Consumer-complaint-summary  \n",
              "3   the loan was paid in xxxx xxxx. in xxxx, 4 years after i moved from va (i moved in xxxx xx / xx / xxxx-6 months after paying the debt), a representative xxxx xxxx xxxx contacted me suddenly, indicating that my debt had not been paid and that i now owe them {$ 1100.00}. i explained that the debt was paid and, because so many years passed, i destroyed documents that i did not need to keep since the account was paid. in fact, if he owed the loan, xxxx xxxx xxxx had the right to cash the check in his possession, which he did not have because he had received it when the account was paid. that was something i asked them to provide me and they could not provide anything. despite my letter to them and the conversation on the phone, i was continually harassed and nothing was sent to me. then, in xxxx they contacted me through a collection letter for xxxx xxxx xxxx trying again to collect this debt. now there are two additional years, a total of 6 years after i paid the debt that xxxx xxxx x...  \n",
              "5   the owner of my original mortgage filed for bankruptcy. later, chase said he should pay them because they were the new owner of the debt. i went to the court and the property was not assigned to chase. my name and the original mortgage company were in writing. i contacted chase about it and they sent me a letter acknowledging that they did not have the power of attorney of my house but that they were trying to execute it. i presented the working document of the court xxxx xxxx. meanwhile, i was denied at least 4 times by a modification. now, chase has continuously filed a foreclosure on my house. they want me to modify my loan with them, but i declared bankruptcy and chase, by the way, did not reaffirm my debt and then tried to foreclose because they did not reaffirm the debt. i went back to court and now chase assigned an assignment to the deed, after they applied for a foreclosure. in ga, assignments must be made before foreclosure is filed. i retained a lawyer. he found out the ...  \n",
              "10                                                                                                                                                                                                                                                                                                                                        my mortgage provider, united wholesale mortgage, is holding me too much in my guarantee account. i have called them and i have written complaints and they have ignored me every time and / or they have turned me around. by telephone, they have said that they will solve the problem and i return the call and i receive the answer at all times. meanwhile, i am forced to pay money in a escrow account that has a lot more money than necessary to pay the required expenses. my next step is to file a class action lawsuit for respa infractions: payments from your clients' guarantee account should be an easy mathematical equation and, apparently, these guys can not do it right!  \n",
              "11  my boyfriend and i bought a xxxx sofa and we have a year to pay it without interest. before making the purchase, i asked him if he could establish automatic monthly payments and they told me he could. i just received the invoice (which is through td bank) and i connected online to set up the monthly payments and your system is designed so that it only allows me to make monthly payments for the minimum payment amount to expire, which does not will make pay. the sofa on time and then we would pay interest in an amount almost equal to the cost of the sofa itself. in addition, the loan is configured as a credit card so there are late fees if you do not pay monthly. i called the customer service, assuming there was a technical failure that would not allow me to enter a larger amount, and the associate told me that this is how the system is designed. she said that i can set recurring payments for the minimum amount and then call each month if i want to pay more than that. they promise an...  \n",
              "13                                                                                                                                                                                                                                             both accounts below are settled and closed. you must have a balance of zero on the credit report along with an amount due zero. please investigate and update the credit report. the accounts are shown in the transunion and xxxx credit reports.\\n\\naccount # 1 {$ 850.00} balancexxxx xxxx xxxx xxxx xxxx (agreed for settlement and account must be closed with a balance of zero).\\n\\n- - - - - - - - - - - - - - - - - - - - - - - - account # 2 (agreed for settlement and the account must be closed with a balance of zero).\\n{$ 620.00} balance xxxx xxxx xxxx once again, all accounts were settled and agreed by both parties. both accounts must close and show a zero balance ... .. please see the attached credit report karma (transunion and xxxx) shows this balance yet.  "
            ]
          },
          "metadata": {
            "tags": []
          },
          "execution_count": 11
        }
      ]
    },
    {
      "metadata": {
        "id": "XxL5o_K00b_H",
        "colab_type": "code",
        "outputId": "70c818aa-428f-4174-ca61-2bb58d691690",
        "colab": {
          "base_uri": "https://localhost:8080/",
          "height": 547
        }
      },
      "cell_type": "code",
      "source": [
        "import re\n",
        "data['Consumer-complaint-summary'] = data['Consumer-complaint-summary'].str.replace('x', '')\n",
        "data['Consumer-complaint-summary'] = data['Consumer-complaint-summary'].str.replace('{', '')\n",
        "data['Consumer-complaint-summary'] = data['Consumer-complaint-summary'].str.replace('}', '')\n",
        "data['Consumer-complaint-summary'] = data['Consumer-complaint-summary'].str.replace('/', '')\n",
        "data.head()"
      ],
      "execution_count": 12,
      "outputs": [
        {
          "output_type": "execute_result",
          "data": {
            "text/html": [
              "<div>\n",
              "<style scoped>\n",
              "    .dataframe tbody tr th:only-of-type {\n",
              "        vertical-align: middle;\n",
              "    }\n",
              "\n",
              "    .dataframe tbody tr th {\n",
              "        vertical-align: top;\n",
              "    }\n",
              "\n",
              "    .dataframe thead th {\n",
              "        text-align: right;\n",
              "    }\n",
              "</style>\n",
              "<table border=\"1\" class=\"dataframe\">\n",
              "  <thead>\n",
              "    <tr style=\"text-align: right;\">\n",
              "      <th></th>\n",
              "      <th>Complaint-Status</th>\n",
              "      <th>Consumer-complaint-summary</th>\n",
              "    </tr>\n",
              "  </thead>\n",
              "  <tbody>\n",
              "    <tr>\n",
              "      <th>3</th>\n",
              "      <td>Closed with explanation</td>\n",
              "      <td>the loan was paid in  . in , 4 years after i moved from va (i moved in      -6 months after paying the debt), a representative    contacted me suddenly, indicating that my debt had not been paid and that i now owe them $ 1100.00. i eplained that the debt was paid and, because so many years passed, i destroyed documents that i did not need to keep since the account was paid. in fact, if he owed the loan,    had the right to cash the check in his possession, which he did not have because he had received it when the account was paid. that was something i asked them to provide me and they could not provide anything. despite my letter to them and the conversation on the phone, i was continually harassed and nothing was sent to me. then, in  they contacted me through a collection letter for    trying again to collect this debt. now there are two additional years, a total of 6 years after i paid the debt that    tries to collect for a debt that was paid in full. now , i am receiving a let...</td>\n",
              "    </tr>\n",
              "    <tr>\n",
              "      <th>5</th>\n",
              "      <td>Closed with explanation</td>\n",
              "      <td>the owner of my original mortgage filed for bankruptcy. later, chase said he should pay them because they were the new owner of the debt. i went to the court and the property was not assigned to chase. my name and the original mortgage company were in writing. i contacted chase about it and they sent me a letter acknowledging that they did not have the power of attorney of my house but that they were trying to eecute it. i presented the working document of the court  . meanwhile, i was denied at least 4 times by a modification. now, chase has continuously filed a foreclosure on my house. they want me to modify my loan with them, but i declared bankruptcy and chase, by the way, did not reaffirm my debt and then tried to foreclose because they did not reaffirm the debt. i went back to court and now chase assigned an assignment to the deed, after they applied for a foreclosure. in ga, assignments must be made before foreclosure is filed. i retained a lawyer. he found out the names sig...</td>\n",
              "    </tr>\n",
              "    <tr>\n",
              "      <th>10</th>\n",
              "      <td>Closed with explanation</td>\n",
              "      <td>my mortgage provider, united wholesale mortgage, is holding me too much in my guarantee account. i have called them and i have written complaints and they have ignored me every time and  or they have turned me around. by telephone, they have said that they will solve the problem and i return the call and i receive the answer at all times. meanwhile, i am forced to pay money in a escrow account that has a lot more money than necessary to pay the required epenses. my net step is to file a class action lawsuit for respa infractions: payments from your clients' guarantee account should be an easy mathematical equation and, apparently, these guys can not do it right!</td>\n",
              "    </tr>\n",
              "    <tr>\n",
              "      <th>11</th>\n",
              "      <td>Closed with explanation</td>\n",
              "      <td>my boyfriend and i bought a  sofa and we have a year to pay it without interest. before making the purchase, i asked him if he could establish automatic monthly payments and they told me he could. i just received the invoice (which is through td bank) and i connected online to set up the monthly payments and your system is designed so that it only allows me to make monthly payments for the minimum payment amount to epire, which does not will make pay. the sofa on time and then we would pay interest in an amount almost equal to the cost of the sofa itself. in addition, the loan is configured as a credit card so there are late fees if you do not pay monthly. i called the customer service, assuming there was a technical failure that would not allow me to enter a larger amount, and the associate told me that this is how the system is designed. she said that i can set recurring payments for the minimum amount and then call each month if i want to pay more than that. they promise an inte...</td>\n",
              "    </tr>\n",
              "    <tr>\n",
              "      <th>13</th>\n",
              "      <td>Closed with explanation</td>\n",
              "      <td>both accounts below are settled and closed. you must have a balance of zero on the credit report along with an amount due zero. please investigate and update the credit report. the accounts are shown in the transunion and  credit reports.\\n\\naccount # 1 $ 850.00 balance     (agreed for settlement and account must be closed with a balance of zero).\\n\\n- - - - - - - - - - - - - - - - - - - - - - - - account # 2 (agreed for settlement and the account must be closed with a balance of zero).\\n$ 620.00 balance    once again, all accounts were settled and agreed by both parties. both accounts must close and show a zero balance ... .. please see the attached credit report karma (transunion and ) shows this balance yet.</td>\n",
              "    </tr>\n",
              "  </tbody>\n",
              "</table>\n",
              "</div>"
            ],
            "text/plain": [
              "           Complaint-Status  \\\n",
              "3   Closed with explanation   \n",
              "5   Closed with explanation   \n",
              "10  Closed with explanation   \n",
              "11  Closed with explanation   \n",
              "13  Closed with explanation   \n",
              "\n",
              "                                                                                                                                                                                                                                                                                                                                                                                                                                                                                                                                                                                                                                                                                                                                                                                                                                                                                                                                                                                                                 Consumer-complaint-summary  \n",
              "3   the loan was paid in  . in , 4 years after i moved from va (i moved in      -6 months after paying the debt), a representative    contacted me suddenly, indicating that my debt had not been paid and that i now owe them $ 1100.00. i eplained that the debt was paid and, because so many years passed, i destroyed documents that i did not need to keep since the account was paid. in fact, if he owed the loan,    had the right to cash the check in his possession, which he did not have because he had received it when the account was paid. that was something i asked them to provide me and they could not provide anything. despite my letter to them and the conversation on the phone, i was continually harassed and nothing was sent to me. then, in  they contacted me through a collection letter for    trying again to collect this debt. now there are two additional years, a total of 6 years after i paid the debt that    tries to collect for a debt that was paid in full. now , i am receiving a let...  \n",
              "5   the owner of my original mortgage filed for bankruptcy. later, chase said he should pay them because they were the new owner of the debt. i went to the court and the property was not assigned to chase. my name and the original mortgage company were in writing. i contacted chase about it and they sent me a letter acknowledging that they did not have the power of attorney of my house but that they were trying to eecute it. i presented the working document of the court  . meanwhile, i was denied at least 4 times by a modification. now, chase has continuously filed a foreclosure on my house. they want me to modify my loan with them, but i declared bankruptcy and chase, by the way, did not reaffirm my debt and then tried to foreclose because they did not reaffirm the debt. i went back to court and now chase assigned an assignment to the deed, after they applied for a foreclosure. in ga, assignments must be made before foreclosure is filed. i retained a lawyer. he found out the names sig...  \n",
              "10                                                                                                                                                                                                                                                                                                                                           my mortgage provider, united wholesale mortgage, is holding me too much in my guarantee account. i have called them and i have written complaints and they have ignored me every time and  or they have turned me around. by telephone, they have said that they will solve the problem and i return the call and i receive the answer at all times. meanwhile, i am forced to pay money in a escrow account that has a lot more money than necessary to pay the required epenses. my net step is to file a class action lawsuit for respa infractions: payments from your clients' guarantee account should be an easy mathematical equation and, apparently, these guys can not do it right!  \n",
              "11  my boyfriend and i bought a  sofa and we have a year to pay it without interest. before making the purchase, i asked him if he could establish automatic monthly payments and they told me he could. i just received the invoice (which is through td bank) and i connected online to set up the monthly payments and your system is designed so that it only allows me to make monthly payments for the minimum payment amount to epire, which does not will make pay. the sofa on time and then we would pay interest in an amount almost equal to the cost of the sofa itself. in addition, the loan is configured as a credit card so there are late fees if you do not pay monthly. i called the customer service, assuming there was a technical failure that would not allow me to enter a larger amount, and the associate told me that this is how the system is designed. she said that i can set recurring payments for the minimum amount and then call each month if i want to pay more than that. they promise an inte...  \n",
              "13                                                                                                                                                                                                                                                                                         both accounts below are settled and closed. you must have a balance of zero on the credit report along with an amount due zero. please investigate and update the credit report. the accounts are shown in the transunion and  credit reports.\\n\\naccount # 1 $ 850.00 balance     (agreed for settlement and account must be closed with a balance of zero).\\n\\n- - - - - - - - - - - - - - - - - - - - - - - - account # 2 (agreed for settlement and the account must be closed with a balance of zero).\\n$ 620.00 balance    once again, all accounts were settled and agreed by both parties. both accounts must close and show a zero balance ... .. please see the attached credit report karma (transunion and ) shows this balance yet.  "
            ]
          },
          "metadata": {
            "tags": []
          },
          "execution_count": 12
        }
      ]
    },
    {
      "metadata": {
        "id": "48Hehl0p05s2",
        "colab_type": "code",
        "outputId": "884f3b6a-5b80-407a-8d43-8bb83ead6746",
        "colab": {
          "base_uri": "https://localhost:8080/",
          "height": 70
        }
      },
      "cell_type": "code",
      "source": [
        "data['Complaint-Status'].unique()"
      ],
      "execution_count": 13,
      "outputs": [
        {
          "output_type": "execute_result",
          "data": {
            "text/plain": [
              "array(['Closed with explanation', 'Closed', 'Closed with monetary relief',\n",
              "       'Untimely response', 'Closed with non-monetary relief'],\n",
              "      dtype=object)"
            ]
          },
          "metadata": {
            "tags": []
          },
          "execution_count": 13
        }
      ]
    },
    {
      "metadata": {
        "id": "9TEyFRlw1IKZ",
        "colab_type": "code",
        "outputId": "97000148-4240-403d-a285-5387bf2b8b3d",
        "colab": {
          "base_uri": "https://localhost:8080/",
          "height": 141
        }
      },
      "cell_type": "code",
      "source": [
        "data.info()"
      ],
      "execution_count": 14,
      "outputs": [
        {
          "output_type": "stream",
          "text": [
            "<class 'pandas.core.frame.DataFrame'>\n",
            "Int64Index: 27772 entries, 3 to 43265\n",
            "Data columns (total 2 columns):\n",
            "Complaint-Status              27772 non-null object\n",
            "Consumer-complaint-summary    27772 non-null object\n",
            "dtypes: object(2)\n",
            "memory usage: 650.9+ KB\n"
          ],
          "name": "stdout"
        }
      ]
    },
    {
      "metadata": {
        "id": "UqDuy7l51ZZe",
        "colab_type": "code",
        "outputId": "da5c40fc-71c8-46df-a097-9b4777c47550",
        "colab": {
          "base_uri": "https://localhost:8080/",
          "height": 141
        }
      },
      "cell_type": "code",
      "source": [
        "data.dropna(inplace=True)\n",
        "data.info()"
      ],
      "execution_count": 15,
      "outputs": [
        {
          "output_type": "stream",
          "text": [
            "<class 'pandas.core.frame.DataFrame'>\n",
            "Int64Index: 27772 entries, 3 to 43265\n",
            "Data columns (total 2 columns):\n",
            "Complaint-Status              27772 non-null object\n",
            "Consumer-complaint-summary    27772 non-null object\n",
            "dtypes: object(2)\n",
            "memory usage: 650.9+ KB\n"
          ],
          "name": "stdout"
        }
      ]
    },
    {
      "metadata": {
        "id": "DQl_b8yV1a_O",
        "colab_type": "code",
        "colab": {}
      },
      "cell_type": "code",
      "source": [
        "data_comp=data[['Consumer-complaint-summary']]\n",
        "data_prod=data[['Complaint-Status']]"
      ],
      "execution_count": 0,
      "outputs": []
    },
    {
      "metadata": {
        "id": "XTPRcfoZ1lee",
        "colab_type": "code",
        "colab": {}
      },
      "cell_type": "code",
      "source": [
        "train_size = int(len(data_comp) * .999)\n",
        "\n",
        "train_descriptions = data_comp[:train_size].astype('str')\n",
        "train_prod = data_prod[:train_size]\n",
        "\n",
        "test_descriptions = data_comp[train_size:].astype('str')\n",
        "test_prod =data_prod[train_size:]"
      ],
      "execution_count": 0,
      "outputs": []
    },
    {
      "metadata": {
        "id": "UFvodWzQ1sEm",
        "colab_type": "code",
        "outputId": "3a14d758-b673-4698-c84b-849eac887314",
        "colab": {
          "base_uri": "https://localhost:8080/",
          "height": 52
        }
      },
      "cell_type": "code",
      "source": [
        "print(train_descriptions.shape)\n",
        "print(test_descriptions.shape)"
      ],
      "execution_count": 18,
      "outputs": [
        {
          "output_type": "stream",
          "text": [
            "(27744, 1)\n",
            "(28, 1)\n"
          ],
          "name": "stdout"
        }
      ]
    },
    {
      "metadata": {
        "id": "M7nzfgVZ14Aq",
        "colab_type": "code",
        "colab": {}
      },
      "cell_type": "code",
      "source": [
        "train_size = int(len(train_descriptions) * .8)\n",
        "\n",
        "train_desc = train_descriptions[:train_size]\n",
        "train_pr = train_prod[:train_size]\n",
        "\n",
        "val_desc = train_descriptions[train_size:]\n",
        "val_pr =train_prod[train_size:]"
      ],
      "execution_count": 0,
      "outputs": []
    },
    {
      "metadata": {
        "id": "PESZJsXp15V_",
        "colab_type": "code",
        "outputId": "1a33cffa-6f38-4254-efa4-a6fd72f90711",
        "colab": {
          "base_uri": "https://localhost:8080/",
          "height": 52
        }
      },
      "cell_type": "code",
      "source": [
        "print(train_desc.shape)\n",
        "print(val_desc.shape)"
      ],
      "execution_count": 20,
      "outputs": [
        {
          "output_type": "stream",
          "text": [
            "(22195, 1)\n",
            "(5549, 1)\n"
          ],
          "name": "stdout"
        }
      ]
    },
    {
      "metadata": {
        "id": "ZMeAg5ld2NsN",
        "colab_type": "code",
        "outputId": "35f1258d-76b7-42bb-f447-16d1e8e53195",
        "colab": {
          "base_uri": "https://localhost:8080/",
          "height": 52
        }
      },
      "cell_type": "code",
      "source": [
        "print(train_pr.shape)\n",
        "print(val_pr.shape)"
      ],
      "execution_count": 21,
      "outputs": [
        {
          "output_type": "stream",
          "text": [
            "(22195, 1)\n",
            "(5549, 1)\n"
          ],
          "name": "stdout"
        }
      ]
    },
    {
      "metadata": {
        "id": "k8zPxqoC2Sjz",
        "colab_type": "code",
        "outputId": "e6dfefda-2798-4785-a622-74a408a4c4ca",
        "colab": {
          "base_uri": "https://localhost:8080/",
          "height": 265
        }
      },
      "cell_type": "code",
      "source": [
        "print(train_desc.info())\n",
        "print(val_desc.info())"
      ],
      "execution_count": 22,
      "outputs": [
        {
          "output_type": "stream",
          "text": [
            "<class 'pandas.core.frame.DataFrame'>\n",
            "Int64Index: 22195 entries, 3 to 34665\n",
            "Data columns (total 1 columns):\n",
            "Consumer-complaint-summary    22195 non-null object\n",
            "dtypes: object(1)\n",
            "memory usage: 346.8+ KB\n",
            "None\n",
            "<class 'pandas.core.frame.DataFrame'>\n",
            "Int64Index: 5549 entries, 34667 to 43222\n",
            "Data columns (total 1 columns):\n",
            "Consumer-complaint-summary    5549 non-null object\n",
            "dtypes: object(1)\n",
            "memory usage: 86.7+ KB\n",
            "None\n"
          ],
          "name": "stdout"
        }
      ]
    },
    {
      "metadata": {
        "id": "sZewUD9T2cEL",
        "colab_type": "code",
        "outputId": "d257c4c1-abc6-4e13-95af-8f37532fc410",
        "colab": {
          "base_uri": "https://localhost:8080/",
          "height": 70
        }
      },
      "cell_type": "code",
      "source": [
        "from sklearn import preprocessing\n",
        "encoder = preprocessing.LabelBinarizer()\n",
        "encoder.fit_transform(train_pr)\n",
        "train_encoded = encoder.transform(train_pr)\n",
        "val_encoded = encoder.transform(val_pr)\n",
        "num_classes = len(encoder.classes_)\n",
        "\n",
        "# Print all possible products and the label for the first complaint in our training dataset\n",
        "print(encoder.classes_)\n",
        "print(train_encoded[0])"
      ],
      "execution_count": 23,
      "outputs": [
        {
          "output_type": "stream",
          "text": [
            "['Closed' 'Closed with explanation' 'Closed with monetary relief'\n",
            " 'Closed with non-monetary relief' 'Untimely response']\n",
            "[0 1 0 0 0]\n"
          ],
          "name": "stdout"
        }
      ]
    },
    {
      "metadata": {
        "id": "Pzwda7cF2kD1",
        "colab_type": "code",
        "outputId": "91f9ad1e-2699-4c07-d156-1e78a7f9c11a",
        "colab": {
          "base_uri": "https://localhost:8080/",
          "height": 87
        }
      },
      "cell_type": "code",
      "source": [
        "description_embeddings = hub.text_embedding_column(\"descriptions\", module_spec=\"https://tfhub.dev/google/universal-sentence-encoder-large/3\", trainable=False)"
      ],
      "execution_count": 24,
      "outputs": [
        {
          "output_type": "stream",
          "text": [
            "INFO:tensorflow:Using /tmp/tfhub_modules to cache modules.\n",
            "INFO:tensorflow:Downloading TF-Hub Module 'https://tfhub.dev/google/universal-sentence-encoder-large/3'.\n",
            "INFO:tensorflow:Downloaded https://tfhub.dev/google/universal-sentence-encoder-large/3, Total size: 810.60MB\n",
            "INFO:tensorflow:Downloaded TF-Hub Module 'https://tfhub.dev/google/universal-sentence-encoder-large/3'.\n"
          ],
          "name": "stdout"
        }
      ]
    },
    {
      "metadata": {
        "id": "-y92LkGZ2rPp",
        "colab_type": "code",
        "colab": {}
      },
      "cell_type": "code",
      "source": [
        "multi_label_head = tf.contrib.estimator.multi_label_head(\n",
        "    num_classes,\n",
        "    loss_reduction=tf.losses.Reduction.SUM_OVER_BATCH_SIZE\n",
        ")"
      ],
      "execution_count": 0,
      "outputs": []
    },
    {
      "metadata": {
        "id": "eFSEoA4s2wej",
        "colab_type": "code",
        "outputId": "300f63b6-9477-4672-b91f-cf08811266e9",
        "colab": {
          "base_uri": "https://localhost:8080/",
          "height": 196
        }
      },
      "cell_type": "code",
      "source": [
        "features = {\n",
        "  \"descriptions\": np.array(train_desc).astype(np.str)\n",
        "}\n",
        "labels = np.array(train_encoded).astype(np.int32)\n",
        "train_input_fn = tf.estimator.inputs.numpy_input_fn(features, labels, shuffle=True, batch_size=100, num_epochs=10)\n",
        "estimator = tf.contrib.estimator.DNNEstimator(\n",
        "    head=multi_label_head,\n",
        "    hidden_units=[64,10],\n",
        "    feature_columns=[description_embeddings])"
      ],
      "execution_count": 26,
      "outputs": [
        {
          "output_type": "stream",
          "text": [
            "INFO:tensorflow:Using default config.\n",
            "WARNING:tensorflow:Using temporary folder as model directory: /tmp/tmp67y8fw_3\n",
            "INFO:tensorflow:Using config: {'_model_dir': '/tmp/tmp67y8fw_3', '_tf_random_seed': None, '_save_summary_steps': 100, '_save_checkpoints_steps': None, '_save_checkpoints_secs': 600, '_session_config': allow_soft_placement: true\n",
            "graph_options {\n",
            "  rewrite_options {\n",
            "    meta_optimizer_iterations: ONE\n",
            "  }\n",
            "}\n",
            ", '_keep_checkpoint_max': 5, '_keep_checkpoint_every_n_hours': 10000, '_log_step_count_steps': 100, '_train_distribute': None, '_device_fn': None, '_protocol': None, '_eval_distribute': None, '_experimental_distribute': None, '_service': None, '_cluster_spec': <tensorflow.python.training.server_lib.ClusterSpec object at 0x7fd7c9377160>, '_task_type': 'worker', '_task_id': 0, '_global_id_in_cluster': 0, '_master': '', '_evaluation_master': '', '_is_chief': True, '_num_ps_replicas': 0, '_num_worker_replicas': 1}\n"
          ],
          "name": "stdout"
        }
      ]
    },
    {
      "metadata": {
        "id": "HW-ex71924Xh",
        "colab_type": "code",
        "outputId": "78da04b9-7d53-466e-84c5-281b28ed7302",
        "colab": {
          "base_uri": "https://localhost:8080/",
          "height": 4303
        }
      },
      "cell_type": "code",
      "source": [
        "%%timeit\n",
        "estimator.train(input_fn=train_input_fn)"
      ],
      "execution_count": 27,
      "outputs": [
        {
          "output_type": "stream",
          "text": [
            "WARNING:tensorflow:From /usr/local/lib/python3.6/dist-packages/tensorflow/python/estimator/inputs/queues/feeding_queue_runner.py:62: QueueRunner.__init__ (from tensorflow.python.training.queue_runner_impl) is deprecated and will be removed in a future version.\n",
            "Instructions for updating:\n",
            "To construct input pipelines, use the `tf.data` module.\n",
            "WARNING:tensorflow:From /usr/local/lib/python3.6/dist-packages/tensorflow/python/estimator/inputs/queues/feeding_functions.py:500: add_queue_runner (from tensorflow.python.training.queue_runner_impl) is deprecated and will be removed in a future version.\n",
            "Instructions for updating:\n",
            "To construct input pipelines, use the `tf.data` module.\n",
            "INFO:tensorflow:Calling model_fn.\n",
            "INFO:tensorflow:Saver not created because there are no variables in the graph to restore\n",
            "INFO:tensorflow:Saver not created because there are no variables in the graph to restore\n",
            "INFO:tensorflow:Done calling model_fn.\n",
            "INFO:tensorflow:Create CheckpointSaverHook.\n",
            "INFO:tensorflow:Graph was finalized.\n",
            "INFO:tensorflow:Running local_init_op.\n",
            "INFO:tensorflow:Done running local_init_op.\n",
            "WARNING:tensorflow:From /usr/local/lib/python3.6/dist-packages/tensorflow/python/training/monitored_session.py:804: start_queue_runners (from tensorflow.python.training.queue_runner_impl) is deprecated and will be removed in a future version.\n",
            "Instructions for updating:\n",
            "To construct input pipelines, use the `tf.data` module.\n",
            "INFO:tensorflow:Saving checkpoints for 0 into /tmp/tmp67y8fw_3/model.ckpt.\n",
            "INFO:tensorflow:loss = 0.6937513, step = 0\n",
            "INFO:tensorflow:global_step/sec: 2.81926\n",
            "INFO:tensorflow:loss = 0.24595267, step = 100 (35.476 sec)\n",
            "INFO:tensorflow:global_step/sec: 2.85879\n",
            "INFO:tensorflow:loss = 0.2204722, step = 200 (34.981 sec)\n",
            "INFO:tensorflow:global_step/sec: 2.88091\n",
            "INFO:tensorflow:loss = 0.29160625, step = 300 (34.709 sec)\n",
            "INFO:tensorflow:global_step/sec: 2.86314\n",
            "INFO:tensorflow:loss = 0.29359597, step = 400 (34.929 sec)\n",
            "INFO:tensorflow:global_step/sec: 2.87547\n",
            "INFO:tensorflow:loss = 0.25957403, step = 500 (34.776 sec)\n",
            "INFO:tensorflow:global_step/sec: 2.86675\n",
            "INFO:tensorflow:loss = 0.31728864, step = 600 (34.883 sec)\n",
            "INFO:tensorflow:global_step/sec: 2.87089\n",
            "INFO:tensorflow:loss = 0.17066687, step = 700 (34.832 sec)\n",
            "INFO:tensorflow:global_step/sec: 2.86934\n",
            "INFO:tensorflow:loss = 0.2589446, step = 800 (34.852 sec)\n",
            "INFO:tensorflow:global_step/sec: 2.87024\n",
            "INFO:tensorflow:loss = 0.26248044, step = 900 (34.840 sec)\n",
            "INFO:tensorflow:global_step/sec: 2.87644\n",
            "INFO:tensorflow:loss = 0.27225763, step = 1000 (34.763 sec)\n",
            "INFO:tensorflow:global_step/sec: 2.86663\n",
            "INFO:tensorflow:loss = 0.24190782, step = 1100 (34.885 sec)\n",
            "INFO:tensorflow:global_step/sec: 2.87735\n",
            "INFO:tensorflow:loss = 0.24031007, step = 1200 (34.755 sec)\n",
            "INFO:tensorflow:global_step/sec: 2.85739\n",
            "INFO:tensorflow:loss = 0.22632968, step = 1300 (34.998 sec)\n",
            "INFO:tensorflow:global_step/sec: 2.88807\n",
            "INFO:tensorflow:loss = 0.27403823, step = 1400 (34.623 sec)\n",
            "INFO:tensorflow:global_step/sec: 2.86247\n",
            "INFO:tensorflow:loss = 0.2664625, step = 1500 (34.935 sec)\n",
            "INFO:tensorflow:global_step/sec: 2.87427\n",
            "INFO:tensorflow:loss = 0.19552976, step = 1600 (34.793 sec)\n",
            "INFO:tensorflow:global_step/sec: 2.8713\n",
            "INFO:tensorflow:loss = 0.28624308, step = 1700 (34.827 sec)\n",
            "INFO:tensorflow:Saving checkpoints for 1716 into /tmp/tmp67y8fw_3/model.ckpt.\n",
            "INFO:tensorflow:global_step/sec: 2.45884\n",
            "INFO:tensorflow:loss = 0.2735865, step = 1800 (40.668 sec)\n",
            "INFO:tensorflow:global_step/sec: 2.88458\n",
            "INFO:tensorflow:loss = 0.21221639, step = 1900 (34.670 sec)\n",
            "INFO:tensorflow:global_step/sec: 2.87625\n",
            "INFO:tensorflow:loss = 0.24215584, step = 2000 (34.766 sec)\n",
            "INFO:tensorflow:global_step/sec: 2.88643\n",
            "INFO:tensorflow:loss = 0.25515872, step = 2100 (34.645 sec)\n",
            "INFO:tensorflow:global_step/sec: 2.86942\n",
            "INFO:tensorflow:loss = 0.23938929, step = 2200 (34.846 sec)\n",
            "INFO:tensorflow:Saving checkpoints for 2220 into /tmp/tmp67y8fw_3/model.ckpt.\n",
            "INFO:tensorflow:Loss for final step: 0.17485024.\n",
            "INFO:tensorflow:Calling model_fn.\n",
            "INFO:tensorflow:Saver not created because there are no variables in the graph to restore\n",
            "INFO:tensorflow:Saver not created because there are no variables in the graph to restore\n",
            "INFO:tensorflow:Done calling model_fn.\n",
            "INFO:tensorflow:Create CheckpointSaverHook.\n",
            "INFO:tensorflow:Graph was finalized.\n",
            "INFO:tensorflow:Restoring parameters from /tmp/tmp67y8fw_3/model.ckpt-2220\n",
            "INFO:tensorflow:Running local_init_op.\n",
            "INFO:tensorflow:Done running local_init_op.\n",
            "INFO:tensorflow:Saving checkpoints for 2220 into /tmp/tmp67y8fw_3/model.ckpt.\n",
            "INFO:tensorflow:loss = 0.24543802, step = 2220\n",
            "INFO:tensorflow:global_step/sec: 2.8188\n",
            "INFO:tensorflow:loss = 0.20381235, step = 2320 (35.478 sec)\n",
            "INFO:tensorflow:global_step/sec: 2.87258\n",
            "INFO:tensorflow:loss = 0.28221643, step = 2420 (34.814 sec)\n",
            "INFO:tensorflow:global_step/sec: 2.86566\n",
            "INFO:tensorflow:loss = 0.19384384, step = 2520 (34.893 sec)\n",
            "INFO:tensorflow:global_step/sec: 2.86491\n",
            "INFO:tensorflow:loss = 0.23177524, step = 2620 (34.910 sec)\n",
            "INFO:tensorflow:global_step/sec: 2.85599\n",
            "INFO:tensorflow:loss = 0.24043445, step = 2720 (35.014 sec)\n",
            "INFO:tensorflow:global_step/sec: 2.87032\n",
            "INFO:tensorflow:loss = 0.27317375, step = 2820 (34.837 sec)\n",
            "INFO:tensorflow:global_step/sec: 2.8569\n",
            "INFO:tensorflow:loss = 0.29409263, step = 2920 (35.005 sec)\n",
            "INFO:tensorflow:global_step/sec: 2.88504\n",
            "INFO:tensorflow:loss = 0.23324142, step = 3020 (34.657 sec)\n",
            "INFO:tensorflow:global_step/sec: 2.8595\n",
            "INFO:tensorflow:loss = 0.20985812, step = 3120 (34.974 sec)\n",
            "INFO:tensorflow:global_step/sec: 2.87763\n",
            "INFO:tensorflow:loss = 0.26942626, step = 3220 (34.753 sec)\n",
            "INFO:tensorflow:global_step/sec: 2.86304\n",
            "INFO:tensorflow:loss = 0.30239564, step = 3320 (34.926 sec)\n",
            "INFO:tensorflow:global_step/sec: 2.87271\n",
            "INFO:tensorflow:loss = 0.24615578, step = 3420 (34.809 sec)\n",
            "INFO:tensorflow:global_step/sec: 2.87089\n",
            "INFO:tensorflow:loss = 0.21372947, step = 3520 (34.834 sec)\n",
            "INFO:tensorflow:loss = 0.23366688, step = 3620 (35.026 sec)\n",
            "INFO:tensorflow:global_step/sec: 2.86853\n",
            "INFO:tensorflow:loss = 0.25949645, step = 3720 (34.857 sec)\n",
            "INFO:tensorflow:global_step/sec: 2.86504\n",
            "INFO:tensorflow:loss = 0.2725212, step = 3820 (34.908 sec)\n",
            "INFO:tensorflow:global_step/sec: 2.8805\n",
            "INFO:tensorflow:loss = 0.18014014, step = 3920 (34.716 sec)\n",
            "INFO:tensorflow:Saving checkpoints for 3937 into /tmp/tmp67y8fw_3/model.ckpt.\n",
            "INFO:tensorflow:global_step/sec: 2.45668\n",
            "INFO:tensorflow:loss = 0.18524349, step = 4020 (40.706 sec)\n",
            "INFO:tensorflow:global_step/sec: 2.88561\n",
            "INFO:tensorflow:loss = 0.234507, step = 4120 (34.654 sec)\n",
            "INFO:tensorflow:global_step/sec: 2.869\n",
            "INFO:tensorflow:loss = 0.20544066, step = 4220 (34.851 sec)\n",
            "INFO:tensorflow:global_step/sec: 2.88093\n",
            "INFO:tensorflow:loss = 0.15205552, step = 4320 (34.714 sec)\n",
            "INFO:tensorflow:global_step/sec: 2.87234\n",
            "INFO:tensorflow:loss = 0.27856284, step = 4420 (34.814 sec)\n",
            "INFO:tensorflow:Saving checkpoints for 4440 into /tmp/tmp67y8fw_3/model.ckpt.\n",
            "INFO:tensorflow:Loss for final step: 0.19063118.\n",
            "INFO:tensorflow:Calling model_fn.\n",
            "INFO:tensorflow:Saver not created because there are no variables in the graph to restore\n",
            "INFO:tensorflow:Saver not created because there are no variables in the graph to restore\n",
            "INFO:tensorflow:Done calling model_fn.\n",
            "INFO:tensorflow:Create CheckpointSaverHook.\n",
            "INFO:tensorflow:Graph was finalized.\n",
            "INFO:tensorflow:Restoring parameters from /tmp/tmp67y8fw_3/model.ckpt-4440\n",
            "INFO:tensorflow:Running local_init_op.\n",
            "INFO:tensorflow:Done running local_init_op.\n",
            "INFO:tensorflow:Saving checkpoints for 4440 into /tmp/tmp67y8fw_3/model.ckpt.\n",
            "INFO:tensorflow:loss = 0.22347373, step = 4440\n",
            "INFO:tensorflow:global_step/sec: 2.81518\n",
            "INFO:tensorflow:loss = 0.19037412, step = 4540 (35.527 sec)\n",
            "INFO:tensorflow:global_step/sec: 2.86495\n",
            "INFO:tensorflow:loss = 0.22788298, step = 4640 (34.906 sec)\n",
            "INFO:tensorflow:global_step/sec: 2.87411\n",
            "INFO:tensorflow:loss = 0.21501276, step = 4740 (34.793 sec)\n",
            "INFO:tensorflow:global_step/sec: 2.86205\n",
            "INFO:tensorflow:loss = 0.19775903, step = 4840 (34.941 sec)\n",
            "INFO:tensorflow:global_step/sec: 2.88012\n",
            "INFO:tensorflow:loss = 0.20908445, step = 4940 (34.720 sec)\n",
            "INFO:tensorflow:global_step/sec: 2.85244\n",
            "INFO:tensorflow:loss = 0.21433964, step = 5040 (35.057 sec)\n",
            "INFO:tensorflow:global_step/sec: 2.87786\n",
            "INFO:tensorflow:loss = 0.21214592, step = 5140 (34.747 sec)\n",
            "INFO:tensorflow:global_step/sec: 2.86264\n",
            "INFO:tensorflow:loss = 0.24872391, step = 5240 (34.932 sec)\n",
            "INFO:tensorflow:global_step/sec: 2.86956\n",
            "INFO:tensorflow:loss = 0.23245834, step = 5340 (34.848 sec)\n",
            "INFO:tensorflow:global_step/sec: 2.86875\n",
            "INFO:tensorflow:loss = 0.20428602, step = 5440 (34.858 sec)\n",
            "INFO:tensorflow:global_step/sec: 2.86589\n",
            "INFO:tensorflow:loss = 0.26135853, step = 5540 (34.895 sec)\n",
            "INFO:tensorflow:global_step/sec: 2.87057\n",
            "INFO:tensorflow:loss = 0.25549123, step = 5640 (34.836 sec)\n",
            "INFO:tensorflow:global_step/sec: 2.86449\n",
            "INFO:tensorflow:loss = 0.19978859, step = 5740 (34.906 sec)\n",
            "INFO:tensorflow:global_step/sec: 2.8714\n",
            "INFO:tensorflow:loss = 0.18989494, step = 5840 (34.826 sec)\n",
            "INFO:tensorflow:global_step/sec: 2.85574\n",
            "INFO:tensorflow:loss = 0.19818093, step = 5940 (35.022 sec)\n",
            "INFO:tensorflow:global_step/sec: 2.88194\n",
            "INFO:tensorflow:loss = 0.21135816, step = 6040 (34.696 sec)\n",
            "INFO:tensorflow:global_step/sec: 2.85551\n",
            "INFO:tensorflow:loss = 0.2585672, step = 6140 (35.023 sec)\n",
            "INFO:tensorflow:Saving checkpoints for 6156 into /tmp/tmp67y8fw_3/model.ckpt.\n",
            "INFO:tensorflow:global_step/sec: 2.47011\n",
            "INFO:tensorflow:loss = 0.2482648, step = 6240 (40.483 sec)\n",
            "INFO:tensorflow:global_step/sec: 2.87214\n",
            "INFO:tensorflow:loss = 0.19572167, step = 6340 (34.817 sec)\n",
            "INFO:tensorflow:global_step/sec: 2.86589\n",
            "INFO:tensorflow:loss = 0.2534258, step = 6440 (34.894 sec)\n",
            "INFO:tensorflow:global_step/sec: 2.86915\n",
            "INFO:tensorflow:loss = 0.23765747, step = 6540 (34.853 sec)\n",
            "INFO:tensorflow:global_step/sec: 2.85899\n",
            "INFO:tensorflow:loss = 0.2883562, step = 6640 (34.978 sec)\n",
            "INFO:tensorflow:Saving checkpoints for 6660 into /tmp/tmp67y8fw_3/model.ckpt.\n",
            "INFO:tensorflow:Loss for final step: 0.20988043.\n",
            "INFO:tensorflow:Calling model_fn.\n",
            "INFO:tensorflow:Saver not created because there are no variables in the graph to restore\n",
            "INFO:tensorflow:Saver not created because there are no variables in the graph to restore\n",
            "INFO:tensorflow:Done calling model_fn.\n",
            "INFO:tensorflow:Create CheckpointSaverHook.\n",
            "INFO:tensorflow:Graph was finalized.\n",
            "INFO:tensorflow:Restoring parameters from /tmp/tmp67y8fw_3/model.ckpt-6660\n",
            "INFO:tensorflow:Running local_init_op.\n",
            "INFO:tensorflow:Done running local_init_op.\n",
            "INFO:tensorflow:Saving checkpoints for 6660 into /tmp/tmp67y8fw_3/model.ckpt.\n",
            "INFO:tensorflow:loss = 0.21633266, step = 6660\n",
            "INFO:tensorflow:global_step/sec: 2.80418\n",
            "INFO:tensorflow:loss = 0.28356245, step = 6760 (35.667 sec)\n",
            "INFO:tensorflow:global_step/sec: 2.85973\n",
            "INFO:tensorflow:loss = 0.26078182, step = 6860 (34.967 sec)\n",
            "INFO:tensorflow:global_step/sec: 2.85425\n",
            "INFO:tensorflow:loss = 0.23970379, step = 6960 (35.035 sec)\n",
            "INFO:tensorflow:global_step/sec: 2.85811\n",
            "INFO:tensorflow:loss = 0.22012371, step = 7060 (34.989 sec)\n",
            "INFO:tensorflow:global_step/sec: 2.84775\n",
            "INFO:tensorflow:loss = 0.22125691, step = 7160 (35.114 sec)\n",
            "INFO:tensorflow:global_step/sec: 2.85855\n",
            "INFO:tensorflow:loss = 0.22445725, step = 7260 (34.985 sec)\n",
            "INFO:tensorflow:global_step/sec: 2.85089\n",
            "INFO:tensorflow:loss = 0.22110178, step = 7360 (35.079 sec)\n",
            "INFO:tensorflow:global_step/sec: 2.86219\n",
            "INFO:tensorflow:loss = 0.20743178, step = 7460 (34.934 sec)\n",
            "INFO:tensorflow:global_step/sec: 2.8423\n",
            "INFO:tensorflow:loss = 0.24423905, step = 7560 (35.187 sec)\n",
            "INFO:tensorflow:global_step/sec: 2.8614\n",
            "INFO:tensorflow:loss = 0.20646252, step = 7660 (34.945 sec)\n",
            "INFO:tensorflow:global_step/sec: 2.84947\n",
            "INFO:tensorflow:loss = 0.18547791, step = 7760 (35.095 sec)\n",
            "INFO:tensorflow:global_step/sec: 2.85394\n",
            "INFO:tensorflow:loss = 0.21603559, step = 7860 (35.040 sec)\n",
            "INFO:tensorflow:global_step/sec: 2.85054\n",
            "INFO:tensorflow:loss = 0.20846693, step = 7960 (35.082 sec)\n",
            "INFO:tensorflow:global_step/sec: 2.82982\n",
            "INFO:tensorflow:loss = 0.20489593, step = 8060 (35.337 sec)\n",
            "INFO:tensorflow:global_step/sec: 2.84545\n",
            "INFO:tensorflow:loss = 0.26383772, step = 8160 (35.140 sec)\n",
            "INFO:tensorflow:global_step/sec: 2.84605\n",
            "INFO:tensorflow:loss = 0.19768423, step = 8260 (35.141 sec)\n",
            "INFO:tensorflow:global_step/sec: 2.85312\n",
            "INFO:tensorflow:loss = 0.18242571, step = 8360 (35.047 sec)\n",
            "INFO:tensorflow:Saving checkpoints for 8367 into /tmp/tmp67y8fw_3/model.ckpt.\n",
            "INFO:tensorflow:global_step/sec: 2.44814\n",
            "INFO:tensorflow:loss = 0.2353669, step = 8460 (40.850 sec)\n",
            "INFO:tensorflow:global_step/sec: 2.8622\n",
            "INFO:tensorflow:loss = 0.16874544, step = 8560 (34.938 sec)\n",
            "INFO:tensorflow:global_step/sec: 2.83713\n",
            "INFO:tensorflow:loss = 0.26232207, step = 8660 (35.247 sec)\n",
            "INFO:tensorflow:global_step/sec: 2.85763\n",
            "INFO:tensorflow:loss = 0.15605538, step = 8760 (34.994 sec)\n",
            "INFO:tensorflow:global_step/sec: 2.84434\n",
            "INFO:tensorflow:loss = 0.22674951, step = 8860 (35.156 sec)\n",
            "INFO:tensorflow:Saving checkpoints for 8880 into /tmp/tmp67y8fw_3/model.ckpt.\n",
            "INFO:tensorflow:Loss for final step: 0.22070764.\n",
            "1 loop, best of 3: 13min 27s per loop\n"
          ],
          "name": "stdout"
        }
      ]
    },
    {
      "metadata": {
        "id": "v2-W6MGhF-Ud",
        "colab_type": "code",
        "colab": {
          "base_uri": "https://localhost:8080/",
          "height": 354
        },
        "outputId": "82e077d8-3ee8-4869-f0dd-a38a116af98b"
      },
      "cell_type": "code",
      "source": [
        "# Define our eval input_fn and run eval\n",
        "eval_input_fn = tf.estimator.inputs.numpy_input_fn({\"descriptions\": np.array(val_desc).astype(np.str)}, val_encoded.astype(np.int32), shuffle=False)\n",
        "estimator.evaluate(input_fn=eval_input_fn)"
      ],
      "execution_count": 28,
      "outputs": [
        {
          "output_type": "stream",
          "text": [
            "INFO:tensorflow:Calling model_fn.\n",
            "INFO:tensorflow:Saver not created because there are no variables in the graph to restore\n",
            "INFO:tensorflow:Saver not created because there are no variables in the graph to restore\n",
            "WARNING:tensorflow:Trapezoidal rule is known to produce incorrect PR-AUCs; please switch to \"careful_interpolation\" instead.\n",
            "WARNING:tensorflow:Trapezoidal rule is known to produce incorrect PR-AUCs; please switch to \"careful_interpolation\" instead.\n",
            "INFO:tensorflow:Done calling model_fn.\n",
            "INFO:tensorflow:Starting evaluation at 2019-01-23-19:21:34\n",
            "INFO:tensorflow:Graph was finalized.\n",
            "INFO:tensorflow:Restoring parameters from /tmp/tmp67y8fw_3/model.ckpt-8880\n",
            "INFO:tensorflow:Running local_init_op.\n",
            "INFO:tensorflow:Done running local_init_op.\n",
            "INFO:tensorflow:Finished evaluation at 2019-01-23-19:21:57\n",
            "INFO:tensorflow:Saving dict for global step 8880: auc = 0.9430823, auc_precision_recall = 0.80777484, average_loss = 0.22692251, global_step = 8880, loss = 0.22660342\n",
            "INFO:tensorflow:Saving 'checkpoint_path' summary for global step 8880: /tmp/tmp67y8fw_3/model.ckpt-8880\n"
          ],
          "name": "stdout"
        },
        {
          "output_type": "execute_result",
          "data": {
            "text/plain": [
              "{'auc': 0.9430823,\n",
              " 'auc_precision_recall': 0.80777484,\n",
              " 'average_loss': 0.22692251,\n",
              " 'global_step': 8880,\n",
              " 'loss': 0.22660342}"
            ]
          },
          "metadata": {
            "tags": []
          },
          "execution_count": 28
        }
      ]
    },
    {
      "metadata": {
        "id": "l32JtGiEKu0g",
        "colab_type": "code",
        "colab": {}
      },
      "cell_type": "code",
      "source": [
        "predict_input_fn = tf.estimator.inputs.numpy_input_fn({\"descriptions\": np.array(test_descriptions).astype(np.str)}, shuffle=False)\n",
        "\n",
        "results = estimator.predict(predict_input_fn)"
      ],
      "execution_count": 0,
      "outputs": []
    },
    {
      "metadata": {
        "id": "iCK9diy0K1U8",
        "colab_type": "code",
        "colab": {
          "base_uri": "https://localhost:8080/",
          "height": 1154
        },
        "outputId": "1eda7f13-af13-4c1e-f19c-4ff8d5fc051a"
      },
      "cell_type": "code",
      "source": [
        "# Display predictions\n",
        "for product in results:\n",
        "  top = product['probabilities'].argsort()[-1:]\n",
        "  for prod in top:\n",
        "    text_prod = encoder.classes_[prod]\n",
        "    print(text_prod + ': ' + str(round(product['probabilities'][prod] * 100, 2)) + '%')\n",
        "  print('')"
      ],
      "execution_count": 30,
      "outputs": [
        {
          "output_type": "stream",
          "text": [
            "INFO:tensorflow:Calling model_fn.\n",
            "INFO:tensorflow:Saver not created because there are no variables in the graph to restore\n",
            "INFO:tensorflow:Saver not created because there are no variables in the graph to restore\n",
            "INFO:tensorflow:Done calling model_fn.\n",
            "INFO:tensorflow:Graph was finalized.\n",
            "INFO:tensorflow:Restoring parameters from /tmp/tmp67y8fw_3/model.ckpt-8880\n",
            "INFO:tensorflow:Running local_init_op.\n",
            "INFO:tensorflow:Done running local_init_op.\n",
            "Closed with explanation: 85.43%\n",
            "\n",
            "Closed with explanation: 75.39%\n",
            "\n",
            "Closed with explanation: 72.09%\n",
            "\n",
            "Closed with explanation: 72.22%\n",
            "\n",
            "Closed with explanation: 73.12%\n",
            "\n",
            "Closed with explanation: 79.31%\n",
            "\n",
            "Closed with explanation: 76.22%\n",
            "\n",
            "Closed with explanation: 83.41%\n",
            "\n",
            "Closed with explanation: 69.86%\n",
            "\n",
            "Closed with explanation: 88.72%\n",
            "\n",
            "Closed with explanation: 82.96%\n",
            "\n",
            "Closed with explanation: 73.52%\n",
            "\n",
            "Closed with explanation: 85.8%\n",
            "\n",
            "Closed with explanation: 88.37%\n",
            "\n",
            "Closed with explanation: 80.32%\n",
            "\n",
            "Closed with explanation: 80.95%\n",
            "\n",
            "Closed with explanation: 88.38%\n",
            "\n",
            "Closed with explanation: 88.49%\n",
            "\n",
            "Closed with explanation: 77.74%\n",
            "\n",
            "Closed with explanation: 48.64%\n",
            "\n",
            "Closed with explanation: 90.33%\n",
            "\n",
            "Closed with explanation: 79.31%\n",
            "\n",
            "Closed with explanation: 87.17%\n",
            "\n",
            "Closed with explanation: 84.39%\n",
            "\n",
            "Closed with explanation: 79.45%\n",
            "\n",
            "Closed with explanation: 84.32%\n",
            "\n",
            "Closed with explanation: 85.91%\n",
            "\n",
            "Closed with explanation: 81.31%\n",
            "\n"
          ],
          "name": "stdout"
        }
      ]
    },
    {
      "metadata": {
        "id": "k-jNu3G9K-D2",
        "colab_type": "code",
        "colab": {
          "base_uri": "https://localhost:8080/",
          "height": 887
        },
        "outputId": "07005ae1-ec01-4ec1-a94b-dfd88b914f55"
      },
      "cell_type": "code",
      "source": [
        "test_prod"
      ],
      "execution_count": 31,
      "outputs": [
        {
          "output_type": "execute_result",
          "data": {
            "text/html": [
              "<div>\n",
              "<style scoped>\n",
              "    .dataframe tbody tr th:only-of-type {\n",
              "        vertical-align: middle;\n",
              "    }\n",
              "\n",
              "    .dataframe tbody tr th {\n",
              "        vertical-align: top;\n",
              "    }\n",
              "\n",
              "    .dataframe thead th {\n",
              "        text-align: right;\n",
              "    }\n",
              "</style>\n",
              "<table border=\"1\" class=\"dataframe\">\n",
              "  <thead>\n",
              "    <tr style=\"text-align: right;\">\n",
              "      <th></th>\n",
              "      <th>Complaint-Status</th>\n",
              "    </tr>\n",
              "  </thead>\n",
              "  <tbody>\n",
              "    <tr>\n",
              "      <th>43223</th>\n",
              "      <td>Closed with explanation</td>\n",
              "    </tr>\n",
              "    <tr>\n",
              "      <th>43224</th>\n",
              "      <td>Closed with explanation</td>\n",
              "    </tr>\n",
              "    <tr>\n",
              "      <th>43225</th>\n",
              "      <td>Closed with non-monetary relief</td>\n",
              "    </tr>\n",
              "    <tr>\n",
              "      <th>43227</th>\n",
              "      <td>Closed</td>\n",
              "    </tr>\n",
              "    <tr>\n",
              "      <th>43232</th>\n",
              "      <td>Closed with explanation</td>\n",
              "    </tr>\n",
              "    <tr>\n",
              "      <th>43233</th>\n",
              "      <td>Closed with explanation</td>\n",
              "    </tr>\n",
              "    <tr>\n",
              "      <th>43234</th>\n",
              "      <td>Closed with explanation</td>\n",
              "    </tr>\n",
              "    <tr>\n",
              "      <th>43235</th>\n",
              "      <td>Closed with explanation</td>\n",
              "    </tr>\n",
              "    <tr>\n",
              "      <th>43236</th>\n",
              "      <td>Closed with monetary relief</td>\n",
              "    </tr>\n",
              "    <tr>\n",
              "      <th>43237</th>\n",
              "      <td>Closed with explanation</td>\n",
              "    </tr>\n",
              "    <tr>\n",
              "      <th>43238</th>\n",
              "      <td>Closed with explanation</td>\n",
              "    </tr>\n",
              "    <tr>\n",
              "      <th>43242</th>\n",
              "      <td>Closed with explanation</td>\n",
              "    </tr>\n",
              "    <tr>\n",
              "      <th>43243</th>\n",
              "      <td>Closed with explanation</td>\n",
              "    </tr>\n",
              "    <tr>\n",
              "      <th>43244</th>\n",
              "      <td>Closed with explanation</td>\n",
              "    </tr>\n",
              "    <tr>\n",
              "      <th>43245</th>\n",
              "      <td>Closed with explanation</td>\n",
              "    </tr>\n",
              "    <tr>\n",
              "      <th>43247</th>\n",
              "      <td>Closed with explanation</td>\n",
              "    </tr>\n",
              "    <tr>\n",
              "      <th>43248</th>\n",
              "      <td>Closed with explanation</td>\n",
              "    </tr>\n",
              "    <tr>\n",
              "      <th>43249</th>\n",
              "      <td>Closed with explanation</td>\n",
              "    </tr>\n",
              "    <tr>\n",
              "      <th>43250</th>\n",
              "      <td>Closed</td>\n",
              "    </tr>\n",
              "    <tr>\n",
              "      <th>43251</th>\n",
              "      <td>Closed with non-monetary relief</td>\n",
              "    </tr>\n",
              "    <tr>\n",
              "      <th>43253</th>\n",
              "      <td>Closed with explanation</td>\n",
              "    </tr>\n",
              "    <tr>\n",
              "      <th>43254</th>\n",
              "      <td>Closed with explanation</td>\n",
              "    </tr>\n",
              "    <tr>\n",
              "      <th>43255</th>\n",
              "      <td>Closed with explanation</td>\n",
              "    </tr>\n",
              "    <tr>\n",
              "      <th>43256</th>\n",
              "      <td>Closed with explanation</td>\n",
              "    </tr>\n",
              "    <tr>\n",
              "      <th>43260</th>\n",
              "      <td>Closed with explanation</td>\n",
              "    </tr>\n",
              "    <tr>\n",
              "      <th>43262</th>\n",
              "      <td>Closed with explanation</td>\n",
              "    </tr>\n",
              "    <tr>\n",
              "      <th>43264</th>\n",
              "      <td>Closed with explanation</td>\n",
              "    </tr>\n",
              "    <tr>\n",
              "      <th>43265</th>\n",
              "      <td>Closed with explanation</td>\n",
              "    </tr>\n",
              "  </tbody>\n",
              "</table>\n",
              "</div>"
            ],
            "text/plain": [
              "                      Complaint-Status\n",
              "43223          Closed with explanation\n",
              "43224          Closed with explanation\n",
              "43225  Closed with non-monetary relief\n",
              "43227                           Closed\n",
              "43232          Closed with explanation\n",
              "43233          Closed with explanation\n",
              "43234          Closed with explanation\n",
              "43235          Closed with explanation\n",
              "43236      Closed with monetary relief\n",
              "43237          Closed with explanation\n",
              "43238          Closed with explanation\n",
              "43242          Closed with explanation\n",
              "43243          Closed with explanation\n",
              "43244          Closed with explanation\n",
              "43245          Closed with explanation\n",
              "43247          Closed with explanation\n",
              "43248          Closed with explanation\n",
              "43249          Closed with explanation\n",
              "43250                           Closed\n",
              "43251  Closed with non-monetary relief\n",
              "43253          Closed with explanation\n",
              "43254          Closed with explanation\n",
              "43255          Closed with explanation\n",
              "43256          Closed with explanation\n",
              "43260          Closed with explanation\n",
              "43262          Closed with explanation\n",
              "43264          Closed with explanation\n",
              "43265          Closed with explanation"
            ]
          },
          "metadata": {
            "tags": []
          },
          "execution_count": 31
        }
      ]
    },
    {
      "metadata": {
        "id": "qOzoTDx3z8FJ",
        "colab_type": "code",
        "outputId": "c242869a-9961-42d0-f187-9de516fd5213",
        "colab": {
          "base_uri": "https://localhost:8080/",
          "height": 194
        }
      },
      "cell_type": "code",
      "source": [
        "!pip install langdetect"
      ],
      "execution_count": 7,
      "outputs": [
        {
          "output_type": "stream",
          "text": [
            "Collecting langdetect\n",
            "\u001b[?25l  Downloading https://files.pythonhosted.org/packages/59/59/4bc44158a767a6d66de18c4136c8aa90491d56cc951c10b74dd1e13213c9/langdetect-1.0.7.zip (998kB)\n",
            "\u001b[K    100% |████████████████████████████████| 1.0MB 19.9MB/s \n",
            "\u001b[?25hRequirement already satisfied: six in /usr/local/lib/python3.6/dist-packages (from langdetect) (1.11.0)\n",
            "Building wheels for collected packages: langdetect\n",
            "  Running setup.py bdist_wheel for langdetect ... \u001b[?25l-\b \b\\\b \b|\b \b/\b \bdone\n",
            "\u001b[?25h  Stored in directory: /root/.cache/pip/wheels/ec/0c/a9/1647275e7ef5014e7b83ff30105180e332867d65e7617ddafe\n",
            "Successfully built langdetect\n",
            "Installing collected packages: langdetect\n",
            "Successfully installed langdetect-1.0.7\n"
          ],
          "name": "stdout"
        }
      ]
    },
    {
      "metadata": {
        "id": "aijAwRWSz_8r",
        "colab_type": "code",
        "colab": {
          "base_uri": "https://localhost:8080/",
          "height": 34
        },
        "outputId": "cb03221d-22bf-4dd3-b380-aff6352dc990"
      },
      "cell_type": "code",
      "source": [
        "from langdetect import detect\n",
        "\n",
        "\n",
        "count=0\n",
        "ls=[]\n",
        "for i in range(0,43266):\n",
        "    \n",
        "    if detect(str(data[\"Consumer-complaint-summary\"][i]))=='en':\n",
        "        count+=1\n",
        "        ls.append(i)\n",
        "data = data.iloc[ls]        \n",
        "print(count)\n"
      ],
      "execution_count": 8,
      "outputs": [
        {
          "output_type": "stream",
          "text": [
            "27772\n"
          ],
          "name": "stdout"
        }
      ]
    }
  ]
}
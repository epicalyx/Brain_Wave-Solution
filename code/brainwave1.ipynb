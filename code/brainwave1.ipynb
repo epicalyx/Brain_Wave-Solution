{
  "nbformat": 4,
  "nbformat_minor": 0,
  "metadata": {
    "colab": {
      "name": "brainwave1.ipynb",
      "version": "0.3.2",
      "provenance": [],
      "collapsed_sections": []
    },
    "kernelspec": {
      "name": "python3",
      "display_name": "Python 3"
    }
  },
  "cells": [
    {
      "metadata": {
        "id": "p0T1eDe8XrXy",
        "colab_type": "code",
        "colab": {}
      },
      "cell_type": "code",
      "source": [
        "!pip install -U -q kaggle\n",
        "!mkdir -p ~/.kaggle"
      ],
      "execution_count": 0,
      "outputs": []
    },
    {
      "metadata": {
        "id": "jC-o2jUnX76k",
        "colab_type": "code",
        "colab": {}
      },
      "cell_type": "code",
      "source": [
        "from google.colab import files\n",
        "files.upload()"
      ],
      "execution_count": 0,
      "outputs": []
    },
    {
      "metadata": {
        "id": "Ft5Nh3VVX9DB",
        "colab_type": "code",
        "colab": {}
      },
      "cell_type": "code",
      "source": [
        "!cp kaggle.json ~/.kaggle/"
      ],
      "execution_count": 0,
      "outputs": []
    },
    {
      "metadata": {
        "id": "jkUUb4c5YCI_",
        "colab_type": "code",
        "colab": {}
      },
      "cell_type": "code",
      "source": [
        "!chmod 600 /root/.kaggle/kaggle.json"
      ],
      "execution_count": 0,
      "outputs": []
    },
    {
      "metadata": {
        "id": "zjP9Yer2YKLi",
        "colab_type": "code",
        "outputId": "780cca17-5578-4d14-a9f2-17be62925353",
        "colab": {
          "base_uri": "https://localhost:8080/",
          "height": 34
        }
      },
      "cell_type": "code",
      "source": [
        "!kaggle datasets download -d smohapat/sg-complaint"
      ],
      "execution_count": 0,
      "outputs": [
        {
          "output_type": "stream",
          "text": [
            "sg-complaint.zip: Skipping, found more recently modified local copy (use --force to force download)\n"
          ],
          "name": "stdout"
        }
      ]
    },
    {
      "metadata": {
        "id": "jzIF_1joYRRK",
        "colab_type": "code",
        "colab": {}
      },
      "cell_type": "code",
      "source": [
        "import pandas as pd\n",
        "#data2 = pd.read_csv('/content/sg-complaint.zip', compression='zip', header=0, sep=',', quotechar='\"')"
      ],
      "execution_count": 0,
      "outputs": []
    },
    {
      "metadata": {
        "id": "i_Js9MbDYX5x",
        "colab_type": "code",
        "outputId": "af28d9f2-dd68-40ad-b67f-f4371471abd8",
        "colab": {
          "base_uri": "https://localhost:8080/",
          "height": 297
        }
      },
      "cell_type": "code",
      "source": [
        "from zipfile import ZipFile\n",
        "zip_file = ZipFile('/content/sg-complaint.zip')\n",
        "train_data=pd.read_csv(zip_file.open('train.csv'))\n",
        "train_data.head()"
      ],
      "execution_count": 0,
      "outputs": [
        {
          "output_type": "execute_result",
          "data": {
            "text/html": [
              "<div>\n",
              "<style scoped>\n",
              "    .dataframe tbody tr th:only-of-type {\n",
              "        vertical-align: middle;\n",
              "    }\n",
              "\n",
              "    .dataframe tbody tr th {\n",
              "        vertical-align: top;\n",
              "    }\n",
              "\n",
              "    .dataframe thead th {\n",
              "        text-align: right;\n",
              "    }\n",
              "</style>\n",
              "<table border=\"1\" class=\"dataframe\">\n",
              "  <thead>\n",
              "    <tr style=\"text-align: right;\">\n",
              "      <th></th>\n",
              "      <th>Complaint-ID</th>\n",
              "      <th>Date-received</th>\n",
              "      <th>Transaction-Type</th>\n",
              "      <th>Complaint-reason</th>\n",
              "      <th>Company-response</th>\n",
              "      <th>Date-sent-to-company</th>\n",
              "      <th>Complaint-Status</th>\n",
              "      <th>Consumer-disputes</th>\n",
              "      <th>Consumer-complaint-summary</th>\n",
              "    </tr>\n",
              "  </thead>\n",
              "  <tbody>\n",
              "    <tr>\n",
              "      <th>0</th>\n",
              "      <td>Tr-1</td>\n",
              "      <td>11/11/2015</td>\n",
              "      <td>Mortgage</td>\n",
              "      <td>Loan servicing, payments, escrow account</td>\n",
              "      <td>NaN</td>\n",
              "      <td>11/11/2015</td>\n",
              "      <td>Closed with explanation</td>\n",
              "      <td>Yes</td>\n",
              "      <td>Seterus, Inc a déposé un faux rapport auprès d...</td>\n",
              "    </tr>\n",
              "    <tr>\n",
              "      <th>1</th>\n",
              "      <td>Tr-2</td>\n",
              "      <td>7/7/2015</td>\n",
              "      <td>Credit reporting</td>\n",
              "      <td>Incorrect information on credit report</td>\n",
              "      <td>Company chooses not to provide a public response</td>\n",
              "      <td>7/7/2015</td>\n",
              "      <td>Closed with non-monetary relief</td>\n",
              "      <td>No</td>\n",
              "      <td>XX / XX / XXXX La requête en faillite n ° XXXX...</td>\n",
              "    </tr>\n",
              "    <tr>\n",
              "      <th>2</th>\n",
              "      <td>Tr-3</td>\n",
              "      <td>5/7/2015</td>\n",
              "      <td>Bank account or service</td>\n",
              "      <td>Using a debit or ATM card</td>\n",
              "      <td>NaN</td>\n",
              "      <td>5/7/2015</td>\n",
              "      <td>Closed with explanation</td>\n",
              "      <td>No</td>\n",
              "      <td>El XXXX / XXXX / 15, estaba preparando el vuel...</td>\n",
              "    </tr>\n",
              "    <tr>\n",
              "      <th>3</th>\n",
              "      <td>Tr-4</td>\n",
              "      <td>11/12/2016</td>\n",
              "      <td>Debt collection</td>\n",
              "      <td>Cont'd attempts collect debt not owed</td>\n",
              "      <td>Company believes it acted appropriately as aut...</td>\n",
              "      <td>11/12/2016</td>\n",
              "      <td>Closed with explanation</td>\n",
              "      <td>No</td>\n",
              "      <td>The loan was paid in XXXX XXXX. In XXXX, 4 yea...</td>\n",
              "    </tr>\n",
              "    <tr>\n",
              "      <th>4</th>\n",
              "      <td>Tr-5</td>\n",
              "      <td>9/29/2016</td>\n",
              "      <td>Credit card</td>\n",
              "      <td>Payoff process</td>\n",
              "      <td>Company has responded to the consumer and the ...</td>\n",
              "      <td>9/29/2016</td>\n",
              "      <td>Closed with explanation</td>\n",
              "      <td>No</td>\n",
              "      <td>J'ai obtenu un compte de crédit de soins pour ...</td>\n",
              "    </tr>\n",
              "  </tbody>\n",
              "</table>\n",
              "</div>"
            ],
            "text/plain": [
              "  Complaint-ID Date-received         Transaction-Type  \\\n",
              "0         Tr-1    11/11/2015                 Mortgage   \n",
              "1         Tr-2      7/7/2015         Credit reporting   \n",
              "2         Tr-3      5/7/2015  Bank account or service   \n",
              "3         Tr-4    11/12/2016          Debt collection   \n",
              "4         Tr-5     9/29/2016              Credit card   \n",
              "\n",
              "                           Complaint-reason  \\\n",
              "0  Loan servicing, payments, escrow account   \n",
              "1    Incorrect information on credit report   \n",
              "2                 Using a debit or ATM card   \n",
              "3     Cont'd attempts collect debt not owed   \n",
              "4                            Payoff process   \n",
              "\n",
              "                                    Company-response Date-sent-to-company  \\\n",
              "0                                                NaN           11/11/2015   \n",
              "1   Company chooses not to provide a public response             7/7/2015   \n",
              "2                                                NaN             5/7/2015   \n",
              "3  Company believes it acted appropriately as aut...           11/12/2016   \n",
              "4  Company has responded to the consumer and the ...            9/29/2016   \n",
              "\n",
              "                  Complaint-Status Consumer-disputes  \\\n",
              "0          Closed with explanation               Yes   \n",
              "1  Closed with non-monetary relief                No   \n",
              "2          Closed with explanation                No   \n",
              "3          Closed with explanation                No   \n",
              "4          Closed with explanation                No   \n",
              "\n",
              "                          Consumer-complaint-summary  \n",
              "0  Seterus, Inc a déposé un faux rapport auprès d...  \n",
              "1  XX / XX / XXXX La requête en faillite n ° XXXX...  \n",
              "2  El XXXX / XXXX / 15, estaba preparando el vuel...  \n",
              "3  The loan was paid in XXXX XXXX. In XXXX, 4 yea...  \n",
              "4  J'ai obtenu un compte de crédit de soins pour ...  "
            ]
          },
          "metadata": {
            "tags": []
          },
          "execution_count": 35
        }
      ]
    },
    {
      "metadata": {
        "id": "SSd1hxAbathX",
        "colab_type": "code",
        "outputId": "c96c4ddc-ab39-42d3-b2a3-c3c86f9ecd9f",
        "colab": {
          "base_uri": "https://localhost:8080/",
          "height": 34
        }
      },
      "cell_type": "code",
      "source": [
        "train_data.shape"
      ],
      "execution_count": 0,
      "outputs": [
        {
          "output_type": "execute_result",
          "data": {
            "text/plain": [
              "(43266, 9)"
            ]
          },
          "metadata": {
            "tags": []
          },
          "execution_count": 9
        }
      ]
    },
    {
      "metadata": {
        "id": "C2u0adZTbpC4",
        "colab_type": "code",
        "colab": {}
      },
      "cell_type": "code",
      "source": [
        "train_data.drop('Consumer-complaint-summary',axis=1,inplace=True)"
      ],
      "execution_count": 0,
      "outputs": []
    },
    {
      "metadata": {
        "id": "ImkVZyUscw6Y",
        "colab_type": "code",
        "outputId": "bea6fbc4-2b33-46cf-f932-4ac546242620",
        "colab": {
          "base_uri": "https://localhost:8080/",
          "height": 194
        }
      },
      "cell_type": "code",
      "source": [
        "train_data.isnull().sum()"
      ],
      "execution_count": 0,
      "outputs": [
        {
          "output_type": "execute_result",
          "data": {
            "text/plain": [
              "Complaint-ID                      0\n",
              "Date-received                     0\n",
              "Transaction-Type                  0\n",
              "Complaint-reason                  0\n",
              "Company-response              22506\n",
              "Date-sent-to-company              0\n",
              "Complaint-Status                  0\n",
              "Consumer-disputes              7698\n",
              "Consumer-complaint-summary        0\n",
              "dtype: int64"
            ]
          },
          "metadata": {
            "tags": []
          },
          "execution_count": 12
        }
      ]
    },
    {
      "metadata": {
        "id": "lt0Gmjkjqh-C",
        "colab_type": "code",
        "outputId": "5cadce39-fbae-4a7b-8473-79ae1d3964f1",
        "colab": {
          "base_uri": "https://localhost:8080/",
          "height": 297
        }
      },
      "cell_type": "code",
      "source": [
        "train_data.head()"
      ],
      "execution_count": 0,
      "outputs": [
        {
          "output_type": "execute_result",
          "data": {
            "text/html": [
              "<div>\n",
              "<style scoped>\n",
              "    .dataframe tbody tr th:only-of-type {\n",
              "        vertical-align: middle;\n",
              "    }\n",
              "\n",
              "    .dataframe tbody tr th {\n",
              "        vertical-align: top;\n",
              "    }\n",
              "\n",
              "    .dataframe thead th {\n",
              "        text-align: right;\n",
              "    }\n",
              "</style>\n",
              "<table border=\"1\" class=\"dataframe\">\n",
              "  <thead>\n",
              "    <tr style=\"text-align: right;\">\n",
              "      <th></th>\n",
              "      <th>Complaint-ID</th>\n",
              "      <th>Date-received</th>\n",
              "      <th>Transaction-Type</th>\n",
              "      <th>Complaint-reason</th>\n",
              "      <th>Company-response</th>\n",
              "      <th>Date-sent-to-company</th>\n",
              "      <th>Complaint-Status</th>\n",
              "      <th>Consumer-disputes</th>\n",
              "      <th>Consumer-complaint-summary</th>\n",
              "    </tr>\n",
              "  </thead>\n",
              "  <tbody>\n",
              "    <tr>\n",
              "      <th>0</th>\n",
              "      <td>Tr-1</td>\n",
              "      <td>11/11/2015</td>\n",
              "      <td>Mortgage</td>\n",
              "      <td>Loan servicing, payments, escrow account</td>\n",
              "      <td>NaN</td>\n",
              "      <td>11/11/2015</td>\n",
              "      <td>Closed with explanation</td>\n",
              "      <td>Yes</td>\n",
              "      <td>Seterus, Inc a déposé un faux rapport auprès d...</td>\n",
              "    </tr>\n",
              "    <tr>\n",
              "      <th>1</th>\n",
              "      <td>Tr-2</td>\n",
              "      <td>7/7/2015</td>\n",
              "      <td>Credit reporting</td>\n",
              "      <td>Incorrect information on credit report</td>\n",
              "      <td>Company chooses not to provide a public response</td>\n",
              "      <td>7/7/2015</td>\n",
              "      <td>Closed with non-monetary relief</td>\n",
              "      <td>No</td>\n",
              "      <td>XX / XX / XXXX La requête en faillite n ° XXXX...</td>\n",
              "    </tr>\n",
              "    <tr>\n",
              "      <th>2</th>\n",
              "      <td>Tr-3</td>\n",
              "      <td>5/7/2015</td>\n",
              "      <td>Bank account or service</td>\n",
              "      <td>Using a debit or ATM card</td>\n",
              "      <td>NaN</td>\n",
              "      <td>5/7/2015</td>\n",
              "      <td>Closed with explanation</td>\n",
              "      <td>No</td>\n",
              "      <td>El XXXX / XXXX / 15, estaba preparando el vuel...</td>\n",
              "    </tr>\n",
              "    <tr>\n",
              "      <th>3</th>\n",
              "      <td>Tr-4</td>\n",
              "      <td>11/12/2016</td>\n",
              "      <td>Debt collection</td>\n",
              "      <td>Cont'd attempts collect debt not owed</td>\n",
              "      <td>Company believes it acted appropriately as aut...</td>\n",
              "      <td>11/12/2016</td>\n",
              "      <td>Closed with explanation</td>\n",
              "      <td>No</td>\n",
              "      <td>The loan was paid in XXXX XXXX. In XXXX, 4 yea...</td>\n",
              "    </tr>\n",
              "    <tr>\n",
              "      <th>4</th>\n",
              "      <td>Tr-5</td>\n",
              "      <td>9/29/2016</td>\n",
              "      <td>Credit card</td>\n",
              "      <td>Payoff process</td>\n",
              "      <td>Company has responded to the consumer and the ...</td>\n",
              "      <td>9/29/2016</td>\n",
              "      <td>Closed with explanation</td>\n",
              "      <td>No</td>\n",
              "      <td>J'ai obtenu un compte de crédit de soins pour ...</td>\n",
              "    </tr>\n",
              "  </tbody>\n",
              "</table>\n",
              "</div>"
            ],
            "text/plain": [
              "  Complaint-ID Date-received         Transaction-Type  \\\n",
              "0         Tr-1    11/11/2015                 Mortgage   \n",
              "1         Tr-2      7/7/2015         Credit reporting   \n",
              "2         Tr-3      5/7/2015  Bank account or service   \n",
              "3         Tr-4    11/12/2016          Debt collection   \n",
              "4         Tr-5     9/29/2016              Credit card   \n",
              "\n",
              "                           Complaint-reason  \\\n",
              "0  Loan servicing, payments, escrow account   \n",
              "1    Incorrect information on credit report   \n",
              "2                 Using a debit or ATM card   \n",
              "3     Cont'd attempts collect debt not owed   \n",
              "4                            Payoff process   \n",
              "\n",
              "                                    Company-response Date-sent-to-company  \\\n",
              "0                                                NaN           11/11/2015   \n",
              "1   Company chooses not to provide a public response             7/7/2015   \n",
              "2                                                NaN             5/7/2015   \n",
              "3  Company believes it acted appropriately as aut...           11/12/2016   \n",
              "4  Company has responded to the consumer and the ...            9/29/2016   \n",
              "\n",
              "                  Complaint-Status Consumer-disputes  \\\n",
              "0          Closed with explanation               Yes   \n",
              "1  Closed with non-monetary relief                No   \n",
              "2          Closed with explanation                No   \n",
              "3          Closed with explanation                No   \n",
              "4          Closed with explanation                No   \n",
              "\n",
              "                          Consumer-complaint-summary  \n",
              "0  Seterus, Inc a déposé un faux rapport auprès d...  \n",
              "1  XX / XX / XXXX La requête en faillite n ° XXXX...  \n",
              "2  El XXXX / XXXX / 15, estaba preparando el vuel...  \n",
              "3  The loan was paid in XXXX XXXX. In XXXX, 4 yea...  \n",
              "4  J'ai obtenu un compte de crédit de soins pour ...  "
            ]
          },
          "metadata": {
            "tags": []
          },
          "execution_count": 8
        }
      ]
    },
    {
      "metadata": {
        "id": "6U-GkSPqnmZk",
        "colab_type": "code",
        "outputId": "cf07b924-9d11-4ad8-839d-545d3d190897",
        "colab": {
          "base_uri": "https://localhost:8080/",
          "height": 354
        }
      },
      "cell_type": "code",
      "source": [
        "tt = train_data['Transaction-Type'].value_counts()\n",
        "(tt)"
      ],
      "execution_count": 0,
      "outputs": [
        {
          "output_type": "execute_result",
          "data": {
            "text/plain": [
              "Debt collection                                                                 10422\n",
              "Mortgage                                                                         7950\n",
              "Credit reporting                                                                 6706\n",
              "Credit card                                                                      4119\n",
              "Bank account or service                                                          3264\n",
              "Credit reporting, credit repair services, or other personal consumer reports     3169\n",
              "Student loan                                                                     2874\n",
              "Consumer Loan                                                                    2033\n",
              "Credit card or prepaid card                                                       719\n",
              "Checking or savings account                                                       496\n",
              "Payday loan                                                                       363\n",
              "Money transfers                                                                   332\n",
              "Prepaid card                                                                      308\n",
              "Vehicle loan or lease                                                             155\n",
              "Money transfer, virtual currency, or money service                                147\n",
              "Payday loan, title loan, or personal loan                                         145\n",
              "Other financial service                                                            60\n",
              "Virtual currency                                                                    4\n",
              "Name: Transaction-Type, dtype: int64"
            ]
          },
          "metadata": {
            "tags": []
          },
          "execution_count": 139
        }
      ]
    },
    {
      "metadata": {
        "id": "grsJqJaroSzO",
        "colab_type": "code",
        "outputId": "4b361d7d-15e6-458a-9613-b9107bcce5b0",
        "colab": {
          "base_uri": "https://localhost:8080/",
          "height": 34
        }
      },
      "cell_type": "code",
      "source": [
        "tt_train = train_data[['Transaction-Type']].copy()\n",
        "tt_train.ndim"
      ],
      "execution_count": 0,
      "outputs": [
        {
          "output_type": "execute_result",
          "data": {
            "text/plain": [
              "2"
            ]
          },
          "metadata": {
            "tags": []
          },
          "execution_count": 141
        }
      ]
    },
    {
      "metadata": {
        "id": "cSY6badtoZDd",
        "colab_type": "code",
        "outputId": "0b5d69c0-6d17-4942-d1e7-8ee08d63a3d5",
        "colab": {
          "base_uri": "https://localhost:8080/",
          "height": 141
        }
      },
      "cell_type": "code",
      "source": [
        "from sklearn.preprocessing import OneHotEncoder\n",
        "ohe = OneHotEncoder(sparse=False)\n",
        "tt_train_transformed = ohe.fit_transform(tt_train)\n",
        "tt_train_transformed"
      ],
      "execution_count": 0,
      "outputs": [
        {
          "output_type": "execute_result",
          "data": {
            "text/plain": [
              "array([[0., 0., 0., ..., 0., 0., 0.],\n",
              "       [0., 0., 0., ..., 0., 0., 0.],\n",
              "       [1., 0., 0., ..., 0., 0., 0.],\n",
              "       ...,\n",
              "       [0., 0., 0., ..., 0., 0., 0.],\n",
              "       [0., 0., 0., ..., 0., 0., 0.],\n",
              "       [0., 0., 0., ..., 0., 0., 0.]])"
            ]
          },
          "metadata": {
            "tags": []
          },
          "execution_count": 142
        }
      ]
    },
    {
      "metadata": {
        "id": "axnnffXgoug2",
        "colab_type": "code",
        "outputId": "35d915c9-68cc-4a30-eb1a-ea2dad644798",
        "colab": {
          "base_uri": "https://localhost:8080/",
          "height": 34
        }
      },
      "cell_type": "code",
      "source": [
        "tt_train_transformed.shape"
      ],
      "execution_count": 0,
      "outputs": [
        {
          "output_type": "execute_result",
          "data": {
            "text/plain": [
              "(43266, 18)"
            ]
          },
          "metadata": {
            "tags": []
          },
          "execution_count": 143
        }
      ]
    },
    {
      "metadata": {
        "id": "TGFnYvSno0Yf",
        "colab_type": "code",
        "outputId": "a1eda240-0d85-4ee2-ecd9-53326efa7f3e",
        "colab": {
          "base_uri": "https://localhost:8080/",
          "height": 194
        }
      },
      "cell_type": "code",
      "source": [
        "feature_names = ohe.get_feature_names()\n",
        "feature_names"
      ],
      "execution_count": 0,
      "outputs": [
        {
          "output_type": "execute_result",
          "data": {
            "text/plain": [
              "array(['x0_Bank account or service', 'x0_Checking or savings account',\n",
              "       'x0_Consumer Loan', 'x0_Credit card',\n",
              "       'x0_Credit card or prepaid card', 'x0_Credit reporting',\n",
              "       'x0_Credit reporting, credit repair services, or other personal consumer reports',\n",
              "       'x0_Debt collection',\n",
              "       'x0_Money transfer, virtual currency, or money service',\n",
              "       'x0_Money transfers', 'x0_Mortgage', 'x0_Other financial service',\n",
              "       'x0_Payday loan', 'x0_Payday loan, title loan, or personal loan',\n",
              "       'x0_Prepaid card', 'x0_Student loan', 'x0_Vehicle loan or lease',\n",
              "       'x0_Virtual currency'], dtype=object)"
            ]
          },
          "metadata": {
            "tags": []
          },
          "execution_count": 145
        }
      ]
    },
    {
      "metadata": {
        "id": "T3cM1hS_0l_U",
        "colab_type": "code",
        "outputId": "d83e407e-da78-4c57-f737-fadd3a558a8c",
        "colab": {
          "base_uri": "https://localhost:8080/",
          "height": 34
        }
      },
      "cell_type": "code",
      "source": [
        "cr = train_data['Company-response'].value_counts()\n",
        "cr\n",
        "len(cr)"
      ],
      "execution_count": 0,
      "outputs": [
        {
          "output_type": "execute_result",
          "data": {
            "text/plain": [
              "10"
            ]
          },
          "metadata": {
            "tags": []
          },
          "execution_count": 108
        }
      ]
    },
    {
      "metadata": {
        "id": "bB9QkhBlMudX",
        "colab_type": "code",
        "outputId": "0bfd7052-6fc2-4bc4-d9b5-df04b82fb6df",
        "colab": {
          "base_uri": "https://localhost:8080/",
          "height": 34
        }
      },
      "cell_type": "code",
      "source": [
        "cr_train = train_data[['Company-response']].copy()\n",
        "cr_train.ndim"
      ],
      "execution_count": 0,
      "outputs": [
        {
          "output_type": "execute_result",
          "data": {
            "text/plain": [
              "2"
            ]
          },
          "metadata": {
            "tags": []
          },
          "execution_count": 109
        }
      ]
    },
    {
      "metadata": {
        "id": "2k7EOASMNjDQ",
        "colab_type": "code",
        "colab": {}
      },
      "cell_type": "code",
      "source": [
        "from sklearn.preprocessing import OneHotEncoder\n",
        "ohe = OneHotEncoder(sparse=False)\n"
      ],
      "execution_count": 0,
      "outputs": []
    },
    {
      "metadata": {
        "id": "uP1YbUCZOKj9",
        "colab_type": "code",
        "outputId": "351435d5-72e1-411b-e4b6-d0d02f4f3320",
        "colab": {
          "base_uri": "https://localhost:8080/",
          "height": 137
        }
      },
      "cell_type": "code",
      "source": [
        "import numpy as np\n",
        "cr_train = cr_train.copy()\n",
        "cr_train.iloc[0, 0] = np.nan\n",
        "cr_train.head(3)"
      ],
      "execution_count": 0,
      "outputs": [
        {
          "output_type": "execute_result",
          "data": {
            "text/html": [
              "<div>\n",
              "<style scoped>\n",
              "    .dataframe tbody tr th:only-of-type {\n",
              "        vertical-align: middle;\n",
              "    }\n",
              "\n",
              "    .dataframe tbody tr th {\n",
              "        vertical-align: top;\n",
              "    }\n",
              "\n",
              "    .dataframe thead th {\n",
              "        text-align: right;\n",
              "    }\n",
              "</style>\n",
              "<table border=\"1\" class=\"dataframe\">\n",
              "  <thead>\n",
              "    <tr style=\"text-align: right;\">\n",
              "      <th></th>\n",
              "      <th>Company-response</th>\n",
              "    </tr>\n",
              "  </thead>\n",
              "  <tbody>\n",
              "    <tr>\n",
              "      <th>0</th>\n",
              "      <td>NaN</td>\n",
              "    </tr>\n",
              "    <tr>\n",
              "      <th>1</th>\n",
              "      <td>Company chooses not to provide a public response</td>\n",
              "    </tr>\n",
              "    <tr>\n",
              "      <th>2</th>\n",
              "      <td>NaN</td>\n",
              "    </tr>\n",
              "  </tbody>\n",
              "</table>\n",
              "</div>"
            ],
            "text/plain": [
              "                                   Company-response\n",
              "0                                               NaN\n",
              "1  Company chooses not to provide a public response\n",
              "2                                               NaN"
            ]
          },
          "metadata": {
            "tags": []
          },
          "execution_count": 111
        }
      ]
    },
    {
      "metadata": {
        "id": "Ooe2cX8wOTej",
        "colab_type": "code",
        "outputId": "61e482b1-4498-40b6-cc9c-c3217d21dac6",
        "colab": {
          "base_uri": "https://localhost:8080/",
          "height": 158
        }
      },
      "cell_type": "code",
      "source": [
        "cr_train = train_data[['Company-response']].copy()\n",
        "cr_train.iloc[0, 0] = np.nan\n",
        "\n",
        "from sklearn.impute import SimpleImputer\n",
        "si = SimpleImputer(strategy='constant', fill_value='MISSING')\n",
        "cr_train_imputed = si.fit_transform(cr_train)\n",
        "cr_train_imputed"
      ],
      "execution_count": 0,
      "outputs": [
        {
          "output_type": "execute_result",
          "data": {
            "text/plain": [
              "array([['MISSING'],\n",
              "       ['Company chooses not to provide a public response'],\n",
              "       ['MISSING'],\n",
              "       ...,\n",
              "       ['MISSING'],\n",
              "       ['Company believes complaint is the result of an isolated error'],\n",
              "       ['Company believes it acted appropriately as authorized by contract or law']],\n",
              "      dtype=object)"
            ]
          },
          "metadata": {
            "tags": []
          },
          "execution_count": 112
        }
      ]
    },
    {
      "metadata": {
        "id": "VeGThyz1PKNL",
        "colab_type": "code",
        "outputId": "ad0eb09f-b878-411f-cd63-cf86b498657d",
        "colab": {
          "base_uri": "https://localhost:8080/",
          "height": 34
        }
      },
      "cell_type": "code",
      "source": [
        "cr_train_transformed = ohe.fit_transform(cr_train_imputed)\n",
        "cr_train_transformed.shape"
      ],
      "execution_count": 0,
      "outputs": [
        {
          "output_type": "execute_result",
          "data": {
            "text/plain": [
              "(43266, 11)"
            ]
          },
          "metadata": {
            "tags": []
          },
          "execution_count": 113
        }
      ]
    },
    {
      "metadata": {
        "id": "QvfvqOjeR6Og",
        "colab_type": "code",
        "outputId": "88f4cfc4-2738-4ac9-b311-fb7f5be27030",
        "colab": {
          "base_uri": "https://localhost:8080/",
          "height": 212
        }
      },
      "cell_type": "code",
      "source": [
        "feature_names = ohe.get_feature_names()\n",
        "feature_names"
      ],
      "execution_count": 0,
      "outputs": [
        {
          "output_type": "execute_result",
          "data": {
            "text/plain": [
              "array(['x0_Company believes complaint caused principally by actions of third party outside the control or direction of the company',\n",
              "       'x0_Company believes complaint is the result of an isolated error',\n",
              "       'x0_Company believes complaint relates to a discontinued policy or procedure',\n",
              "       'x0_Company believes complaint represents an opportunity for improvement to better serve consumers',\n",
              "       'x0_Company believes it acted appropriately as authorized by contract or law',\n",
              "       'x0_Company believes the complaint is the result of a misunderstanding',\n",
              "       \"x0_Company can't verify or dispute the facts in the complaint\",\n",
              "       'x0_Company chooses not to provide a public response',\n",
              "       'x0_Company disputes the facts presented in the complaint',\n",
              "       'x0_Company has responded to the consumer and the CFPB and chooses not to provide a public response',\n",
              "       'x0_MISSING'], dtype=object)"
            ]
          },
          "metadata": {
            "tags": []
          },
          "execution_count": 114
        }
      ]
    },
    {
      "metadata": {
        "id": "XpJheSXuTS02",
        "colab_type": "code",
        "colab": {}
      },
      "cell_type": "code",
      "source": [
        ""
      ],
      "execution_count": 0,
      "outputs": []
    },
    {
      "metadata": {
        "id": "6RG88_tNUdvj",
        "colab_type": "code",
        "outputId": "0e209517-eaa3-4a1a-b277-8cb087342efa",
        "colab": {
          "base_uri": "https://localhost:8080/",
          "height": 34
        }
      },
      "cell_type": "code",
      "source": [
        "cd = train_data['Consumer-disputes'].value_counts()\n",
        "cd\n",
        "len(cd)"
      ],
      "execution_count": 0,
      "outputs": [
        {
          "output_type": "execute_result",
          "data": {
            "text/plain": [
              "2"
            ]
          },
          "metadata": {
            "tags": []
          },
          "execution_count": 115
        }
      ]
    },
    {
      "metadata": {
        "id": "soRDdOfOUwWm",
        "colab_type": "code",
        "outputId": "3e69fd99-2cbd-42f7-8003-41d5508c88cd",
        "colab": {
          "base_uri": "https://localhost:8080/",
          "height": 34
        }
      },
      "cell_type": "code",
      "source": [
        "cd_train = train_data[['Consumer-disputes']].copy()\n",
        "cd_train.ndim"
      ],
      "execution_count": 0,
      "outputs": [
        {
          "output_type": "execute_result",
          "data": {
            "text/plain": [
              "2"
            ]
          },
          "metadata": {
            "tags": []
          },
          "execution_count": 116
        }
      ]
    },
    {
      "metadata": {
        "id": "fvdlHqucVBDs",
        "colab_type": "code",
        "outputId": "e1d27f5c-0f03-4b49-9915-b1fa4b366c92",
        "colab": {
          "base_uri": "https://localhost:8080/",
          "height": 137
        }
      },
      "cell_type": "code",
      "source": [
        "import numpy as np\n",
        "cd_train = cd_train.copy()\n",
        "cd_train.iloc[0, 0] = np.nan\n",
        "cd_train.head(3)\n"
      ],
      "execution_count": 0,
      "outputs": [
        {
          "output_type": "execute_result",
          "data": {
            "text/html": [
              "<div>\n",
              "<style scoped>\n",
              "    .dataframe tbody tr th:only-of-type {\n",
              "        vertical-align: middle;\n",
              "    }\n",
              "\n",
              "    .dataframe tbody tr th {\n",
              "        vertical-align: top;\n",
              "    }\n",
              "\n",
              "    .dataframe thead th {\n",
              "        text-align: right;\n",
              "    }\n",
              "</style>\n",
              "<table border=\"1\" class=\"dataframe\">\n",
              "  <thead>\n",
              "    <tr style=\"text-align: right;\">\n",
              "      <th></th>\n",
              "      <th>Consumer-disputes</th>\n",
              "    </tr>\n",
              "  </thead>\n",
              "  <tbody>\n",
              "    <tr>\n",
              "      <th>0</th>\n",
              "      <td>NaN</td>\n",
              "    </tr>\n",
              "    <tr>\n",
              "      <th>1</th>\n",
              "      <td>No</td>\n",
              "    </tr>\n",
              "    <tr>\n",
              "      <th>2</th>\n",
              "      <td>No</td>\n",
              "    </tr>\n",
              "  </tbody>\n",
              "</table>\n",
              "</div>"
            ],
            "text/plain": [
              "  Consumer-disputes\n",
              "0               NaN\n",
              "1                No\n",
              "2                No"
            ]
          },
          "metadata": {
            "tags": []
          },
          "execution_count": 117
        }
      ]
    },
    {
      "metadata": {
        "id": "55HA1Uq3TfBT",
        "colab_type": "code",
        "outputId": "95d9b8d6-9fff-4002-84e4-f2dae3c8ac90",
        "colab": {
          "base_uri": "https://localhost:8080/",
          "height": 141
        }
      },
      "cell_type": "code",
      "source": [
        "cd_train = train_data[['Consumer-disputes']].copy()\n",
        "cd_train.iloc[0, 0] = np.nan\n",
        "\n",
        "from sklearn.impute import SimpleImputer\n",
        "si = SimpleImputer(strategy='constant', fill_value='MISSING')\n",
        "cd_train_imputed = si.fit_transform(cd_train)\n",
        "cd_train_imputed"
      ],
      "execution_count": 0,
      "outputs": [
        {
          "output_type": "execute_result",
          "data": {
            "text/plain": [
              "array([['MISSING'],\n",
              "       ['No'],\n",
              "       ['No'],\n",
              "       ...,\n",
              "       ['No'],\n",
              "       ['MISSING'],\n",
              "       ['MISSING']], dtype=object)"
            ]
          },
          "metadata": {
            "tags": []
          },
          "execution_count": 118
        }
      ]
    },
    {
      "metadata": {
        "id": "d68DvLzVUZ-T",
        "colab_type": "code",
        "outputId": "110dfb3b-0898-4a42-d256-f5171cafe86f",
        "colab": {
          "base_uri": "https://localhost:8080/",
          "height": 34
        }
      },
      "cell_type": "code",
      "source": [
        "cd_train_transformed = ohe.fit_transform(cd_train_imputed)\n",
        "cd_train_transformed.shape"
      ],
      "execution_count": 0,
      "outputs": [
        {
          "output_type": "execute_result",
          "data": {
            "text/plain": [
              "(43266, 3)"
            ]
          },
          "metadata": {
            "tags": []
          },
          "execution_count": 119
        }
      ]
    },
    {
      "metadata": {
        "id": "q7vjMADyR45u",
        "colab_type": "code",
        "outputId": "99c3905b-1cdf-4d2a-a4b7-6256024411ce",
        "colab": {
          "base_uri": "https://localhost:8080/",
          "height": 176
        }
      },
      "cell_type": "code",
      "source": [
        "cat_train_data.isnull().sum()"
      ],
      "execution_count": 0,
      "outputs": [
        {
          "output_type": "execute_result",
          "data": {
            "text/plain": [
              "Complaint-ID            0\n",
              "Date-received           0\n",
              "Transaction-Type        0\n",
              "Complaint-reason        0\n",
              "Company-response        0\n",
              "Date-sent-to-company    0\n",
              "Complaint-Status        0\n",
              "Consumer-disputes       0\n",
              "dtype: int64"
            ]
          },
          "metadata": {
            "tags": []
          },
          "execution_count": 121
        }
      ]
    },
    {
      "metadata": {
        "id": "0n86U7VyV1jj",
        "colab_type": "code",
        "outputId": "e546aeea-c1b4-4e62-8254-f89967e974c5",
        "colab": {
          "base_uri": "https://localhost:8080/",
          "height": 503
        }
      },
      "cell_type": "code",
      "source": [
        "import matplotlib.pyplot as plt\n",
        "import seaborn as sns\n",
        "plt.subplots(figsize = (15,8))\n",
        "sns.heatmap(cat_train_data.corr(), annot=True,cmap=\"coolwarm\")\n",
        "plt.title(\"Correlations Among Features\", fontsize = 20);"
      ],
      "execution_count": 0,
      "outputs": [
        {
          "output_type": "display_data",
          "data": {
            "image/png": "[encoded data removed]",
            "text/plain": [
              "<matplotlib.figure.Figure at 0x7ff474526390>"
            ]
          },
          "metadata": {
            "tags": []
          }
        }
      ]
    },
    {
      "metadata": {
        "id": "Rqbl0YV1Y5jZ",
        "colab_type": "code",
        "outputId": "bc2bd868-ced1-4598-cfe7-cbb87de3ca13",
        "colab": {
          "base_uri": "https://localhost:8080/",
          "height": 34
        }
      },
      "cell_type": "code",
      "source": [
        "cor = train_data['Complaint-reason'].value_counts()\n",
        "cor\n",
        "len(cor)"
      ],
      "execution_count": 0,
      "outputs": [
        {
          "output_type": "execute_result",
          "data": {
            "text/plain": [
              "150"
            ]
          },
          "metadata": {
            "tags": []
          },
          "execution_count": 129
        }
      ]
    },
    {
      "metadata": {
        "id": "hzYJLMbEZWJt",
        "colab_type": "code",
        "outputId": "dada67d0-62a0-4fa2-8482-ad11a531e9ee",
        "colab": {
          "base_uri": "https://localhost:8080/",
          "height": 34
        }
      },
      "cell_type": "code",
      "source": [
        "cor_train = train_data[['Complaint-reason']].copy()\n",
        "cor_train.ndim"
      ],
      "execution_count": 0,
      "outputs": [
        {
          "output_type": "execute_result",
          "data": {
            "text/plain": [
              "2"
            ]
          },
          "metadata": {
            "tags": []
          },
          "execution_count": 134
        }
      ]
    },
    {
      "metadata": {
        "id": "DnVjLbUnZhH7",
        "colab_type": "code",
        "colab": {}
      },
      "cell_type": "code",
      "source": [
        ""
      ],
      "execution_count": 0,
      "outputs": []
    },
    {
      "metadata": {
        "id": "NYnqrwXLZ3uU",
        "colab_type": "code",
        "outputId": "64dfae38-ec69-4e78-f943-48e66744995d",
        "colab": {
          "base_uri": "https://localhost:8080/",
          "height": 141
        }
      },
      "cell_type": "code",
      "source": [
        "from sklearn.preprocessing import OneHotEncoder\n",
        "ohe = OneHotEncoder(sparse=False)\n",
        "cor_train_transformed = ohe.fit_transform(cor_train)\n",
        "cor_train_transformed"
      ],
      "execution_count": 0,
      "outputs": [
        {
          "output_type": "execute_result",
          "data": {
            "text/plain": [
              "array([[0., 0., 0., ..., 0., 0., 0.],\n",
              "       [0., 0., 0., ..., 0., 0., 0.],\n",
              "       [0., 0., 0., ..., 0., 0., 0.],\n",
              "       ...,\n",
              "       [0., 0., 0., ..., 0., 0., 0.],\n",
              "       [0., 0., 0., ..., 0., 0., 0.],\n",
              "       [0., 0., 0., ..., 0., 0., 0.]])"
            ]
          },
          "metadata": {
            "tags": []
          },
          "execution_count": 135
        }
      ]
    },
    {
      "metadata": {
        "id": "kyJ4qppbaGDM",
        "colab_type": "code",
        "outputId": "40f20f9b-4a2f-4e7c-f548-ad928f6e25f4",
        "colab": {
          "base_uri": "https://localhost:8080/",
          "height": 34
        }
      },
      "cell_type": "code",
      "source": [
        "cs = train_data['Complaint-Status'].value_counts()\n",
        "cs\n",
        "len(cs)"
      ],
      "execution_count": 0,
      "outputs": [
        {
          "output_type": "execute_result",
          "data": {
            "text/plain": [
              "5"
            ]
          },
          "metadata": {
            "tags": []
          },
          "execution_count": 136
        }
      ]
    },
    {
      "metadata": {
        "id": "JlKeb13-aXml",
        "colab_type": "code",
        "outputId": "fb3a7d49-fdd4-4bea-969f-ef054dd2a574",
        "colab": {
          "base_uri": "https://localhost:8080/",
          "height": 34
        }
      },
      "cell_type": "code",
      "source": [
        "cs_train = train_data[['Complaint-Status']].copy()\n",
        "cs_train.ndim"
      ],
      "execution_count": 0,
      "outputs": [
        {
          "output_type": "execute_result",
          "data": {
            "text/plain": [
              "2"
            ]
          },
          "metadata": {
            "tags": []
          },
          "execution_count": 137
        }
      ]
    },
    {
      "metadata": {
        "id": "a4vkwupZaf7d",
        "colab_type": "code",
        "outputId": "8f7c70a1-a354-4801-dd90-da4601f15406",
        "colab": {
          "base_uri": "https://localhost:8080/",
          "height": 141
        }
      },
      "cell_type": "code",
      "source": [
        "from sklearn.preprocessing import OneHotEncoder\n",
        "ohe = OneHotEncoder(sparse=False)\n",
        "cs_train_transformed = ohe.fit_transform(cs_train)\n",
        "cs_train_transformed"
      ],
      "execution_count": 0,
      "outputs": [
        {
          "output_type": "execute_result",
          "data": {
            "text/plain": [
              "array([[0., 1., 0., 0., 0.],\n",
              "       [0., 0., 0., 1., 0.],\n",
              "       [0., 1., 0., 0., 0.],\n",
              "       ...,\n",
              "       [0., 1., 0., 0., 0.],\n",
              "       [0., 1., 0., 0., 0.],\n",
              "       [0., 1., 0., 0., 0.]])"
            ]
          },
          "metadata": {
            "tags": []
          },
          "execution_count": 138
        }
      ]
    },
    {
      "metadata": {
        "id": "gO-hzzqca-Mi",
        "colab_type": "code",
        "outputId": "68b5d31f-428b-4c76-e930-9b331e78f578",
        "colab": {
          "base_uri": "https://localhost:8080/",
          "height": 947
        }
      },
      "cell_type": "code",
      "source": [
        "cat_train_data = train_data.select_dtypes(include=['object']).copy()\n",
        "cat_train_data['Company-response'] = cr_train_transformed\n",
        "cat_train_data['Transaction-Type'] = tt_train_transformed\n",
        "cat_train_data['Consumer-disputes'] = cd_train_transformed\n",
        "cat_train_data['Complaint-Status'] = cs_train_transformed\n",
        "cat_train_data['Complaint-reason'] = cor_train_transformed\n",
        "cat_train_data.head(30)"
      ],
      "execution_count": 0,
      "outputs": [
        {
          "output_type": "execute_result",
          "data": {
            "text/html": [
              "<div>\n",
              "<style scoped>\n",
              "    .dataframe tbody tr th:only-of-type {\n",
              "        vertical-align: middle;\n",
              "    }\n",
              "\n",
              "    .dataframe tbody tr th {\n",
              "        vertical-align: top;\n",
              "    }\n",
              "\n",
              "    .dataframe thead th {\n",
              "        text-align: right;\n",
              "    }\n",
              "</style>\n",
              "<table border=\"1\" class=\"dataframe\">\n",
              "  <thead>\n",
              "    <tr style=\"text-align: right;\">\n",
              "      <th></th>\n",
              "      <th>Complaint-ID</th>\n",
              "      <th>Date-received</th>\n",
              "      <th>Transaction-Type</th>\n",
              "      <th>Complaint-reason</th>\n",
              "      <th>Company-response</th>\n",
              "      <th>Date-sent-to-company</th>\n",
              "      <th>Complaint-Status</th>\n",
              "      <th>Consumer-disputes</th>\n",
              "    </tr>\n",
              "  </thead>\n",
              "  <tbody>\n",
              "    <tr>\n",
              "      <th>0</th>\n",
              "      <td>Tr-1</td>\n",
              "      <td>11/11/2015</td>\n",
              "      <td>0.0</td>\n",
              "      <td>0.0</td>\n",
              "      <td>0.0</td>\n",
              "      <td>11/11/2015</td>\n",
              "      <td>0.0</td>\n",
              "      <td>1.0</td>\n",
              "    </tr>\n",
              "    <tr>\n",
              "      <th>1</th>\n",
              "      <td>Tr-2</td>\n",
              "      <td>7/7/2015</td>\n",
              "      <td>0.0</td>\n",
              "      <td>0.0</td>\n",
              "      <td>0.0</td>\n",
              "      <td>7/7/2015</td>\n",
              "      <td>0.0</td>\n",
              "      <td>0.0</td>\n",
              "    </tr>\n",
              "    <tr>\n",
              "      <th>2</th>\n",
              "      <td>Tr-3</td>\n",
              "      <td>5/7/2015</td>\n",
              "      <td>1.0</td>\n",
              "      <td>0.0</td>\n",
              "      <td>0.0</td>\n",
              "      <td>5/7/2015</td>\n",
              "      <td>0.0</td>\n",
              "      <td>0.0</td>\n",
              "    </tr>\n",
              "    <tr>\n",
              "      <th>3</th>\n",
              "      <td>Tr-4</td>\n",
              "      <td>11/12/2016</td>\n",
              "      <td>0.0</td>\n",
              "      <td>0.0</td>\n",
              "      <td>0.0</td>\n",
              "      <td>11/12/2016</td>\n",
              "      <td>0.0</td>\n",
              "      <td>0.0</td>\n",
              "    </tr>\n",
              "    <tr>\n",
              "      <th>4</th>\n",
              "      <td>Tr-5</td>\n",
              "      <td>9/29/2016</td>\n",
              "      <td>0.0</td>\n",
              "      <td>0.0</td>\n",
              "      <td>0.0</td>\n",
              "      <td>9/29/2016</td>\n",
              "      <td>0.0</td>\n",
              "      <td>0.0</td>\n",
              "    </tr>\n",
              "    <tr>\n",
              "      <th>5</th>\n",
              "      <td>Tr-6</td>\n",
              "      <td>8/2/2016</td>\n",
              "      <td>0.0</td>\n",
              "      <td>0.0</td>\n",
              "      <td>0.0</td>\n",
              "      <td>8/3/2016</td>\n",
              "      <td>0.0</td>\n",
              "      <td>0.0</td>\n",
              "    </tr>\n",
              "    <tr>\n",
              "      <th>6</th>\n",
              "      <td>Tr-7</td>\n",
              "      <td>3/26/2017</td>\n",
              "      <td>0.0</td>\n",
              "      <td>0.0</td>\n",
              "      <td>0.0</td>\n",
              "      <td>3/26/2017</td>\n",
              "      <td>0.0</td>\n",
              "      <td>0.0</td>\n",
              "    </tr>\n",
              "    <tr>\n",
              "      <th>7</th>\n",
              "      <td>Tr-8</td>\n",
              "      <td>10/15/2016</td>\n",
              "      <td>1.0</td>\n",
              "      <td>0.0</td>\n",
              "      <td>0.0</td>\n",
              "      <td>10/15/2016</td>\n",
              "      <td>0.0</td>\n",
              "      <td>0.0</td>\n",
              "    </tr>\n",
              "    <tr>\n",
              "      <th>8</th>\n",
              "      <td>Tr-9</td>\n",
              "      <td>1/18/2016</td>\n",
              "      <td>0.0</td>\n",
              "      <td>0.0</td>\n",
              "      <td>0.0</td>\n",
              "      <td>1/18/2016</td>\n",
              "      <td>0.0</td>\n",
              "      <td>0.0</td>\n",
              "    </tr>\n",
              "    <tr>\n",
              "      <th>9</th>\n",
              "      <td>Tr-10</td>\n",
              "      <td>8/17/2015</td>\n",
              "      <td>0.0</td>\n",
              "      <td>0.0</td>\n",
              "      <td>0.0</td>\n",
              "      <td>8/17/2015</td>\n",
              "      <td>0.0</td>\n",
              "      <td>0.0</td>\n",
              "    </tr>\n",
              "    <tr>\n",
              "      <th>10</th>\n",
              "      <td>Tr-11</td>\n",
              "      <td>1/10/2016</td>\n",
              "      <td>0.0</td>\n",
              "      <td>0.0</td>\n",
              "      <td>0.0</td>\n",
              "      <td>1/15/2016</td>\n",
              "      <td>0.0</td>\n",
              "      <td>0.0</td>\n",
              "    </tr>\n",
              "    <tr>\n",
              "      <th>11</th>\n",
              "      <td>Tr-12</td>\n",
              "      <td>3/5/2016</td>\n",
              "      <td>0.0</td>\n",
              "      <td>0.0</td>\n",
              "      <td>0.0</td>\n",
              "      <td>3/5/2016</td>\n",
              "      <td>0.0</td>\n",
              "      <td>0.0</td>\n",
              "    </tr>\n",
              "    <tr>\n",
              "      <th>12</th>\n",
              "      <td>Tr-13</td>\n",
              "      <td>1/29/2016</td>\n",
              "      <td>0.0</td>\n",
              "      <td>0.0</td>\n",
              "      <td>0.0</td>\n",
              "      <td>1/29/2016</td>\n",
              "      <td>0.0</td>\n",
              "      <td>0.0</td>\n",
              "    </tr>\n",
              "    <tr>\n",
              "      <th>13</th>\n",
              "      <td>Tr-14</td>\n",
              "      <td>9/24/2015</td>\n",
              "      <td>0.0</td>\n",
              "      <td>0.0</td>\n",
              "      <td>0.0</td>\n",
              "      <td>9/24/2015</td>\n",
              "      <td>0.0</td>\n",
              "      <td>0.0</td>\n",
              "    </tr>\n",
              "    <tr>\n",
              "      <th>14</th>\n",
              "      <td>Tr-15</td>\n",
              "      <td>12/28/2016</td>\n",
              "      <td>0.0</td>\n",
              "      <td>0.0</td>\n",
              "      <td>0.0</td>\n",
              "      <td>12/28/2016</td>\n",
              "      <td>1.0</td>\n",
              "      <td>0.0</td>\n",
              "    </tr>\n",
              "    <tr>\n",
              "      <th>15</th>\n",
              "      <td>Tr-16</td>\n",
              "      <td>8/17/2017</td>\n",
              "      <td>0.0</td>\n",
              "      <td>0.0</td>\n",
              "      <td>0.0</td>\n",
              "      <td>8/17/2017</td>\n",
              "      <td>0.0</td>\n",
              "      <td>1.0</td>\n",
              "    </tr>\n",
              "    <tr>\n",
              "      <th>16</th>\n",
              "      <td>Tr-17</td>\n",
              "      <td>5/2/2017</td>\n",
              "      <td>0.0</td>\n",
              "      <td>0.0</td>\n",
              "      <td>0.0</td>\n",
              "      <td>5/2/2017</td>\n",
              "      <td>0.0</td>\n",
              "      <td>1.0</td>\n",
              "    </tr>\n",
              "    <tr>\n",
              "      <th>17</th>\n",
              "      <td>Tr-18</td>\n",
              "      <td>9/29/2016</td>\n",
              "      <td>0.0</td>\n",
              "      <td>0.0</td>\n",
              "      <td>0.0</td>\n",
              "      <td>9/29/2016</td>\n",
              "      <td>0.0</td>\n",
              "      <td>0.0</td>\n",
              "    </tr>\n",
              "    <tr>\n",
              "      <th>18</th>\n",
              "      <td>Tr-19</td>\n",
              "      <td>3/2/2017</td>\n",
              "      <td>0.0</td>\n",
              "      <td>0.0</td>\n",
              "      <td>0.0</td>\n",
              "      <td>3/2/2017</td>\n",
              "      <td>0.0</td>\n",
              "      <td>0.0</td>\n",
              "    </tr>\n",
              "    <tr>\n",
              "      <th>19</th>\n",
              "      <td>Tr-20</td>\n",
              "      <td>8/31/2016</td>\n",
              "      <td>0.0</td>\n",
              "      <td>0.0</td>\n",
              "      <td>0.0</td>\n",
              "      <td>9/7/2016</td>\n",
              "      <td>0.0</td>\n",
              "      <td>0.0</td>\n",
              "    </tr>\n",
              "    <tr>\n",
              "      <th>20</th>\n",
              "      <td>Tr-21</td>\n",
              "      <td>2/18/2016</td>\n",
              "      <td>0.0</td>\n",
              "      <td>0.0</td>\n",
              "      <td>0.0</td>\n",
              "      <td>2/18/2016</td>\n",
              "      <td>0.0</td>\n",
              "      <td>0.0</td>\n",
              "    </tr>\n",
              "    <tr>\n",
              "      <th>21</th>\n",
              "      <td>Tr-22</td>\n",
              "      <td>9/8/2017</td>\n",
              "      <td>0.0</td>\n",
              "      <td>0.0</td>\n",
              "      <td>0.0</td>\n",
              "      <td>9/8/2017</td>\n",
              "      <td>0.0</td>\n",
              "      <td>1.0</td>\n",
              "    </tr>\n",
              "    <tr>\n",
              "      <th>22</th>\n",
              "      <td>Tr-23</td>\n",
              "      <td>4/28/2016</td>\n",
              "      <td>0.0</td>\n",
              "      <td>0.0</td>\n",
              "      <td>0.0</td>\n",
              "      <td>4/28/2016</td>\n",
              "      <td>0.0</td>\n",
              "      <td>0.0</td>\n",
              "    </tr>\n",
              "    <tr>\n",
              "      <th>23</th>\n",
              "      <td>Tr-24</td>\n",
              "      <td>5/19/2016</td>\n",
              "      <td>0.0</td>\n",
              "      <td>0.0</td>\n",
              "      <td>0.0</td>\n",
              "      <td>5/19/2016</td>\n",
              "      <td>0.0</td>\n",
              "      <td>0.0</td>\n",
              "    </tr>\n",
              "    <tr>\n",
              "      <th>24</th>\n",
              "      <td>Tr-25</td>\n",
              "      <td>3/10/2017</td>\n",
              "      <td>0.0</td>\n",
              "      <td>0.0</td>\n",
              "      <td>0.0</td>\n",
              "      <td>3/10/2017</td>\n",
              "      <td>0.0</td>\n",
              "      <td>0.0</td>\n",
              "    </tr>\n",
              "    <tr>\n",
              "      <th>25</th>\n",
              "      <td>Tr-26</td>\n",
              "      <td>6/22/2017</td>\n",
              "      <td>0.0</td>\n",
              "      <td>0.0</td>\n",
              "      <td>0.0</td>\n",
              "      <td>6/22/2017</td>\n",
              "      <td>0.0</td>\n",
              "      <td>1.0</td>\n",
              "    </tr>\n",
              "    <tr>\n",
              "      <th>26</th>\n",
              "      <td>Tr-27</td>\n",
              "      <td>1/31/2016</td>\n",
              "      <td>1.0</td>\n",
              "      <td>0.0</td>\n",
              "      <td>0.0</td>\n",
              "      <td>1/31/2016</td>\n",
              "      <td>0.0</td>\n",
              "      <td>0.0</td>\n",
              "    </tr>\n",
              "    <tr>\n",
              "      <th>27</th>\n",
              "      <td>Tr-28</td>\n",
              "      <td>2/18/2016</td>\n",
              "      <td>0.0</td>\n",
              "      <td>0.0</td>\n",
              "      <td>0.0</td>\n",
              "      <td>2/18/2016</td>\n",
              "      <td>0.0</td>\n",
              "      <td>0.0</td>\n",
              "    </tr>\n",
              "    <tr>\n",
              "      <th>28</th>\n",
              "      <td>Tr-29</td>\n",
              "      <td>7/13/2017</td>\n",
              "      <td>0.0</td>\n",
              "      <td>0.0</td>\n",
              "      <td>0.0</td>\n",
              "      <td>7/13/2017</td>\n",
              "      <td>0.0</td>\n",
              "      <td>1.0</td>\n",
              "    </tr>\n",
              "    <tr>\n",
              "      <th>29</th>\n",
              "      <td>Tr-30</td>\n",
              "      <td>6/4/2015</td>\n",
              "      <td>0.0</td>\n",
              "      <td>0.0</td>\n",
              "      <td>0.0</td>\n",
              "      <td>6/4/2015</td>\n",
              "      <td>0.0</td>\n",
              "      <td>0.0</td>\n",
              "    </tr>\n",
              "  </tbody>\n",
              "</table>\n",
              "</div>"
            ],
            "text/plain": [
              "   Complaint-ID Date-received  Transaction-Type  Complaint-reason  \\\n",
              "0          Tr-1    11/11/2015               0.0               0.0   \n",
              "1          Tr-2      7/7/2015               0.0               0.0   \n",
              "2          Tr-3      5/7/2015               1.0               0.0   \n",
              "3          Tr-4    11/12/2016               0.0               0.0   \n",
              "4          Tr-5     9/29/2016               0.0               0.0   \n",
              "5          Tr-6      8/2/2016               0.0               0.0   \n",
              "6          Tr-7     3/26/2017               0.0               0.0   \n",
              "7          Tr-8    10/15/2016               1.0               0.0   \n",
              "8          Tr-9     1/18/2016               0.0               0.0   \n",
              "9         Tr-10     8/17/2015               0.0               0.0   \n",
              "10        Tr-11     1/10/2016               0.0               0.0   \n",
              "11        Tr-12      3/5/2016               0.0               0.0   \n",
              "12        Tr-13     1/29/2016               0.0               0.0   \n",
              "13        Tr-14     9/24/2015               0.0               0.0   \n",
              "14        Tr-15    12/28/2016               0.0               0.0   \n",
              "15        Tr-16     8/17/2017               0.0               0.0   \n",
              "16        Tr-17      5/2/2017               0.0               0.0   \n",
              "17        Tr-18     9/29/2016               0.0               0.0   \n",
              "18        Tr-19      3/2/2017               0.0               0.0   \n",
              "19        Tr-20     8/31/2016               0.0               0.0   \n",
              "20        Tr-21     2/18/2016               0.0               0.0   \n",
              "21        Tr-22      9/8/2017               0.0               0.0   \n",
              "22        Tr-23     4/28/2016               0.0               0.0   \n",
              "23        Tr-24     5/19/2016               0.0               0.0   \n",
              "24        Tr-25     3/10/2017               0.0               0.0   \n",
              "25        Tr-26     6/22/2017               0.0               0.0   \n",
              "26        Tr-27     1/31/2016               1.0               0.0   \n",
              "27        Tr-28     2/18/2016               0.0               0.0   \n",
              "28        Tr-29     7/13/2017               0.0               0.0   \n",
              "29        Tr-30      6/4/2015               0.0               0.0   \n",
              "\n",
              "    Company-response Date-sent-to-company  Complaint-Status  Consumer-disputes  \n",
              "0                0.0           11/11/2015               0.0                1.0  \n",
              "1                0.0             7/7/2015               0.0                0.0  \n",
              "2                0.0             5/7/2015               0.0                0.0  \n",
              "3                0.0           11/12/2016               0.0                0.0  \n",
              "4                0.0            9/29/2016               0.0                0.0  \n",
              "5                0.0             8/3/2016               0.0                0.0  \n",
              "6                0.0            3/26/2017               0.0                0.0  \n",
              "7                0.0           10/15/2016               0.0                0.0  \n",
              "8                0.0            1/18/2016               0.0                0.0  \n",
              "9                0.0            8/17/2015               0.0                0.0  \n",
              "10               0.0            1/15/2016               0.0                0.0  \n",
              "11               0.0             3/5/2016               0.0                0.0  \n",
              "12               0.0            1/29/2016               0.0                0.0  \n",
              "13               0.0            9/24/2015               0.0                0.0  \n",
              "14               0.0           12/28/2016               1.0                0.0  \n",
              "15               0.0            8/17/2017               0.0                1.0  \n",
              "16               0.0             5/2/2017               0.0                1.0  \n",
              "17               0.0            9/29/2016               0.0                0.0  \n",
              "18               0.0             3/2/2017               0.0                0.0  \n",
              "19               0.0             9/7/2016               0.0                0.0  \n",
              "20               0.0            2/18/2016               0.0                0.0  \n",
              "21               0.0             9/8/2017               0.0                1.0  \n",
              "22               0.0            4/28/2016               0.0                0.0  \n",
              "23               0.0            5/19/2016               0.0                0.0  \n",
              "24               0.0            3/10/2017               0.0                0.0  \n",
              "25               0.0            6/22/2017               0.0                1.0  \n",
              "26               0.0            1/31/2016               0.0                0.0  \n",
              "27               0.0            2/18/2016               0.0                0.0  \n",
              "28               0.0            7/13/2017               0.0                1.0  \n",
              "29               0.0             6/4/2015               0.0                0.0  "
            ]
          },
          "metadata": {
            "tags": []
          },
          "execution_count": 230
        }
      ]
    },
    {
      "metadata": {
        "id": "SlSEs2w8bbrR",
        "colab_type": "code",
        "colab": {}
      },
      "cell_type": "code",
      "source": [
        "cat_train_data.drop('Date-received',axis=1,inplace=True)\n",
        "cat_train_data.drop('Date-sent-to-company',axis=1,inplace=True)"
      ],
      "execution_count": 0,
      "outputs": []
    },
    {
      "metadata": {
        "id": "eH26dukDbmcg",
        "colab_type": "code",
        "outputId": "5ceb01a5-c8ea-4f3e-c14b-36dbfaf734ee",
        "colab": {
          "base_uri": "https://localhost:8080/",
          "height": 197
        }
      },
      "cell_type": "code",
      "source": [
        "cat_train_data.corr()"
      ],
      "execution_count": 0,
      "outputs": [
        {
          "output_type": "execute_result",
          "data": {
            "text/html": [
              "<div>\n",
              "<style scoped>\n",
              "    .dataframe tbody tr th:only-of-type {\n",
              "        vertical-align: middle;\n",
              "    }\n",
              "\n",
              "    .dataframe tbody tr th {\n",
              "        vertical-align: top;\n",
              "    }\n",
              "\n",
              "    .dataframe thead th {\n",
              "        text-align: right;\n",
              "    }\n",
              "</style>\n",
              "<table border=\"1\" class=\"dataframe\">\n",
              "  <thead>\n",
              "    <tr style=\"text-align: right;\">\n",
              "      <th></th>\n",
              "      <th>Transaction-Type</th>\n",
              "      <th>Complaint-reason</th>\n",
              "      <th>Company-response</th>\n",
              "      <th>Complaint-Status</th>\n",
              "      <th>Consumer-disputes</th>\n",
              "    </tr>\n",
              "  </thead>\n",
              "  <tbody>\n",
              "    <tr>\n",
              "      <th>Transaction-Type</th>\n",
              "      <td>1.000000</td>\n",
              "      <td>-0.018411</td>\n",
              "      <td>-0.022814</td>\n",
              "      <td>0.016778</td>\n",
              "      <td>-0.132901</td>\n",
              "    </tr>\n",
              "    <tr>\n",
              "      <th>Complaint-reason</th>\n",
              "      <td>-0.018411</td>\n",
              "      <td>1.000000</td>\n",
              "      <td>-0.005386</td>\n",
              "      <td>-0.008897</td>\n",
              "      <td>-0.029988</td>\n",
              "    </tr>\n",
              "    <tr>\n",
              "      <th>Company-response</th>\n",
              "      <td>-0.022814</td>\n",
              "      <td>-0.005386</td>\n",
              "      <td>1.000000</td>\n",
              "      <td>0.009028</td>\n",
              "      <td>-0.012660</td>\n",
              "    </tr>\n",
              "    <tr>\n",
              "      <th>Complaint-Status</th>\n",
              "      <td>0.016778</td>\n",
              "      <td>-0.008897</td>\n",
              "      <td>0.009028</td>\n",
              "      <td>1.000000</td>\n",
              "      <td>-0.064223</td>\n",
              "    </tr>\n",
              "    <tr>\n",
              "      <th>Consumer-disputes</th>\n",
              "      <td>-0.132901</td>\n",
              "      <td>-0.029988</td>\n",
              "      <td>-0.012660</td>\n",
              "      <td>-0.064223</td>\n",
              "      <td>1.000000</td>\n",
              "    </tr>\n",
              "  </tbody>\n",
              "</table>\n",
              "</div>"
            ],
            "text/plain": [
              "                   Transaction-Type  Complaint-reason  Company-response  \\\n",
              "Transaction-Type           1.000000         -0.018411         -0.022814   \n",
              "Complaint-reason          -0.018411          1.000000         -0.005386   \n",
              "Company-response          -0.022814         -0.005386          1.000000   \n",
              "Complaint-Status           0.016778         -0.008897          0.009028   \n",
              "Consumer-disputes         -0.132901         -0.029988         -0.012660   \n",
              "\n",
              "                   Complaint-Status  Consumer-disputes  \n",
              "Transaction-Type           0.016778          -0.132901  \n",
              "Complaint-reason          -0.008897          -0.029988  \n",
              "Company-response           0.009028          -0.012660  \n",
              "Complaint-Status           1.000000          -0.064223  \n",
              "Consumer-disputes         -0.064223           1.000000  "
            ]
          },
          "metadata": {
            "tags": []
          },
          "execution_count": 151
        }
      ]
    },
    {
      "metadata": {
        "id": "1K7CD7lSb9qp",
        "colab_type": "code",
        "colab": {}
      },
      "cell_type": "code",
      "source": [
        "import matplotlib.pyplot as plt\n",
        "import seaborn as sns\n",
        "plt.subplots(figsize = (15,8))\n",
        "sns.heatmap(cat_train_data.corr(), annot=True,cmap=\"coolwarm\")\n",
        "plt.title(\"Correlations Among Features\", fontsize = 20);"
      ],
      "execution_count": 0,
      "outputs": []
    },
    {
      "metadata": {
        "id": "bRoY1qNOcGrc",
        "colab_type": "code",
        "outputId": "f6ae4ff5-958d-44ac-cb75-71b3ca5e4813",
        "colab": {
          "base_uri": "https://localhost:8080/",
          "height": 227
        }
      },
      "cell_type": "code",
      "source": [
        "cat_train_data.head()"
      ],
      "execution_count": 0,
      "outputs": [
        {
          "output_type": "execute_result",
          "data": {
            "text/html": [
              "<div>\n",
              "<style scoped>\n",
              "    .dataframe tbody tr th:only-of-type {\n",
              "        vertical-align: middle;\n",
              "    }\n",
              "\n",
              "    .dataframe tbody tr th {\n",
              "        vertical-align: top;\n",
              "    }\n",
              "\n",
              "    .dataframe thead th {\n",
              "        text-align: right;\n",
              "    }\n",
              "</style>\n",
              "<table border=\"1\" class=\"dataframe\">\n",
              "  <thead>\n",
              "    <tr style=\"text-align: right;\">\n",
              "      <th></th>\n",
              "      <th>Transaction-Type</th>\n",
              "      <th>Complaint-reason</th>\n",
              "      <th>Company-response</th>\n",
              "      <th>Complaint-Status</th>\n",
              "      <th>Consumer-disputes</th>\n",
              "    </tr>\n",
              "    <tr>\n",
              "      <th>Complaint-ID</th>\n",
              "      <th></th>\n",
              "      <th></th>\n",
              "      <th></th>\n",
              "      <th></th>\n",
              "      <th></th>\n",
              "    </tr>\n",
              "  </thead>\n",
              "  <tbody>\n",
              "    <tr>\n",
              "      <th>Tr-1</th>\n",
              "      <td>0.0</td>\n",
              "      <td>0.0</td>\n",
              "      <td>0.0</td>\n",
              "      <td>0.0</td>\n",
              "      <td>1.0</td>\n",
              "    </tr>\n",
              "    <tr>\n",
              "      <th>Tr-2</th>\n",
              "      <td>0.0</td>\n",
              "      <td>0.0</td>\n",
              "      <td>0.0</td>\n",
              "      <td>0.0</td>\n",
              "      <td>0.0</td>\n",
              "    </tr>\n",
              "    <tr>\n",
              "      <th>Tr-3</th>\n",
              "      <td>1.0</td>\n",
              "      <td>0.0</td>\n",
              "      <td>0.0</td>\n",
              "      <td>0.0</td>\n",
              "      <td>0.0</td>\n",
              "    </tr>\n",
              "    <tr>\n",
              "      <th>Tr-4</th>\n",
              "      <td>0.0</td>\n",
              "      <td>0.0</td>\n",
              "      <td>0.0</td>\n",
              "      <td>0.0</td>\n",
              "      <td>0.0</td>\n",
              "    </tr>\n",
              "    <tr>\n",
              "      <th>Tr-5</th>\n",
              "      <td>0.0</td>\n",
              "      <td>0.0</td>\n",
              "      <td>0.0</td>\n",
              "      <td>0.0</td>\n",
              "      <td>0.0</td>\n",
              "    </tr>\n",
              "  </tbody>\n",
              "</table>\n",
              "</div>"
            ],
            "text/plain": [
              "              Transaction-Type  Complaint-reason  Company-response  \\\n",
              "Complaint-ID                                                         \n",
              "Tr-1                       0.0               0.0               0.0   \n",
              "Tr-2                       0.0               0.0               0.0   \n",
              "Tr-3                       1.0               0.0               0.0   \n",
              "Tr-4                       0.0               0.0               0.0   \n",
              "Tr-5                       0.0               0.0               0.0   \n",
              "\n",
              "              Complaint-Status  Consumer-disputes  \n",
              "Complaint-ID                                       \n",
              "Tr-1                       0.0                1.0  \n",
              "Tr-2                       0.0                0.0  \n",
              "Tr-3                       0.0                0.0  \n",
              "Tr-4                       0.0                0.0  \n",
              "Tr-5                       0.0                0.0  "
            ]
          },
          "metadata": {
            "tags": []
          },
          "execution_count": 153
        }
      ]
    },
    {
      "metadata": {
        "id": "RrH7Y12BegA1",
        "colab_type": "code",
        "outputId": "112d29d4-f7e2-4712-9c84-09f658836d30",
        "colab": {
          "base_uri": "https://localhost:8080/",
          "height": 297
        }
      },
      "cell_type": "code",
      "source": [
        "from zipfile import ZipFile\n",
        "zip_file = ZipFile('/content/sg-complaint.zip')\n",
        "test_data=pd.read_csv(zip_file.open('test.csv'))\n",
        "test_data.head()"
      ],
      "execution_count": 0,
      "outputs": [
        {
          "output_type": "execute_result",
          "data": {
            "text/html": [
              "<div>\n",
              "<style scoped>\n",
              "    .dataframe tbody tr th:only-of-type {\n",
              "        vertical-align: middle;\n",
              "    }\n",
              "\n",
              "    .dataframe tbody tr th {\n",
              "        vertical-align: top;\n",
              "    }\n",
              "\n",
              "    .dataframe thead th {\n",
              "        text-align: right;\n",
              "    }\n",
              "</style>\n",
              "<table border=\"1\" class=\"dataframe\">\n",
              "  <thead>\n",
              "    <tr style=\"text-align: right;\">\n",
              "      <th></th>\n",
              "      <th>Complaint-ID</th>\n",
              "      <th>Date-received</th>\n",
              "      <th>Transaction-Type</th>\n",
              "      <th>Complaint-reason</th>\n",
              "      <th>Company-response</th>\n",
              "      <th>Date-sent-to-company</th>\n",
              "      <th>Consumer-disputes</th>\n",
              "      <th>Consumer-complaint-summary</th>\n",
              "    </tr>\n",
              "  </thead>\n",
              "  <tbody>\n",
              "    <tr>\n",
              "      <th>0</th>\n",
              "      <td>Te-1</td>\n",
              "      <td>8/18/2016</td>\n",
              "      <td>Bank account or service</td>\n",
              "      <td>Account opening, closing, or management</td>\n",
              "      <td>Company has responded to the consumer and the ...</td>\n",
              "      <td>8/18/2016</td>\n",
              "      <td>No</td>\n",
              "      <td>XXXX / XXXX / 16 I called Citibank to open a c...</td>\n",
              "    </tr>\n",
              "    <tr>\n",
              "      <th>1</th>\n",
              "      <td>Te-2</td>\n",
              "      <td>4/18/2016</td>\n",
              "      <td>Debt collection</td>\n",
              "      <td>Communication tactics</td>\n",
              "      <td>Company believes it acted appropriately as aut...</td>\n",
              "      <td>4/20/2016</td>\n",
              "      <td>No</td>\n",
              "      <td>I'm struggling financially. I called and I off...</td>\n",
              "    </tr>\n",
              "    <tr>\n",
              "      <th>2</th>\n",
              "      <td>Te-3</td>\n",
              "      <td>3/23/2016</td>\n",
              "      <td>Credit reporting</td>\n",
              "      <td>Incorrect information on credit report</td>\n",
              "      <td>NaN</td>\n",
              "      <td>3/23/2016</td>\n",
              "      <td>No</td>\n",
              "      <td>In XXXX of 2015, an automatic payment was conf...</td>\n",
              "    </tr>\n",
              "    <tr>\n",
              "      <th>3</th>\n",
              "      <td>Te-4</td>\n",
              "      <td>6/26/2017</td>\n",
              "      <td>Student loan</td>\n",
              "      <td>Dealing with your lender or servicer</td>\n",
              "      <td>NaN</td>\n",
              "      <td>6/26/2017</td>\n",
              "      <td>NaN</td>\n",
              "      <td>I submitted a request to XXXX, which is my cur...</td>\n",
              "    </tr>\n",
              "    <tr>\n",
              "      <th>4</th>\n",
              "      <td>Te-5</td>\n",
              "      <td>5/13/2016</td>\n",
              "      <td>Credit reporting</td>\n",
              "      <td>Incorrect information on credit report</td>\n",
              "      <td>Company has responded to the consumer and the ...</td>\n",
              "      <td>5/13/2016</td>\n",
              "      <td>No</td>\n",
              "      <td>A state tax lien was filed against me XXXX / X...</td>\n",
              "    </tr>\n",
              "  </tbody>\n",
              "</table>\n",
              "</div>"
            ],
            "text/plain": [
              "  Complaint-ID Date-received         Transaction-Type  \\\n",
              "0         Te-1     8/18/2016  Bank account or service   \n",
              "1         Te-2     4/18/2016          Debt collection   \n",
              "2         Te-3     3/23/2016         Credit reporting   \n",
              "3         Te-4     6/26/2017             Student loan   \n",
              "4         Te-5     5/13/2016         Credit reporting   \n",
              "\n",
              "                          Complaint-reason  \\\n",
              "0  Account opening, closing, or management   \n",
              "1                    Communication tactics   \n",
              "2   Incorrect information on credit report   \n",
              "3     Dealing with your lender or servicer   \n",
              "4   Incorrect information on credit report   \n",
              "\n",
              "                                    Company-response Date-sent-to-company  \\\n",
              "0  Company has responded to the consumer and the ...            8/18/2016   \n",
              "1  Company believes it acted appropriately as aut...            4/20/2016   \n",
              "2                                                NaN            3/23/2016   \n",
              "3                                                NaN            6/26/2017   \n",
              "4  Company has responded to the consumer and the ...            5/13/2016   \n",
              "\n",
              "  Consumer-disputes                         Consumer-complaint-summary  \n",
              "0                No  XXXX / XXXX / 16 I called Citibank to open a c...  \n",
              "1                No  I'm struggling financially. I called and I off...  \n",
              "2                No  In XXXX of 2015, an automatic payment was conf...  \n",
              "3               NaN  I submitted a request to XXXX, which is my cur...  \n",
              "4                No  A state tax lien was filed against me XXXX / X...  "
            ]
          },
          "metadata": {
            "tags": []
          },
          "execution_count": 161
        }
      ]
    },
    {
      "metadata": {
        "id": "GGVVf6JVfa1I",
        "colab_type": "code",
        "colab": {}
      },
      "cell_type": "code",
      "source": [
        "test_data.drop('Consumer-complaint-summary',axis=1,inplace=True)"
      ],
      "execution_count": 0,
      "outputs": []
    },
    {
      "metadata": {
        "id": "i0lR8rZBfzxg",
        "colab_type": "code",
        "outputId": "fa45c3ea-6a7f-41d5-d3cb-2a0882697388",
        "colab": {
          "base_uri": "https://localhost:8080/",
          "height": 158
        }
      },
      "cell_type": "code",
      "source": [
        "test_data.isnull().sum()"
      ],
      "execution_count": 0,
      "outputs": [
        {
          "output_type": "execute_result",
          "data": {
            "text/plain": [
              "Complaint-ID               0\n",
              "Date-received              0\n",
              "Transaction-Type           0\n",
              "Complaint-reason           0\n",
              "Company-response        9701\n",
              "Date-sent-to-company       0\n",
              "Consumer-disputes       3304\n",
              "dtype: int64"
            ]
          },
          "metadata": {
            "tags": []
          },
          "execution_count": 163
        }
      ]
    },
    {
      "metadata": {
        "id": "xX3xnATBf9Xw",
        "colab_type": "code",
        "outputId": "50580045-a025-4b75-a9c0-1d013f8bae3a",
        "colab": {
          "base_uri": "https://localhost:8080/",
          "height": 354
        }
      },
      "cell_type": "code",
      "source": [
        "tt = test_data['Transaction-Type'].value_counts()\n",
        "(tt)"
      ],
      "execution_count": 0,
      "outputs": [
        {
          "output_type": "execute_result",
          "data": {
            "text/plain": [
              "Debt collection                                                                 4539\n",
              "Mortgage                                                                        3324\n",
              "Credit reporting                                                                2986\n",
              "Credit card                                                                     1752\n",
              "Bank account or service                                                         1385\n",
              "Credit reporting, credit repair services, or other personal consumer reports    1362\n",
              "Student loan                                                                    1188\n",
              "Consumer Loan                                                                    860\n",
              "Credit card or prepaid card                                                      293\n",
              "Checking or savings account                                                      196\n",
              "Payday loan                                                                      169\n",
              "Prepaid card                                                                     127\n",
              "Money transfers                                                                  121\n",
              "Vehicle loan or lease                                                             88\n",
              "Payday loan, title loan, or personal loan                                         64\n",
              "Money transfer, virtual currency, or money service                                57\n",
              "Other financial service                                                           31\n",
              "Virtual currency                                                                   1\n",
              "Name: Transaction-Type, dtype: int64"
            ]
          },
          "metadata": {
            "tags": []
          },
          "execution_count": 164
        }
      ]
    },
    {
      "metadata": {
        "id": "vro_fFPsgxyK",
        "colab_type": "code",
        "outputId": "2a6f51fd-f23f-4052-e8b5-1689162ff2be",
        "colab": {
          "base_uri": "https://localhost:8080/",
          "height": 34
        }
      },
      "cell_type": "code",
      "source": [
        "tt_test = test_data[['Transaction-Type']].copy()\n",
        "tt_test.ndim"
      ],
      "execution_count": 0,
      "outputs": [
        {
          "output_type": "execute_result",
          "data": {
            "text/plain": [
              "2"
            ]
          },
          "metadata": {
            "tags": []
          },
          "execution_count": 165
        }
      ]
    },
    {
      "metadata": {
        "id": "5HkRIK1YhR_4",
        "colab_type": "code",
        "outputId": "62751373-eafb-4d19-864c-a90cc2612429",
        "colab": {
          "base_uri": "https://localhost:8080/",
          "height": 34
        }
      },
      "cell_type": "code",
      "source": [
        "tt_test_transformed = ohe.transform(tt_test)\n",
        "tt_test_transformed.shape"
      ],
      "execution_count": 0,
      "outputs": [
        {
          "output_type": "execute_result",
          "data": {
            "text/plain": [
              "(18543, 18)"
            ]
          },
          "metadata": {
            "tags": []
          },
          "execution_count": 166
        }
      ]
    },
    {
      "metadata": {
        "id": "s09KjkYwhhSp",
        "colab_type": "code",
        "outputId": "c6fbc0ed-8246-4d68-b969-ffdba0fb960d",
        "colab": {
          "base_uri": "https://localhost:8080/",
          "height": 34
        }
      },
      "cell_type": "code",
      "source": [
        "cr = test_data['Company-response'].value_counts()\n",
        "cr\n",
        "len(cr)"
      ],
      "execution_count": 0,
      "outputs": [
        {
          "output_type": "execute_result",
          "data": {
            "text/plain": [
              "10"
            ]
          },
          "metadata": {
            "tags": []
          },
          "execution_count": 167
        }
      ]
    },
    {
      "metadata": {
        "id": "lhzuF12cjKKq",
        "colab_type": "code",
        "outputId": "a57d5d0b-3995-49a6-a2d8-01d169239118",
        "colab": {
          "base_uri": "https://localhost:8080/",
          "height": 34
        }
      },
      "cell_type": "code",
      "source": [
        "cr_test = test_data[['Company-response']].copy()\n",
        "cr_test.ndim"
      ],
      "execution_count": 0,
      "outputs": [
        {
          "output_type": "execute_result",
          "data": {
            "text/plain": [
              "2"
            ]
          },
          "metadata": {
            "tags": []
          },
          "execution_count": 170
        }
      ]
    },
    {
      "metadata": {
        "id": "GrgefkcsjQoZ",
        "colab_type": "code",
        "outputId": "d6a0bc0e-550e-4c27-d65e-6372d82bed59",
        "colab": {
          "base_uri": "https://localhost:8080/",
          "height": 137
        }
      },
      "cell_type": "code",
      "source": [
        "import numpy as np\n",
        "cr_test = cr_test.copy()\n",
        "cr_test.iloc[0, 0] = np.nan\n",
        "cr_test.head(3)"
      ],
      "execution_count": 0,
      "outputs": [
        {
          "output_type": "execute_result",
          "data": {
            "text/html": [
              "<div>\n",
              "<style scoped>\n",
              "    .dataframe tbody tr th:only-of-type {\n",
              "        vertical-align: middle;\n",
              "    }\n",
              "\n",
              "    .dataframe tbody tr th {\n",
              "        vertical-align: top;\n",
              "    }\n",
              "\n",
              "    .dataframe thead th {\n",
              "        text-align: right;\n",
              "    }\n",
              "</style>\n",
              "<table border=\"1\" class=\"dataframe\">\n",
              "  <thead>\n",
              "    <tr style=\"text-align: right;\">\n",
              "      <th></th>\n",
              "      <th>Company-response</th>\n",
              "    </tr>\n",
              "  </thead>\n",
              "  <tbody>\n",
              "    <tr>\n",
              "      <th>0</th>\n",
              "      <td>NaN</td>\n",
              "    </tr>\n",
              "    <tr>\n",
              "      <th>1</th>\n",
              "      <td>Company believes it acted appropriately as aut...</td>\n",
              "    </tr>\n",
              "    <tr>\n",
              "      <th>2</th>\n",
              "      <td>NaN</td>\n",
              "    </tr>\n",
              "  </tbody>\n",
              "</table>\n",
              "</div>"
            ],
            "text/plain": [
              "                                    Company-response\n",
              "0                                                NaN\n",
              "1  Company believes it acted appropriately as aut...\n",
              "2                                                NaN"
            ]
          },
          "metadata": {
            "tags": []
          },
          "execution_count": 171
        }
      ]
    },
    {
      "metadata": {
        "id": "w_8AYtt5jg6g",
        "colab_type": "code",
        "outputId": "f0e3378a-29c4-4cb6-fcb1-c92e2790fa46",
        "colab": {
          "base_uri": "https://localhost:8080/",
          "height": 158
        }
      },
      "cell_type": "code",
      "source": [
        "\n",
        "\n",
        "from sklearn.impute import SimpleImputer\n",
        "si = SimpleImputer(strategy='constant', fill_value='MISSING')\n",
        "cr_test_imputed = si.fit_transform(cr_test)\n",
        "cr_test_imputed"
      ],
      "execution_count": 0,
      "outputs": [
        {
          "output_type": "execute_result",
          "data": {
            "text/plain": [
              "array([['MISSING'],\n",
              "       ['Company believes it acted appropriately as authorized by contract or law'],\n",
              "       ['MISSING'],\n",
              "       ...,\n",
              "       ['MISSING'],\n",
              "       ['MISSING'],\n",
              "       ['Company believes it acted appropriately as authorized by contract or law']],\n",
              "      dtype=object)"
            ]
          },
          "metadata": {
            "tags": []
          },
          "execution_count": 173
        }
      ]
    },
    {
      "metadata": {
        "id": "OQ2HRiSxkIJr",
        "colab_type": "code",
        "outputId": "fbdb14ef-897a-46ce-9d2b-7d1231f2900f",
        "colab": {
          "base_uri": "https://localhost:8080/",
          "height": 34
        }
      },
      "cell_type": "code",
      "source": [
        "cr_test_transformed = ohe.fit_transform(cr_test_imputed)\n",
        "cr_test_transformed.shape"
      ],
      "execution_count": 0,
      "outputs": [
        {
          "output_type": "execute_result",
          "data": {
            "text/plain": [
              "(18543, 11)"
            ]
          },
          "metadata": {
            "tags": []
          },
          "execution_count": 174
        }
      ]
    },
    {
      "metadata": {
        "id": "wS2fA8rzkai3",
        "colab_type": "code",
        "outputId": "790d1f0b-ab93-48e0-e4a3-95cddf375442",
        "colab": {
          "base_uri": "https://localhost:8080/",
          "height": 34
        }
      },
      "cell_type": "code",
      "source": [
        "cd = test_data['Consumer-disputes'].value_counts()\n",
        "cd\n",
        "len(cd)"
      ],
      "execution_count": 0,
      "outputs": [
        {
          "output_type": "execute_result",
          "data": {
            "text/plain": [
              "2"
            ]
          },
          "metadata": {
            "tags": []
          },
          "execution_count": 175
        }
      ]
    },
    {
      "metadata": {
        "id": "ae9zKR9Ukm9k",
        "colab_type": "code",
        "outputId": "7000747a-c320-48e3-d48c-da0ab13d35cc",
        "colab": {
          "base_uri": "https://localhost:8080/",
          "height": 34
        }
      },
      "cell_type": "code",
      "source": [
        "cd_test = test_data[['Consumer-disputes']].copy()\n",
        "cd_test.ndim"
      ],
      "execution_count": 0,
      "outputs": [
        {
          "output_type": "execute_result",
          "data": {
            "text/plain": [
              "2"
            ]
          },
          "metadata": {
            "tags": []
          },
          "execution_count": 176
        }
      ]
    },
    {
      "metadata": {
        "id": "ClWuX12Lky1n",
        "colab_type": "code",
        "outputId": "86c3a7c4-1ab1-4dec-c3f4-8f38da2226db",
        "colab": {
          "base_uri": "https://localhost:8080/",
          "height": 137
        }
      },
      "cell_type": "code",
      "source": [
        "import numpy as np\n",
        "cd_test = cd_test.copy()\n",
        "cd_test.iloc[0, 0] = np.nan\n",
        "cd_test.head(3)\n"
      ],
      "execution_count": 0,
      "outputs": [
        {
          "output_type": "execute_result",
          "data": {
            "text/html": [
              "<div>\n",
              "<style scoped>\n",
              "    .dataframe tbody tr th:only-of-type {\n",
              "        vertical-align: middle;\n",
              "    }\n",
              "\n",
              "    .dataframe tbody tr th {\n",
              "        vertical-align: top;\n",
              "    }\n",
              "\n",
              "    .dataframe thead th {\n",
              "        text-align: right;\n",
              "    }\n",
              "</style>\n",
              "<table border=\"1\" class=\"dataframe\">\n",
              "  <thead>\n",
              "    <tr style=\"text-align: right;\">\n",
              "      <th></th>\n",
              "      <th>Consumer-disputes</th>\n",
              "    </tr>\n",
              "  </thead>\n",
              "  <tbody>\n",
              "    <tr>\n",
              "      <th>0</th>\n",
              "      <td>NaN</td>\n",
              "    </tr>\n",
              "    <tr>\n",
              "      <th>1</th>\n",
              "      <td>No</td>\n",
              "    </tr>\n",
              "    <tr>\n",
              "      <th>2</th>\n",
              "      <td>No</td>\n",
              "    </tr>\n",
              "  </tbody>\n",
              "</table>\n",
              "</div>"
            ],
            "text/plain": [
              "  Consumer-disputes\n",
              "0               NaN\n",
              "1                No\n",
              "2                No"
            ]
          },
          "metadata": {
            "tags": []
          },
          "execution_count": 177
        }
      ]
    },
    {
      "metadata": {
        "id": "1mkpz2Usk_kq",
        "colab_type": "code",
        "outputId": "195633d2-37cc-4346-ded0-0c5b9107b508",
        "colab": {
          "base_uri": "https://localhost:8080/",
          "height": 141
        }
      },
      "cell_type": "code",
      "source": [
        "from sklearn.impute import SimpleImputer\n",
        "si = SimpleImputer(strategy='constant', fill_value='MISSING')\n",
        "cd_test_imputed = si.fit_transform(cd_test)\n",
        "cd_test_imputed"
      ],
      "execution_count": 0,
      "outputs": [
        {
          "output_type": "execute_result",
          "data": {
            "text/plain": [
              "array([['MISSING'],\n",
              "       ['No'],\n",
              "       ['No'],\n",
              "       ...,\n",
              "       ['Yes'],\n",
              "       ['No'],\n",
              "       ['No']], dtype=object)"
            ]
          },
          "metadata": {
            "tags": []
          },
          "execution_count": 178
        }
      ]
    },
    {
      "metadata": {
        "id": "WBjF0ToglMiB",
        "colab_type": "code",
        "outputId": "634a1b43-19f4-4a43-ea14-b11dd8ea6c05",
        "colab": {
          "base_uri": "https://localhost:8080/",
          "height": 34
        }
      },
      "cell_type": "code",
      "source": [
        "cd_test_transformed = ohe.fit_transform(cd_test_imputed)\n",
        "cd_test_transformed.shape"
      ],
      "execution_count": 0,
      "outputs": [
        {
          "output_type": "execute_result",
          "data": {
            "text/plain": [
              "(18543, 3)"
            ]
          },
          "metadata": {
            "tags": []
          },
          "execution_count": 179
        }
      ]
    },
    {
      "metadata": {
        "id": "i3PzL0lzlYH7",
        "colab_type": "code",
        "outputId": "c1b84173-fe6c-415d-8c17-e3221fdb3e8a",
        "colab": {
          "base_uri": "https://localhost:8080/",
          "height": 34
        }
      },
      "cell_type": "code",
      "source": [
        "cor = test_data['Complaint-reason'].value_counts()\n",
        "cor\n",
        "len(cor)"
      ],
      "execution_count": 0,
      "outputs": [
        {
          "output_type": "execute_result",
          "data": {
            "text/plain": [
              "147"
            ]
          },
          "metadata": {
            "tags": []
          },
          "execution_count": 180
        }
      ]
    },
    {
      "metadata": {
        "id": "hLoBhMCplms0",
        "colab_type": "code",
        "outputId": "164708b9-eb3a-4ce8-e538-da795502a3df",
        "colab": {
          "base_uri": "https://localhost:8080/",
          "height": 34
        }
      },
      "cell_type": "code",
      "source": [
        "cor_test = test_data[['Complaint-reason']].copy()\n",
        "cor_test.ndim"
      ],
      "execution_count": 0,
      "outputs": [
        {
          "output_type": "execute_result",
          "data": {
            "text/plain": [
              "2"
            ]
          },
          "metadata": {
            "tags": []
          },
          "execution_count": 181
        }
      ]
    },
    {
      "metadata": {
        "id": "BL1IwrZ5lxB4",
        "colab_type": "code",
        "outputId": "60a20a84-72cc-4d46-d903-63cae730581c",
        "colab": {
          "base_uri": "https://localhost:8080/",
          "height": 141
        }
      },
      "cell_type": "code",
      "source": [
        "from sklearn.preprocessing import OneHotEncoder\n",
        "ohe = OneHotEncoder(sparse=False)\n",
        "cor_test_transformed = ohe.fit_transform(cor_test)\n",
        "cor_test_transformed"
      ],
      "execution_count": 0,
      "outputs": [
        {
          "output_type": "execute_result",
          "data": {
            "text/plain": [
              "array([[0., 1., 0., ..., 0., 0., 0.],\n",
              "       [0., 0., 0., ..., 0., 0., 0.],\n",
              "       [0., 0., 0., ..., 0., 0., 0.],\n",
              "       ...,\n",
              "       [0., 0., 0., ..., 0., 0., 0.],\n",
              "       [0., 0., 0., ..., 0., 0., 0.],\n",
              "       [0., 0., 0., ..., 0., 0., 0.]])"
            ]
          },
          "metadata": {
            "tags": []
          },
          "execution_count": 182
        }
      ]
    },
    {
      "metadata": {
        "id": "YalXLbmBmFXf",
        "colab_type": "code",
        "outputId": "f6a020e8-3fdb-4890-906d-ad3daac80bbe",
        "colab": {
          "base_uri": "https://localhost:8080/",
          "height": 947
        }
      },
      "cell_type": "code",
      "source": [
        "cat_test_data = test_data.select_dtypes(include=['object']).copy()\n",
        "cat_test_data['Company-response'] = cr_test_transformed\n",
        "cat_test_data['Transaction-Type'] = tt_test_transformed\n",
        "cat_test_data['Consumer-disputes'] = cd_test_transformed\n",
        "#cat_train_data['Complaint-Status'] = cs_train_transformed\n",
        "cat_test_data['Complaint-reason'] = cor_test_transformed\n",
        "cat_test_data.tail(30)"
      ],
      "execution_count": 0,
      "outputs": [
        {
          "output_type": "execute_result",
          "data": {
            "text/html": [
              "<div>\n",
              "<style scoped>\n",
              "    .dataframe tbody tr th:only-of-type {\n",
              "        vertical-align: middle;\n",
              "    }\n",
              "\n",
              "    .dataframe tbody tr th {\n",
              "        vertical-align: top;\n",
              "    }\n",
              "\n",
              "    .dataframe thead th {\n",
              "        text-align: right;\n",
              "    }\n",
              "</style>\n",
              "<table border=\"1\" class=\"dataframe\">\n",
              "  <thead>\n",
              "    <tr style=\"text-align: right;\">\n",
              "      <th></th>\n",
              "      <th>Complaint-ID</th>\n",
              "      <th>Date-received</th>\n",
              "      <th>Transaction-Type</th>\n",
              "      <th>Complaint-reason</th>\n",
              "      <th>Company-response</th>\n",
              "      <th>Date-sent-to-company</th>\n",
              "      <th>Consumer-disputes</th>\n",
              "    </tr>\n",
              "  </thead>\n",
              "  <tbody>\n",
              "    <tr>\n",
              "      <th>18513</th>\n",
              "      <td>Te-18514</td>\n",
              "      <td>2/28/2017</td>\n",
              "      <td>0.0</td>\n",
              "      <td>0.0</td>\n",
              "      <td>0.0</td>\n",
              "      <td>2/28/2017</td>\n",
              "      <td>0.0</td>\n",
              "    </tr>\n",
              "    <tr>\n",
              "      <th>18514</th>\n",
              "      <td>Te-18515</td>\n",
              "      <td>12/4/2015</td>\n",
              "      <td>0.0</td>\n",
              "      <td>0.0</td>\n",
              "      <td>0.0</td>\n",
              "      <td>12/9/2015</td>\n",
              "      <td>0.0</td>\n",
              "    </tr>\n",
              "    <tr>\n",
              "      <th>18515</th>\n",
              "      <td>Te-18516</td>\n",
              "      <td>1/5/2016</td>\n",
              "      <td>1.0</td>\n",
              "      <td>0.0</td>\n",
              "      <td>0.0</td>\n",
              "      <td>1/5/2016</td>\n",
              "      <td>0.0</td>\n",
              "    </tr>\n",
              "    <tr>\n",
              "      <th>18516</th>\n",
              "      <td>Te-18517</td>\n",
              "      <td>1/26/2017</td>\n",
              "      <td>1.0</td>\n",
              "      <td>0.0</td>\n",
              "      <td>0.0</td>\n",
              "      <td>1/26/2017</td>\n",
              "      <td>0.0</td>\n",
              "    </tr>\n",
              "    <tr>\n",
              "      <th>18517</th>\n",
              "      <td>Te-18518</td>\n",
              "      <td>4/5/2017</td>\n",
              "      <td>0.0</td>\n",
              "      <td>0.0</td>\n",
              "      <td>0.0</td>\n",
              "      <td>4/5/2017</td>\n",
              "      <td>0.0</td>\n",
              "    </tr>\n",
              "    <tr>\n",
              "      <th>18518</th>\n",
              "      <td>Te-18519</td>\n",
              "      <td>7/24/2017</td>\n",
              "      <td>0.0</td>\n",
              "      <td>0.0</td>\n",
              "      <td>0.0</td>\n",
              "      <td>7/24/2017</td>\n",
              "      <td>1.0</td>\n",
              "    </tr>\n",
              "    <tr>\n",
              "      <th>18519</th>\n",
              "      <td>Te-18520</td>\n",
              "      <td>5/1/2017</td>\n",
              "      <td>0.0</td>\n",
              "      <td>0.0</td>\n",
              "      <td>0.0</td>\n",
              "      <td>6/14/2017</td>\n",
              "      <td>1.0</td>\n",
              "    </tr>\n",
              "    <tr>\n",
              "      <th>18520</th>\n",
              "      <td>Te-18521</td>\n",
              "      <td>11/15/2016</td>\n",
              "      <td>0.0</td>\n",
              "      <td>0.0</td>\n",
              "      <td>0.0</td>\n",
              "      <td>11/15/2016</td>\n",
              "      <td>0.0</td>\n",
              "    </tr>\n",
              "    <tr>\n",
              "      <th>18521</th>\n",
              "      <td>Te-18522</td>\n",
              "      <td>8/6/2016</td>\n",
              "      <td>1.0</td>\n",
              "      <td>0.0</td>\n",
              "      <td>0.0</td>\n",
              "      <td>8/6/2016</td>\n",
              "      <td>0.0</td>\n",
              "    </tr>\n",
              "    <tr>\n",
              "      <th>18522</th>\n",
              "      <td>Te-18523</td>\n",
              "      <td>8/2/2016</td>\n",
              "      <td>0.0</td>\n",
              "      <td>0.0</td>\n",
              "      <td>0.0</td>\n",
              "      <td>8/2/2016</td>\n",
              "      <td>0.0</td>\n",
              "    </tr>\n",
              "    <tr>\n",
              "      <th>18523</th>\n",
              "      <td>Te-18524</td>\n",
              "      <td>11/4/2016</td>\n",
              "      <td>1.0</td>\n",
              "      <td>0.0</td>\n",
              "      <td>0.0</td>\n",
              "      <td>12/5/2016</td>\n",
              "      <td>0.0</td>\n",
              "    </tr>\n",
              "    <tr>\n",
              "      <th>18524</th>\n",
              "      <td>Te-18525</td>\n",
              "      <td>10/30/2015</td>\n",
              "      <td>0.0</td>\n",
              "      <td>0.0</td>\n",
              "      <td>0.0</td>\n",
              "      <td>10/30/2015</td>\n",
              "      <td>0.0</td>\n",
              "    </tr>\n",
              "    <tr>\n",
              "      <th>18525</th>\n",
              "      <td>Te-18526</td>\n",
              "      <td>7/1/2016</td>\n",
              "      <td>1.0</td>\n",
              "      <td>0.0</td>\n",
              "      <td>0.0</td>\n",
              "      <td>7/5/2016</td>\n",
              "      <td>0.0</td>\n",
              "    </tr>\n",
              "    <tr>\n",
              "      <th>18526</th>\n",
              "      <td>Te-18527</td>\n",
              "      <td>4/7/2016</td>\n",
              "      <td>0.0</td>\n",
              "      <td>0.0</td>\n",
              "      <td>0.0</td>\n",
              "      <td>4/8/2016</td>\n",
              "      <td>0.0</td>\n",
              "    </tr>\n",
              "    <tr>\n",
              "      <th>18527</th>\n",
              "      <td>Te-18528</td>\n",
              "      <td>6/13/2017</td>\n",
              "      <td>0.0</td>\n",
              "      <td>0.0</td>\n",
              "      <td>0.0</td>\n",
              "      <td>6/13/2017</td>\n",
              "      <td>1.0</td>\n",
              "    </tr>\n",
              "    <tr>\n",
              "      <th>18528</th>\n",
              "      <td>Te-18529</td>\n",
              "      <td>5/31/2017</td>\n",
              "      <td>0.0</td>\n",
              "      <td>0.0</td>\n",
              "      <td>0.0</td>\n",
              "      <td>6/1/2017</td>\n",
              "      <td>1.0</td>\n",
              "    </tr>\n",
              "    <tr>\n",
              "      <th>18529</th>\n",
              "      <td>Te-18530</td>\n",
              "      <td>6/23/2015</td>\n",
              "      <td>0.0</td>\n",
              "      <td>0.0</td>\n",
              "      <td>0.0</td>\n",
              "      <td>6/26/2015</td>\n",
              "      <td>0.0</td>\n",
              "    </tr>\n",
              "    <tr>\n",
              "      <th>18530</th>\n",
              "      <td>Te-18531</td>\n",
              "      <td>12/20/2016</td>\n",
              "      <td>0.0</td>\n",
              "      <td>0.0</td>\n",
              "      <td>0.0</td>\n",
              "      <td>12/20/2016</td>\n",
              "      <td>0.0</td>\n",
              "    </tr>\n",
              "    <tr>\n",
              "      <th>18531</th>\n",
              "      <td>Te-18532</td>\n",
              "      <td>10/31/2016</td>\n",
              "      <td>0.0</td>\n",
              "      <td>0.0</td>\n",
              "      <td>0.0</td>\n",
              "      <td>10/31/2016</td>\n",
              "      <td>0.0</td>\n",
              "    </tr>\n",
              "    <tr>\n",
              "      <th>18532</th>\n",
              "      <td>Te-18533</td>\n",
              "      <td>9/8/2016</td>\n",
              "      <td>1.0</td>\n",
              "      <td>0.0</td>\n",
              "      <td>0.0</td>\n",
              "      <td>9/8/2016</td>\n",
              "      <td>0.0</td>\n",
              "    </tr>\n",
              "    <tr>\n",
              "      <th>18533</th>\n",
              "      <td>Te-18534</td>\n",
              "      <td>5/8/2017</td>\n",
              "      <td>0.0</td>\n",
              "      <td>0.0</td>\n",
              "      <td>0.0</td>\n",
              "      <td>5/8/2017</td>\n",
              "      <td>1.0</td>\n",
              "    </tr>\n",
              "    <tr>\n",
              "      <th>18534</th>\n",
              "      <td>Te-18535</td>\n",
              "      <td>10/20/2016</td>\n",
              "      <td>0.0</td>\n",
              "      <td>0.0</td>\n",
              "      <td>0.0</td>\n",
              "      <td>10/20/2016</td>\n",
              "      <td>0.0</td>\n",
              "    </tr>\n",
              "    <tr>\n",
              "      <th>18535</th>\n",
              "      <td>Te-18536</td>\n",
              "      <td>10/20/2016</td>\n",
              "      <td>0.0</td>\n",
              "      <td>0.0</td>\n",
              "      <td>0.0</td>\n",
              "      <td>10/24/2016</td>\n",
              "      <td>0.0</td>\n",
              "    </tr>\n",
              "    <tr>\n",
              "      <th>18536</th>\n",
              "      <td>Te-18537</td>\n",
              "      <td>1/14/2017</td>\n",
              "      <td>0.0</td>\n",
              "      <td>0.0</td>\n",
              "      <td>0.0</td>\n",
              "      <td>1/14/2017</td>\n",
              "      <td>0.0</td>\n",
              "    </tr>\n",
              "    <tr>\n",
              "      <th>18537</th>\n",
              "      <td>Te-18538</td>\n",
              "      <td>12/12/2015</td>\n",
              "      <td>0.0</td>\n",
              "      <td>0.0</td>\n",
              "      <td>0.0</td>\n",
              "      <td>12/12/2015</td>\n",
              "      <td>0.0</td>\n",
              "    </tr>\n",
              "    <tr>\n",
              "      <th>18538</th>\n",
              "      <td>Te-18539</td>\n",
              "      <td>11/24/2015</td>\n",
              "      <td>0.0</td>\n",
              "      <td>0.0</td>\n",
              "      <td>0.0</td>\n",
              "      <td>11/24/2015</td>\n",
              "      <td>0.0</td>\n",
              "    </tr>\n",
              "    <tr>\n",
              "      <th>18539</th>\n",
              "      <td>Te-18540</td>\n",
              "      <td>9/28/2015</td>\n",
              "      <td>0.0</td>\n",
              "      <td>0.0</td>\n",
              "      <td>0.0</td>\n",
              "      <td>9/30/2015</td>\n",
              "      <td>0.0</td>\n",
              "    </tr>\n",
              "    <tr>\n",
              "      <th>18540</th>\n",
              "      <td>Te-18541</td>\n",
              "      <td>3/11/2016</td>\n",
              "      <td>0.0</td>\n",
              "      <td>0.0</td>\n",
              "      <td>0.0</td>\n",
              "      <td>3/11/2016</td>\n",
              "      <td>0.0</td>\n",
              "    </tr>\n",
              "    <tr>\n",
              "      <th>18541</th>\n",
              "      <td>Te-18542</td>\n",
              "      <td>8/19/2016</td>\n",
              "      <td>0.0</td>\n",
              "      <td>0.0</td>\n",
              "      <td>0.0</td>\n",
              "      <td>8/19/2016</td>\n",
              "      <td>0.0</td>\n",
              "    </tr>\n",
              "    <tr>\n",
              "      <th>18542</th>\n",
              "      <td>Te-18543</td>\n",
              "      <td>8/8/2016</td>\n",
              "      <td>0.0</td>\n",
              "      <td>0.0</td>\n",
              "      <td>0.0</td>\n",
              "      <td>8/8/2016</td>\n",
              "      <td>0.0</td>\n",
              "    </tr>\n",
              "  </tbody>\n",
              "</table>\n",
              "</div>"
            ],
            "text/plain": [
              "      Complaint-ID Date-received  Transaction-Type  Complaint-reason  \\\n",
              "18513     Te-18514     2/28/2017               0.0               0.0   \n",
              "18514     Te-18515     12/4/2015               0.0               0.0   \n",
              "18515     Te-18516      1/5/2016               1.0               0.0   \n",
              "18516     Te-18517     1/26/2017               1.0               0.0   \n",
              "18517     Te-18518      4/5/2017               0.0               0.0   \n",
              "18518     Te-18519     7/24/2017               0.0               0.0   \n",
              "18519     Te-18520      5/1/2017               0.0               0.0   \n",
              "18520     Te-18521    11/15/2016               0.0               0.0   \n",
              "18521     Te-18522      8/6/2016               1.0               0.0   \n",
              "18522     Te-18523      8/2/2016               0.0               0.0   \n",
              "18523     Te-18524     11/4/2016               1.0               0.0   \n",
              "18524     Te-18525    10/30/2015               0.0               0.0   \n",
              "18525     Te-18526      7/1/2016               1.0               0.0   \n",
              "18526     Te-18527      4/7/2016               0.0               0.0   \n",
              "18527     Te-18528     6/13/2017               0.0               0.0   \n",
              "18528     Te-18529     5/31/2017               0.0               0.0   \n",
              "18529     Te-18530     6/23/2015               0.0               0.0   \n",
              "18530     Te-18531    12/20/2016               0.0               0.0   \n",
              "18531     Te-18532    10/31/2016               0.0               0.0   \n",
              "18532     Te-18533      9/8/2016               1.0               0.0   \n",
              "18533     Te-18534      5/8/2017               0.0               0.0   \n",
              "18534     Te-18535    10/20/2016               0.0               0.0   \n",
              "18535     Te-18536    10/20/2016               0.0               0.0   \n",
              "18536     Te-18537     1/14/2017               0.0               0.0   \n",
              "18537     Te-18538    12/12/2015               0.0               0.0   \n",
              "18538     Te-18539    11/24/2015               0.0               0.0   \n",
              "18539     Te-18540     9/28/2015               0.0               0.0   \n",
              "18540     Te-18541     3/11/2016               0.0               0.0   \n",
              "18541     Te-18542     8/19/2016               0.0               0.0   \n",
              "18542     Te-18543      8/8/2016               0.0               0.0   \n",
              "\n",
              "       Company-response Date-sent-to-company  Consumer-disputes  \n",
              "18513               0.0            2/28/2017                0.0  \n",
              "18514               0.0            12/9/2015                0.0  \n",
              "18515               0.0             1/5/2016                0.0  \n",
              "18516               0.0            1/26/2017                0.0  \n",
              "18517               0.0             4/5/2017                0.0  \n",
              "18518               0.0            7/24/2017                1.0  \n",
              "18519               0.0            6/14/2017                1.0  \n",
              "18520               0.0           11/15/2016                0.0  \n",
              "18521               0.0             8/6/2016                0.0  \n",
              "18522               0.0             8/2/2016                0.0  \n",
              "18523               0.0            12/5/2016                0.0  \n",
              "18524               0.0           10/30/2015                0.0  \n",
              "18525               0.0             7/5/2016                0.0  \n",
              "18526               0.0             4/8/2016                0.0  \n",
              "18527               0.0            6/13/2017                1.0  \n",
              "18528               0.0             6/1/2017                1.0  \n",
              "18529               0.0            6/26/2015                0.0  \n",
              "18530               0.0           12/20/2016                0.0  \n",
              "18531               0.0           10/31/2016                0.0  \n",
              "18532               0.0             9/8/2016                0.0  \n",
              "18533               0.0             5/8/2017                1.0  \n",
              "18534               0.0           10/20/2016                0.0  \n",
              "18535               0.0           10/24/2016                0.0  \n",
              "18536               0.0            1/14/2017                0.0  \n",
              "18537               0.0           12/12/2015                0.0  \n",
              "18538               0.0           11/24/2015                0.0  \n",
              "18539               0.0            9/30/2015                0.0  \n",
              "18540               0.0            3/11/2016                0.0  \n",
              "18541               0.0            8/19/2016                0.0  \n",
              "18542               0.0             8/8/2016                0.0  "
            ]
          },
          "metadata": {
            "tags": []
          },
          "execution_count": 183
        }
      ]
    },
    {
      "metadata": {
        "id": "1Z2EIegFmWLc",
        "colab_type": "code",
        "colab": {}
      },
      "cell_type": "code",
      "source": [
        "cat_test_data.drop('Date-received',axis=1,inplace=True)\n",
        "cat_test_data.drop('Date-sent-to-company',axis=1,inplace=True)"
      ],
      "execution_count": 0,
      "outputs": []
    },
    {
      "metadata": {
        "id": "qEUs3z0omp6A",
        "colab_type": "code",
        "colab": {}
      },
      "cell_type": "code",
      "source": [
        "cat_test_data.set_index('Complaint-ID',inplace=True)"
      ],
      "execution_count": 0,
      "outputs": []
    },
    {
      "metadata": {
        "id": "oDuFdyPgms2G",
        "colab_type": "code",
        "outputId": "8413dd16-fb25-4924-d04d-8d55be32fac0",
        "colab": {
          "base_uri": "https://localhost:8080/",
          "height": 227
        }
      },
      "cell_type": "code",
      "source": [
        "cat_test_data.head()"
      ],
      "execution_count": 0,
      "outputs": [
        {
          "output_type": "execute_result",
          "data": {
            "text/html": [
              "<div>\n",
              "<style scoped>\n",
              "    .dataframe tbody tr th:only-of-type {\n",
              "        vertical-align: middle;\n",
              "    }\n",
              "\n",
              "    .dataframe tbody tr th {\n",
              "        vertical-align: top;\n",
              "    }\n",
              "\n",
              "    .dataframe thead th {\n",
              "        text-align: right;\n",
              "    }\n",
              "</style>\n",
              "<table border=\"1\" class=\"dataframe\">\n",
              "  <thead>\n",
              "    <tr style=\"text-align: right;\">\n",
              "      <th></th>\n",
              "      <th>Transaction-Type</th>\n",
              "      <th>Complaint-reason</th>\n",
              "      <th>Company-response</th>\n",
              "      <th>Consumer-disputes</th>\n",
              "    </tr>\n",
              "    <tr>\n",
              "      <th>Complaint-ID</th>\n",
              "      <th></th>\n",
              "      <th></th>\n",
              "      <th></th>\n",
              "      <th></th>\n",
              "    </tr>\n",
              "  </thead>\n",
              "  <tbody>\n",
              "    <tr>\n",
              "      <th>Te-1</th>\n",
              "      <td>1.0</td>\n",
              "      <td>0.0</td>\n",
              "      <td>0.0</td>\n",
              "      <td>1.0</td>\n",
              "    </tr>\n",
              "    <tr>\n",
              "      <th>Te-2</th>\n",
              "      <td>0.0</td>\n",
              "      <td>0.0</td>\n",
              "      <td>0.0</td>\n",
              "      <td>0.0</td>\n",
              "    </tr>\n",
              "    <tr>\n",
              "      <th>Te-3</th>\n",
              "      <td>0.0</td>\n",
              "      <td>0.0</td>\n",
              "      <td>0.0</td>\n",
              "      <td>0.0</td>\n",
              "    </tr>\n",
              "    <tr>\n",
              "      <th>Te-4</th>\n",
              "      <td>0.0</td>\n",
              "      <td>0.0</td>\n",
              "      <td>0.0</td>\n",
              "      <td>1.0</td>\n",
              "    </tr>\n",
              "    <tr>\n",
              "      <th>Te-5</th>\n",
              "      <td>0.0</td>\n",
              "      <td>0.0</td>\n",
              "      <td>0.0</td>\n",
              "      <td>0.0</td>\n",
              "    </tr>\n",
              "  </tbody>\n",
              "</table>\n",
              "</div>"
            ],
            "text/plain": [
              "              Transaction-Type  Complaint-reason  Company-response  \\\n",
              "Complaint-ID                                                         \n",
              "Te-1                       1.0               0.0               0.0   \n",
              "Te-2                       0.0               0.0               0.0   \n",
              "Te-3                       0.0               0.0               0.0   \n",
              "Te-4                       0.0               0.0               0.0   \n",
              "Te-5                       0.0               0.0               0.0   \n",
              "\n",
              "              Consumer-disputes  \n",
              "Complaint-ID                     \n",
              "Te-1                        1.0  \n",
              "Te-2                        0.0  \n",
              "Te-3                        0.0  \n",
              "Te-4                        1.0  \n",
              "Te-5                        0.0  "
            ]
          },
          "metadata": {
            "tags": []
          },
          "execution_count": 186
        }
      ]
    }
  ]
}